{
 "cells": [
  {
   "cell_type": "code",
   "execution_count": 1,
   "metadata": {
    "colab": {
     "base_uri": "https://localhost:8080/"
    },
    "id": "sKx-eOkGxdDn",
    "outputId": "a4d21bc6-4ab4-4052-8308-ebdaf9c9f5fa"
   },
   "outputs": [
    {
     "name": "stdout",
     "output_type": "stream",
     "text": [
      "Requirement already satisfied: torch in c:\\users\\admin\\appdata\\local\\programs\\python\\python311\\lib\\site-packages (2.5.1)\n",
      "Requirement already satisfied: filelock in c:\\users\\admin\\appdata\\local\\programs\\python\\python311\\lib\\site-packages (from torch) (3.16.1)\n",
      "Requirement already satisfied: typing-extensions>=4.8.0 in c:\\users\\admin\\appdata\\roaming\\python\\python311\\site-packages (from torch) (4.12.2)\n",
      "Requirement already satisfied: networkx in c:\\users\\admin\\appdata\\local\\programs\\python\\python311\\lib\\site-packages (from torch) (3.4.2)\n",
      "Requirement already satisfied: jinja2 in c:\\users\\admin\\appdata\\local\\programs\\python\\python311\\lib\\site-packages (from torch) (3.1.4)\n",
      "Requirement already satisfied: fsspec in c:\\users\\admin\\appdata\\local\\programs\\python\\python311\\lib\\site-packages (from torch) (2024.10.0)\n",
      "Requirement already satisfied: sympy==1.13.1 in c:\\users\\admin\\appdata\\local\\programs\\python\\python311\\lib\\site-packages (from torch) (1.13.1)\n",
      "Requirement already satisfied: mpmath<1.4,>=1.1.0 in c:\\users\\admin\\appdata\\local\\programs\\python\\python311\\lib\\site-packages (from sympy==1.13.1->torch) (1.3.0)\n",
      "Requirement already satisfied: MarkupSafe>=2.0 in c:\\users\\admin\\appdata\\local\\programs\\python\\python311\\lib\\site-packages (from jinja2->torch) (3.0.2)\n",
      "Note: you may need to restart the kernel to use updated packages.\n"
     ]
    },
    {
     "name": "stderr",
     "output_type": "stream",
     "text": [
      "\n",
      "[notice] A new release of pip is available: 24.0 -> 24.3.1\n",
      "[notice] To update, run: python.exe -m pip install --upgrade pip\n"
     ]
    }
   ],
   "source": [
    "pip install torch"
   ]
  },
  {
   "cell_type": "code",
   "execution_count": 2,
   "metadata": {
    "colab": {
     "base_uri": "https://localhost:8080/"
    },
    "id": "BN-dwl9byAi9",
    "outputId": "085e4c44-bb41-42a9-8dd9-87a3f7fc21fa"
   },
   "outputs": [
    {
     "name": "stdout",
     "output_type": "stream",
     "text": [
      "Requirement already satisfied: torch_geometric in c:\\users\\admin\\appdata\\local\\programs\\python\\python311\\lib\\site-packages (2.6.1)\n",
      "Requirement already satisfied: aiohttp in c:\\users\\admin\\appdata\\local\\programs\\python\\python311\\lib\\site-packages (from torch_geometric) (3.11.6)\n",
      "Requirement already satisfied: fsspec in c:\\users\\admin\\appdata\\local\\programs\\python\\python311\\lib\\site-packages (from torch_geometric) (2024.10.0)\n",
      "Requirement already satisfied: jinja2 in c:\\users\\admin\\appdata\\local\\programs\\python\\python311\\lib\\site-packages (from torch_geometric) (3.1.4)\n",
      "Requirement already satisfied: numpy in c:\\users\\admin\\appdata\\local\\programs\\python\\python311\\lib\\site-packages (from torch_geometric) (2.0.2)\n",
      "Requirement already satisfied: psutil>=5.8.0 in c:\\users\\admin\\appdata\\roaming\\python\\python311\\site-packages (from torch_geometric) (6.1.0)\n",
      "Requirement already satisfied: pyparsing in c:\\users\\admin\\appdata\\local\\programs\\python\\python311\\lib\\site-packages (from torch_geometric) (3.2.0)\n",
      "Requirement already satisfied: requests in c:\\users\\admin\\appdata\\local\\programs\\python\\python311\\lib\\site-packages (from torch_geometric) (2.32.3)\n",
      "Requirement already satisfied: tqdm in c:\\users\\admin\\appdata\\local\\programs\\python\\python311\\lib\\site-packages (from torch_geometric) (4.67.0)\n",
      "Requirement already satisfied: aiohappyeyeballs>=2.3.0 in c:\\users\\admin\\appdata\\local\\programs\\python\\python311\\lib\\site-packages (from aiohttp->torch_geometric) (2.4.3)\n",
      "Requirement already satisfied: aiosignal>=1.1.2 in c:\\users\\admin\\appdata\\local\\programs\\python\\python311\\lib\\site-packages (from aiohttp->torch_geometric) (1.3.1)\n",
      "Requirement already satisfied: attrs>=17.3.0 in c:\\users\\admin\\appdata\\local\\programs\\python\\python311\\lib\\site-packages (from aiohttp->torch_geometric) (24.2.0)\n",
      "Requirement already satisfied: frozenlist>=1.1.1 in c:\\users\\admin\\appdata\\local\\programs\\python\\python311\\lib\\site-packages (from aiohttp->torch_geometric) (1.5.0)\n",
      "Requirement already satisfied: multidict<7.0,>=4.5 in c:\\users\\admin\\appdata\\local\\programs\\python\\python311\\lib\\site-packages (from aiohttp->torch_geometric) (6.1.0)\n",
      "Requirement already satisfied: propcache>=0.2.0 in c:\\users\\admin\\appdata\\local\\programs\\python\\python311\\lib\\site-packages (from aiohttp->torch_geometric) (0.2.0)\n",
      "Requirement already satisfied: yarl<2.0,>=1.17.0 in c:\\users\\admin\\appdata\\local\\programs\\python\\python311\\lib\\site-packages (from aiohttp->torch_geometric) (1.17.2)\n",
      "Requirement already satisfied: MarkupSafe>=2.0 in c:\\users\\admin\\appdata\\local\\programs\\python\\python311\\lib\\site-packages (from jinja2->torch_geometric) (3.0.2)\n",
      "Requirement already satisfied: charset-normalizer<4,>=2 in c:\\users\\admin\\appdata\\local\\programs\\python\\python311\\lib\\site-packages (from requests->torch_geometric) (3.4.0)\n",
      "Requirement already satisfied: idna<4,>=2.5 in c:\\users\\admin\\appdata\\local\\programs\\python\\python311\\lib\\site-packages (from requests->torch_geometric) (3.10)\n",
      "Requirement already satisfied: urllib3<3,>=1.21.1 in c:\\users\\admin\\appdata\\local\\programs\\python\\python311\\lib\\site-packages (from requests->torch_geometric) (2.2.3)\n",
      "Requirement already satisfied: certifi>=2017.4.17 in c:\\users\\admin\\appdata\\local\\programs\\python\\python311\\lib\\site-packages (from requests->torch_geometric) (2024.8.30)\n",
      "Requirement already satisfied: colorama in c:\\users\\admin\\appdata\\roaming\\python\\python311\\site-packages (from tqdm->torch_geometric) (0.4.6)\n",
      "Note: you may need to restart the kernel to use updated packages.\n"
     ]
    },
    {
     "name": "stderr",
     "output_type": "stream",
     "text": [
      "\n",
      "[notice] A new release of pip is available: 24.0 -> 24.3.1\n",
      "[notice] To update, run: python.exe -m pip install --upgrade pip\n"
     ]
    }
   ],
   "source": [
    "pip install torch_geometric"
   ]
  },
  {
   "cell_type": "code",
   "execution_count": 3,
   "metadata": {
    "id": "w5KiNPQe3REr"
   },
   "outputs": [],
   "source": [
    "%%capture\n",
    "!kaggle datasets download -d vitvhong/uplink-sum-rate\n",
    "!unzip uplink-sum-rate.zip -d ./uplink\n",
    "%cd uplink"
   ]
  },
  {
   "cell_type": "code",
   "execution_count": 3,
   "metadata": {
    "id": "wN6IrkF-yCm5"
   },
   "outputs": [],
   "source": [
    "import numpy as np\n",
    "import torch\n",
    "from torch_geometric.loader import  DataLoader\n",
    "from torch_geometric.data import HeteroData, Data, Dataset, Batch\n",
    "import torch.nn.functional as F\n",
    "from torch_geometric.nn import MessagePassing\n",
    "import torch.nn as nn\n",
    "from torch.nn import Sequential as Seq, Linear as Lin, ReLU, ELU, Sigmoid, BatchNorm1d as BN, ReLU6 as ReLU6\n",
    "import scipy.io\n",
    "from torch_geometric.nn import HeteroConv, SAGEConv\n",
    "import torch_geometric.nn as pyg_nn\n",
    "import torch_geometric.utils as pyg_utils"
   ]
  },
  {
   "cell_type": "code",
   "execution_count": 4,
   "metadata": {
    "id": "ocD0fKmFyEFm"
   },
   "outputs": [],
   "source": [
    "train_layouts = 2000\n",
    "test_layouts = 100"
   ]
  },
  {
   "cell_type": "code",
   "execution_count": 5,
   "metadata": {
    "colab": {
     "base_uri": "https://localhost:8080/"
    },
    "id": "Ws7v3Vhd4zZj",
    "outputId": "165120af-3c33-426c-8aae-0f8f5de915b5"
   },
   "outputs": [
    {
     "name": "stdout",
     "output_type": "stream",
     "text": [
      "File 1:\n",
      "Beta shape: (2000, 30, 10)\n",
      "Direct shape: (2000, 10)\n",
      "Cross shape: (2000, 10, 10)\n",
      "\n",
      "File 2:\n",
      "Beta shape: (2000, 50, 20)\n",
      "Direct shape: (2000, 20)\n",
      "Cross shape: (2000, 20, 20)\n",
      "\n",
      "File 3:\n",
      "Beta shape: (2000, 70, 10)\n",
      "Direct shape: (2000, 10)\n",
      "Cross shape: (2000, 10, 10)\n",
      "\n",
      "File 4:\n",
      "Beta shape: (2000, 100, 20)\n",
      "Direct shape: (2000, 20)\n",
      "Cross shape: (2000, 20, 20)\n",
      "\n"
     ]
    }
   ],
   "source": [
    "import scipy.io\n",
    "import numpy as np\n",
    "\n",
    "file_names = ['cf_train_10_30_sum.mat', 'cf_train_20_50_sum.mat', 'cf_train_10_70_sum.mat', 'cf_train_20_100_sum.mat']\n",
    "data_list = []\n",
    "\n",
    "for file_name in file_names:\n",
    "    data = scipy.io.loadmat(file_name)\n",
    "    beta_samples = data['betas'][:train_layouts]\n",
    "    direct_samples = data['directs'][:train_layouts]\n",
    "    cross_samples = data['corsses'].transpose(0, 2, 1)[:train_layouts]\n",
    "\n",
    "    data_list.append({\n",
    "        'beta': beta_samples,\n",
    "        'direct': direct_samples,\n",
    "        'cross': cross_samples\n",
    "    })\n",
    "\n",
    "for i, file_data in enumerate(data_list):\n",
    "    print(f\"File {i + 1}:\")\n",
    "    print(\"Beta shape:\", file_data['beta'].shape)\n",
    "    print(\"Direct shape:\", file_data['direct'].shape)\n",
    "    print(\"Cross shape:\", file_data['cross'].shape)\n",
    "    print()\n"
   ]
  },
  {
   "cell_type": "code",
   "execution_count": 7,
   "metadata": {
    "id": "M1bZtpGoyG0w"
   },
   "outputs": [],
   "source": [
    "test_data = scipy.io.loadmat('30_10.mat')\n",
    "beta_test = test_data['betas']\n",
    "direct_test = test_data['directs']\n",
    "cross_test = test_data['corsses'].transpose(0,2,1)\n",
    "opt_rates = test_data['R_cf_opt_min']"
   ]
  },
  {
   "cell_type": "code",
   "execution_count": 8,
   "metadata": {
    "id": "YI0k2njoyLDW"
   },
   "outputs": [],
   "source": [
    "def normalize_data(train_data,test_data):\n",
    "    train_std = np.std(train_data)\n",
    "    norm_train = (train_data)/train_std\n",
    "    norm_test = (test_data)/train_std\n",
    "    return norm_train, norm_test\n",
    "norm_train_losses_10_30, norm_test_losses = normalize_data(data_list[0]['beta']**(1/2), beta_test**(1/2) )\n",
    "norm_train_losses_20_50, _ = normalize_data(data_list[1]['beta']**(1/2), beta_test**(1/2) )\n",
    "norm_train_losses_10_70, _ = normalize_data(data_list[2]['beta']**(1/2), beta_test**(1/2) )\n",
    "norm_train_losses_20_100, _ = normalize_data(data_list[3]['beta']**(1/2), beta_test**(1/2) )"
   ]
  },
  {
   "cell_type": "code",
   "execution_count": 9,
   "metadata": {
    "id": "lPHSzi7OyNmw"
   },
   "outputs": [],
   "source": [
    "class PCDataset(Dataset):\n",
    "    def __init__(self, norm_losses, direct, cross, KM):\n",
    "        self.norm_losses = norm_losses\n",
    "        self.direct = torch.tensor(direct, dtype=torch.float)\n",
    "        self.cross = torch.tensor(cross, dtype=torch.float)\n",
    "        self.KM = KM\n",
    "        self.get_cg()\n",
    "        self.process()\n",
    "\n",
    "    def build_graph(self, idx):\n",
    "        edge_feature = self.norm_losses[idx, :, :].reshape((self.KM[0] * self.KM[1], 1), order='F')\n",
    "        edge_feature = np.concatenate((edge_feature, np.ones_like(edge_feature)), axis=-1)\n",
    "        edge_feature = torch.tensor(edge_feature, dtype=torch.float)\n",
    "\n",
    "        edge_index = torch.tensor(self.adj, dtype=torch.long).t().contiguous()\n",
    "        edge_index_t = torch.tensor(self.adj_t, dtype=torch.long).t().contiguous()\n",
    "        ue_features = torch.ones((self.KM[0], 1))\n",
    "        ap_features = torch.ones((self.KM[1], 1))\n",
    "\n",
    "        data = HeteroData()\n",
    "        data['UE'].x = ue_features\n",
    "        data['AP'].x = ap_features\n",
    "        data['UE', 'com-by', 'AP'].edge_index = edge_index\n",
    "        data['UE', 'com-by', 'AP'].edge_attr = edge_feature\n",
    "        data['AP', 'com', 'UE'].edge_index = edge_index_t\n",
    "        data['AP', 'com', 'UE'].edge_attr = edge_feature\n",
    "\n",
    "        return data\n",
    "\n",
    "    def get_cg(self):\n",
    "        self.adj = []\n",
    "        self.adj_t = []\n",
    "        for i in range(self.KM[0]):\n",
    "            for j in range(self.KM[1]):\n",
    "                self.adj.append([i, j])\n",
    "                self.adj_t.append([j, i])\n",
    "\n",
    "    def process(self):\n",
    "        self.graph_list = [self.build_graph(i) for i in range(len(self.direct))]\n",
    "\n",
    "    def __len__(self):\n",
    "        return len(self.direct)\n",
    "\n",
    "    def __getitem__(self, index):\n",
    "        return self.graph_list[index], self.direct[index], self.cross[index]"
   ]
  },
  {
   "cell_type": "code",
   "execution_count": 10,
   "metadata": {
    "id": "DX78nRLJyPxZ"
   },
   "outputs": [],
   "source": [
    "def collate(samples):\n",
    "    '''Pytorch Geometric collate function'''\n",
    "    graphs, direct, cross = map(list, zip(*samples))\n",
    "    batched_graph = Batch.from_data_list(graphs)\n",
    "    return batched_graph, torch.stack(direct), torch.stack(cross)"
   ]
  },
  {
   "cell_type": "code",
   "execution_count": 11,
   "metadata": {
    "id": "hniVi3Z15ILD"
   },
   "outputs": [],
   "source": [
    "train_data_10_30 = PCDataset(norm_train_losses_10_30, data_list[0]['direct'], data_list[0]['cross'], (10, 30))\n",
    "train_data_20_50 = PCDataset(norm_train_losses_20_50, data_list[1]['direct'], data_list[1]['cross'], (20, 50))\n",
    "train_data_10_70 = PCDataset(norm_train_losses_10_70, data_list[2]['direct'], data_list[2]['cross'], (10, 70))\n",
    "train_data_20_100 = PCDataset(norm_train_losses_20_100, data_list[3]['direct'], data_list[3]['cross'], (20, 100))"
   ]
  },
  {
   "cell_type": "code",
   "execution_count": 12,
   "metadata": {
    "id": "Y7hZPV-zyV0T"
   },
   "outputs": [],
   "source": [
    "batch_size = 64\n",
    "test_loader = DataLoader(test_data, test_layouts, shuffle=False, collate_fn=collate)\n",
    "train_loader_10_30 = DataLoader(train_data_10_30, batch_size, shuffle=True, collate_fn=collate)\n",
    "train_loader_20_50 = DataLoader(train_data_20_50, batch_size, shuffle=True, collate_fn=collate)\n",
    "train_loader_10_70 = DataLoader(train_data_10_70, batch_size, shuffle=True, collate_fn=collate)\n",
    "train_loader_20_100 = DataLoader(train_data_20_100, batch_size, shuffle=True, collate_fn=collate)"
   ]
  },
  {
   "cell_type": "code",
   "execution_count": 13,
   "metadata": {
    "id": "hAnvUvt9yXFM"
   },
   "outputs": [],
   "source": [
    "def sum_rate_loss(allocs, directlink_channel_losses, crosslink_channel_losses, test_mode = False):\n",
    "    SINRs_numerators = allocs * directlink_channel_losses**2\n",
    "    SINRs_denominators = torch.squeeze(torch.matmul(crosslink_channel_losses, torch.unsqueeze(allocs, axis=-1))) + directlink_channel_losses\n",
    "    SINRs = SINRs_numerators / SINRs_denominators\n",
    "    rates = torch.log2(1 + SINRs)\n",
    "    min_rate = torch.sum(rates, dim = 1) # take sum\n",
    "    if test_mode:\n",
    "        return min_rate\n",
    "    else:\n",
    "        return -torch.mean(min_rate)"
   ]
  },
  {
   "cell_type": "code",
   "execution_count": 14,
   "metadata": {
    "id": "Gzm7vhUIyYRM"
   },
   "outputs": [],
   "source": [
    "def MLP(channels, batch_norm=True):\n",
    "    return Seq(*[\n",
    "        Seq(Lin(channels[i - 1], channels[i]), ReLU(), BN(channels[i]))\n",
    "        for i in range(1, len(channels))\n",
    "    ])\n",
    "class EdgeConv(MessagePassing):\n",
    "    def __init__(self, input_dim, node_dim, **kwargs):\n",
    "        super(EdgeConv, self).__init__(aggr='mean')\n",
    "        self.lin = MLP([input_dim, 32])\n",
    "        self.res_lin = Lin(node_dim, 32)\n",
    "        self.bn = BN(32)\n",
    "\n",
    "    def forward(self, x, edge_index, edge_attr):\n",
    "\n",
    "        feat_src, feat_dst = x\n",
    "\n",
    "\n",
    "        out = self.propagate(edge_index=edge_index, x=(feat_src, feat_dst), edge_attr=edge_attr)\n",
    "\n",
    "\n",
    "        return self.bn(out + self.res_lin(feat_dst))\n",
    "\n",
    "    def message(self, x_j, x_i, edge_attr):\n",
    "        out = torch.cat([x_j, x_i, edge_attr], dim=1)\n",
    "        return self.lin(out)\n",
    "\n",
    "    def update(self, aggr_out):\n",
    "        return aggr_out\n",
    "\n"
   ]
  },
  {
   "cell_type": "code",
   "execution_count": 15,
   "metadata": {
    "id": "qeKAsO5uycPo"
   },
   "outputs": [],
   "source": [
    "class RGCN(nn.Module):\n",
    "    def __init__(self):\n",
    "        super(RGCN, self).__init__()\n",
    "        self.conv1 = HeteroConv({\n",
    "            ('UE', 'com-by', 'AP'): EdgeConv(4, 1),\n",
    "            ('AP', 'com', 'UE'): EdgeConv(4, 1)\n",
    "        }, aggr='sum')\n",
    "\n",
    "        self.conv2 = HeteroConv({\n",
    "            ('UE', 'com-by', 'AP'): EdgeConv(66, 32),\n",
    "            ('AP', 'com', 'UE'): EdgeConv(66, 32)\n",
    "        }, aggr='sum')\n",
    "\n",
    "        self.conv3 = HeteroConv({\n",
    "            ('UE', 'com-by', 'AP'): EdgeConv(66, 32),\n",
    "            ('AP', 'com', 'UE'): EdgeConv(66, 32)\n",
    "        }, aggr='sum')\n",
    "\n",
    "        self.mlp = MLP([32, 16])\n",
    "        self.mlp = nn.Sequential(*[self.mlp, Seq(Lin(16, 1), Sigmoid())])\n",
    "\n",
    "    def forward(self,x_dict, edge_index_dict, edge_attr_dict):\n",
    "        out = self.conv1(x_dict, edge_index_dict, edge_attr_dict)\n",
    "        out = self.conv2(out, edge_index_dict, edge_attr_dict)\n",
    "        out = self.conv3(out, edge_index_dict, edge_attr_dict)\n",
    "        out = self.mlp(out['UE'])\n",
    "        return out\n"
   ]
  },
  {
   "cell_type": "code",
   "execution_count": 16,
   "metadata": {
    "id": "DEKf56HSydRG"
   },
   "outputs": [],
   "source": [
    "model = RGCN()\n",
    "\n",
    "optimizer = torch.optim.Adam(model.parameters(), lr=8e-5)\n",
    "scheduler = torch.optim.lr_scheduler.StepLR(optimizer, step_size=10, gamma=0.5)"
   ]
  },
  {
   "cell_type": "code",
   "execution_count": 17,
   "metadata": {
    "id": "6eqzzLRayevc"
   },
   "outputs": [],
   "source": [
    "def train(train_loader):\n",
    "    \"\"\" Train for one epoch. \"\"\"\n",
    "    model.train()\n",
    "    loss_all = 0\n",
    "    for batch_idx, (data, d_train, c_train) in enumerate(train_loader):\n",
    "        K = d_train.shape[-1]\n",
    "        n = len(data['UE'].x)\n",
    "        bs = len(data['UE'].x) // K\n",
    "\n",
    "        optimizer.zero_grad()\n",
    "        user_feats = data['AP'].x\n",
    "        item_feats = data['UE'].x\n",
    "        node_features = {'AP': user_feats, 'UE': item_feats}\n",
    "        output = model(node_features, data.edge_index_dict, data.edge_attr_dict).reshape(bs, -1)\n",
    "\n",
    "        loss = sum_rate_loss(output, d_train, c_train)\n",
    "        loss.backward()\n",
    "\n",
    "        loss_all += loss.item() * bs\n",
    "        optimizer.step()\n",
    "\n",
    "    return loss_all / len(train_loader.dataset)\n",
    "def test(loader):\n",
    "    model.eval()\n",
    "    correct = 0\n",
    "    with torch.no_grad():\n",
    "        for (data, d_test, c_test) in loader:\n",
    "            K = d_test.shape[-1]\n",
    "            n = len(data['UE'].x)\n",
    "            bs = len(data['UE'].x) // K\n",
    "            user_feats = data['AP'].x\n",
    "            item_feats = data['UE'].x\n",
    "            node_features = {'AP': user_feats, 'UE': item_feats}\n",
    "            output = model(node_features, data.edge_index_dict, data.edge_attr_dict).reshape(bs, -1)\n",
    "            loss = sum_rate_loss(output, d_test, c_test)\n",
    "            correct += loss.item() * bs\n",
    "\n",
    "    return correct / len(loader.dataset)\n"
   ]
  },
  {
   "cell_type": "code",
   "execution_count": 22,
   "metadata": {
    "colab": {
     "base_uri": "https://localhost:8080/"
    },
    "id": "DKfIfVrk7nlo",
    "outputId": "ede03203-9ed2-4874-d5af-362c0ae385c7"
   },
   "outputs": [
    {
     "name": "stdout",
     "output_type": "stream",
     "text": [
      "Epoch 000, Train Rate: -20.9381, Test Rate: -10.3113\n",
      "Epoch 001, Train Rate: -20.9437, Test Rate: -10.3210\n",
      "Epoch 002, Train Rate: -22.5321, Test Rate: -11.0721\n",
      "Epoch 003, Train Rate: -22.9196, Test Rate: -11.3573\n",
      "Epoch 004, Train Rate: -23.4441, Test Rate: -11.6269\n",
      "Epoch 005, Train Rate: -23.6645, Test Rate: -11.7543\n",
      "Epoch 006, Train Rate: -23.5009, Test Rate: -11.6966\n",
      "Epoch 007, Train Rate: -23.3212, Test Rate: -11.6212\n",
      "Epoch 008, Train Rate: -23.7072, Test Rate: -11.8124\n",
      "Epoch 009, Train Rate: -23.3518, Test Rate: -11.6636\n",
      "Epoch 010, Train Rate: -23.8204, Test Rate: -11.9139\n",
      "Epoch 011, Train Rate: -23.3906, Test Rate: -11.6725\n",
      "Epoch 012, Train Rate: -23.8588, Test Rate: -11.8654\n",
      "Epoch 013, Train Rate: -23.9262, Test Rate: -11.9707\n",
      "Epoch 014, Train Rate: -24.0043, Test Rate: -12.0066\n",
      "Epoch 015, Train Rate: -23.3292, Test Rate: -11.6109\n",
      "Epoch 016, Train Rate: -24.2018, Test Rate: -12.1033\n",
      "Epoch 017, Train Rate: -23.2270, Test Rate: -11.5798\n",
      "Epoch 018, Train Rate: -23.5883, Test Rate: -11.8081\n",
      "Epoch 019, Train Rate: -23.7679, Test Rate: -11.9065\n",
      "Epoch 020, Train Rate: -23.3688, Test Rate: -11.6581\n",
      "Epoch 021, Train Rate: -24.1190, Test Rate: -12.0877\n",
      "Epoch 022, Train Rate: -23.3382, Test Rate: -11.6455\n",
      "Epoch 023, Train Rate: -23.6521, Test Rate: -11.8401\n",
      "Epoch 024, Train Rate: -23.3921, Test Rate: -11.6736\n",
      "Epoch 025, Train Rate: -24.2595, Test Rate: -12.1712\n",
      "Epoch 026, Train Rate: -23.7944, Test Rate: -11.8578\n",
      "Epoch 027, Train Rate: -24.3752, Test Rate: -12.2041\n",
      "Epoch 028, Train Rate: -24.2193, Test Rate: -12.1463\n",
      "Epoch 029, Train Rate: -24.2470, Test Rate: -12.1226\n"
     ]
    }
   ],
   "source": [
    "for epoch in range(0, 30):\n",
    "    if epoch % 1 == 0:\n",
    "        with torch.no_grad():\n",
    "            test_rate = test(test_loader)\n",
    "            train_rate = test(train_loader_20_50)\n",
    "        print(f'Epoch {epoch:03d}, Train Rate: {train_rate:.4f}, Test Rate: {test_rate:.4f}')\n",
    "\n",
    "    train(train_loader_20_50)\n",
    "    scheduler.step()\n"
   ]
  },
  {
   "cell_type": "code",
   "execution_count": 23,
   "metadata": {
    "colab": {
     "base_uri": "https://localhost:8080/"
    },
    "id": "28NFazY37GnU",
    "outputId": "f62649e8-0f05-49a3-8e8a-51a3ec8d7a11"
   },
   "outputs": [
    {
     "name": "stdout",
     "output_type": "stream",
     "text": [
      "Epoch 000, Train Rate: -17.7068\n",
      "Epoch 001, Train Rate: -18.0315\n",
      "Epoch 002, Train Rate: -18.1851\n",
      "Epoch 003, Train Rate: -18.1736\n",
      "Epoch 004, Train Rate: -18.2943\n",
      "Epoch 005, Train Rate: -18.1686\n",
      "Epoch 006, Train Rate: -18.2024\n",
      "Epoch 007, Train Rate: -18.0939\n",
      "Epoch 008, Train Rate: -18.2756\n",
      "Epoch 009, Train Rate: -17.8702\n",
      "Epoch 010, Train Rate: -18.1516\n",
      "Epoch 011, Train Rate: -18.2802\n",
      "Epoch 012, Train Rate: -18.2469\n",
      "Epoch 013, Train Rate: -18.1846\n",
      "Epoch 014, Train Rate: -18.2176\n",
      "Epoch 015, Train Rate: -18.2043\n",
      "Epoch 016, Train Rate: -18.2251\n",
      "Epoch 017, Train Rate: -18.2923\n",
      "Epoch 018, Train Rate: -18.2859\n",
      "Epoch 019, Train Rate: -18.2777\n",
      "Epoch 020, Train Rate: -18.2919\n",
      "Epoch 021, Train Rate: -18.2674\n",
      "Epoch 022, Train Rate: -18.2766\n",
      "Epoch 023, Train Rate: -18.2630\n",
      "Epoch 024, Train Rate: -18.2853\n",
      "Epoch 025, Train Rate: -18.2462\n",
      "Epoch 026, Train Rate: -18.2765\n",
      "Epoch 027, Train Rate: -18.2759\n",
      "Epoch 028, Train Rate: -18.2845\n",
      "Epoch 029, Train Rate: -18.2415\n"
     ]
    }
   ],
   "source": [
    "for epoch in range(0, 30):\n",
    "    if epoch % 1 == 0:\n",
    "        with torch.no_grad():\n",
    "            test_rate = test(test_loader)\n",
    "            train_rate = test(train_loader_10_70)\n",
    "        print(f'Epoch {epoch:03d}, Train Rate: {train_rate:.4f}')\n",
    "\n",
    "    train(train_loader_10_70)\n",
    "    scheduler.step()\n"
   ]
  },
  {
   "cell_type": "code",
   "execution_count": 24,
   "metadata": {
    "colab": {
     "base_uri": "https://localhost:8080/"
    },
    "id": "zAgkroRDOQyJ",
    "outputId": "0e07fbf4-8a44-4818-91d8-33a10d44bd4d"
   },
   "outputs": [
    {
     "name": "stdout",
     "output_type": "stream",
     "text": [
      "Epoch 000, Train Rate: -34.9626\n",
      "Epoch 001, Train Rate: -35.0503\n",
      "Epoch 002, Train Rate: -35.0943\n",
      "Epoch 003, Train Rate: -34.9618\n",
      "Epoch 004, Train Rate: -35.0041\n",
      "Epoch 005, Train Rate: -35.0510\n",
      "Epoch 006, Train Rate: -35.0911\n",
      "Epoch 007, Train Rate: -35.0461\n",
      "Epoch 008, Train Rate: -35.0739\n",
      "Epoch 009, Train Rate: -35.1075\n",
      "Epoch 010, Train Rate: -35.0876\n",
      "Epoch 011, Train Rate: -35.0728\n",
      "Epoch 012, Train Rate: -35.0499\n",
      "Epoch 013, Train Rate: -35.0891\n",
      "Epoch 014, Train Rate: -35.0583\n",
      "Epoch 015, Train Rate: -35.0697\n",
      "Epoch 016, Train Rate: -35.0843\n",
      "Epoch 017, Train Rate: -35.0297\n",
      "Epoch 018, Train Rate: -35.0495\n",
      "Epoch 019, Train Rate: -35.0468\n",
      "Epoch 020, Train Rate: -35.0930\n",
      "Epoch 021, Train Rate: -35.0903\n",
      "Epoch 022, Train Rate: -35.0818\n",
      "Epoch 023, Train Rate: -35.0282\n",
      "Epoch 024, Train Rate: -35.0744\n",
      "Epoch 025, Train Rate: -35.0830\n",
      "Epoch 026, Train Rate: -35.0644\n",
      "Epoch 027, Train Rate: -35.0414\n",
      "Epoch 028, Train Rate: -35.0786\n",
      "Epoch 029, Train Rate: -35.0660\n"
     ]
    }
   ],
   "source": [
    "for epoch in range(0, 30):\n",
    "    if epoch % 1 == 0:\n",
    "        with torch.no_grad():\n",
    "            train_rate = test(train_loader_20_100)\n",
    "        print(f'Epoch {epoch:03d}, Train Rate: {train_rate:.4f}')\n",
    "\n",
    "    train(train_loader_20_100)\n",
    "    scheduler.step()\n"
   ]
  },
  {
   "cell_type": "markdown",
   "metadata": {
    "id": "jeHNowEAsNza"
   },
   "source": [
    "#HQGNN"
   ]
  },
  {
   "cell_type": "code",
   "execution_count": 18,
   "metadata": {
    "colab": {
     "base_uri": "https://localhost:8080/"
    },
    "id": "YmC6eTPmsMB1",
    "outputId": "e33d3a6e-abe4-4f29-cf44-752119f7eef9"
   },
   "outputs": [
    {
     "name": "stdout",
     "output_type": "stream",
     "text": [
      "Requirement already satisfied: pennylane in c:\\users\\admin\\appdata\\local\\programs\\python\\python311\\lib\\site-packages (0.39.0)\n",
      "Requirement already satisfied: numpy<2.1 in c:\\users\\admin\\appdata\\local\\programs\\python\\python311\\lib\\site-packages (from pennylane) (2.0.2)\n",
      "Requirement already satisfied: scipy in c:\\users\\admin\\appdata\\local\\programs\\python\\python311\\lib\\site-packages (from pennylane) (1.14.1)\n",
      "Requirement already satisfied: networkx in c:\\users\\admin\\appdata\\local\\programs\\python\\python311\\lib\\site-packages (from pennylane) (3.4.2)\n",
      "Requirement already satisfied: rustworkx>=0.14.0 in c:\\users\\admin\\appdata\\local\\programs\\python\\python311\\lib\\site-packages (from pennylane) (0.15.1)\n",
      "Requirement already satisfied: autograd in c:\\users\\admin\\appdata\\local\\programs\\python\\python311\\lib\\site-packages (from pennylane) (1.7.0)\n",
      "Requirement already satisfied: toml in c:\\users\\admin\\appdata\\local\\programs\\python\\python311\\lib\\site-packages (from pennylane) (0.10.2)\n",
      "Requirement already satisfied: appdirs in c:\\users\\admin\\appdata\\local\\programs\\python\\python311\\lib\\site-packages (from pennylane) (1.4.4)\n",
      "Requirement already satisfied: autoray>=0.6.11 in c:\\users\\admin\\appdata\\local\\programs\\python\\python311\\lib\\site-packages (from pennylane) (0.7.0)\n",
      "Requirement already satisfied: cachetools in c:\\users\\admin\\appdata\\local\\programs\\python\\python311\\lib\\site-packages (from pennylane) (5.5.0)\n",
      "Requirement already satisfied: pennylane-lightning>=0.39 in c:\\users\\admin\\appdata\\local\\programs\\python\\python311\\lib\\site-packages (from pennylane) (0.39.0)\n",
      "Requirement already satisfied: requests in c:\\users\\admin\\appdata\\local\\programs\\python\\python311\\lib\\site-packages (from pennylane) (2.32.3)\n",
      "Requirement already satisfied: typing-extensions in c:\\users\\admin\\appdata\\roaming\\python\\python311\\site-packages (from pennylane) (4.12.2)\n",
      "Requirement already satisfied: packaging in c:\\users\\admin\\appdata\\roaming\\python\\python311\\site-packages (from pennylane) (24.2)\n",
      "Requirement already satisfied: charset-normalizer<4,>=2 in c:\\users\\admin\\appdata\\local\\programs\\python\\python311\\lib\\site-packages (from requests->pennylane) (3.4.0)\n",
      "Requirement already satisfied: idna<4,>=2.5 in c:\\users\\admin\\appdata\\local\\programs\\python\\python311\\lib\\site-packages (from requests->pennylane) (3.10)\n",
      "Requirement already satisfied: urllib3<3,>=1.21.1 in c:\\users\\admin\\appdata\\local\\programs\\python\\python311\\lib\\site-packages (from requests->pennylane) (2.2.3)\n",
      "Requirement already satisfied: certifi>=2017.4.17 in c:\\users\\admin\\appdata\\local\\programs\\python\\python311\\lib\\site-packages (from requests->pennylane) (2024.8.30)\n",
      "Note: you may need to restart the kernel to use updated packages.\n"
     ]
    },
    {
     "name": "stderr",
     "output_type": "stream",
     "text": [
      "\n",
      "[notice] A new release of pip is available: 24.0 -> 24.3.1\n",
      "[notice] To update, run: python.exe -m pip install --upgrade pip\n"
     ]
    }
   ],
   "source": [
    "pip install pennylane"
   ]
  },
  {
   "cell_type": "code",
   "execution_count": 19,
   "metadata": {
    "id": "vL4eUlonsft3"
   },
   "outputs": [],
   "source": [
    "import pennylane as qml\n",
    "from pennylane import numpy as np\n",
    "\n",
    "n_qubits = 5\n",
    "dev = qml.device('default.qubit', wires=n_qubits)\n"
   ]
  },
  {
   "cell_type": "code",
   "execution_count": 20,
   "metadata": {
    "id": "NIGzxSuns7cY"
   },
   "outputs": [],
   "source": [
    "n_layers_circuit_X = 2\n",
    "def circuit_X_entangling(weights, n_qubits):\n",
    "    qml.CRX(weights[-1], wires=[n_qubits-1, 0])\n",
    "    for i in range(n_qubits-1):\n",
    "        qml.CRX(weights[i], wires=[i, (i+1)])\n",
    "\n",
    "@qml.qnode(dev, interface='torch')\n",
    "def circuit_X(inputs, layer_weights):\n",
    "    qml.AmplitudeEmbedding(features=inputs, wires=range(n_qubits), normalize=True, pad_with=0.)\n",
    "    for l in range(n_layers_circuit_X):\n",
    "        circuit_X_entangling(layer_weights[l], n_qubits)\n",
    "    return qml.probs(wires=range(n_qubits))\n",
    "weight_shapes_circuit_X = { \"layer_weights\": (n_layers_circuit_X, n_qubits)}"
   ]
  },
  {
   "cell_type": "code",
   "execution_count": 21,
   "metadata": {
    "id": "VzbGEZvctGjN"
   },
   "outputs": [],
   "source": [
    "n_layers_circuit_Z = 2\n",
    "def circuit_Z_entangling(weights, n_qubits):\n",
    "    qml.CRZ(weights[-1], wires=[n_qubits - 1, 0])\n",
    "    for i in range(n_qubits - 1):\n",
    "        qml.CRZ(weights[i], wires=[i, i + 1])\n",
    "\n",
    "@qml.qnode(dev, interface='torch')\n",
    "def circuit_Z(inputs, layer_weights):\n",
    "    qml.AmplitudeEmbedding(features=inputs, wires=range(n_qubits), normalize=True, pad_with=0.)\n",
    "    for l in range(n_layers_circuit_Z):\n",
    "        circuit_Z_entangling(layer_weights[l], n_qubits)\n",
    "    return qml.probs(wires=range(n_qubits))\n",
    "weight_shapes_circuit_Z = { \"layer_weights\": (n_layers_circuit_Z, n_qubits)}"
   ]
  },
  {
   "cell_type": "code",
   "execution_count": 22,
   "metadata": {
    "id": "TYp7bavltJur"
   },
   "outputs": [],
   "source": [
    "def MLP(channels, batch_norm=True):\n",
    "    return Seq(*[\n",
    "        Seq(Lin(channels[i - 1], channels[i]), ReLU(), BN(channels[i]))\n",
    "        for i in range(1, len(channels))\n",
    "    ])\n",
    "class Q_layer(MessagePassing):\n",
    "    def __init__(self,src_dim, dst_dim, edge_dim, **kwargs):\n",
    "        super(Q_layer, self).__init__(aggr='mean')  # mean aggregation\n",
    "        self.lin_res = qml.qnn.TorchLayer(circuit_Z, weight_shapes_circuit_Z)\n",
    "        self.lin_qml = qml.qnn.TorchLayer(circuit_X, weight_shapes_circuit_X)\n",
    "        self.in_linear = nn.Linear(src_dim + dst_dim + edge_dim, 2 ** n_qubits)\n",
    "        self.bn = BN(2 ** n_qubits)\n",
    "\n",
    "    def forward(self, x, edge_index, edge_attr):\n",
    "        feat_src, feat_dst = x\n",
    "        out = self.propagate(edge_index=edge_index, x=(feat_src, feat_dst), edge_attr=edge_attr)\n",
    "        out = out + self.lin_res(feat_dst)\n",
    "        return self.bn(out)\n",
    "\n",
    "    def message(self, x_j, x_i, edge_attr):\n",
    "        out = torch.cat([x_j, x_i, edge_attr], dim=1)\n",
    "        out = self.in_linear(out)\n",
    "        out = self.lin_qml(out)\n",
    "        return out\n",
    "\n",
    "    def update(self, aggr_out):\n",
    "        return aggr_out"
   ]
  },
  {
   "cell_type": "code",
   "execution_count": 23,
   "metadata": {
    "id": "YxbKRpHCtNP5"
   },
   "outputs": [],
   "source": [
    "class RGCN_Hybrid_mid(nn.Module):\n",
    "    def __init__(self):\n",
    "        super(RGCN_Hybrid_mid, self).__init__()\n",
    "        out_dim = 2**n_qubits\n",
    "        edge_dim = 2\n",
    "\n",
    "        self.conv1 = HeteroConv({\n",
    "            ('UE', 'com-by', 'AP'): Q_layer(1, 1, edge_dim),\n",
    "            ('AP', 'com', 'UE'): Q_layer(1, 1, edge_dim,)\n",
    "        }, aggr='mean')\n",
    "\n",
    "        self.conv2 = HeteroConv({\n",
    "            ('UE', 'com-by', 'AP'): Q_layer(out_dim, out_dim, edge_dim),\n",
    "            ('AP', 'com', 'UE'): Q_layer(out_dim, out_dim, edge_dim)\n",
    "        }, aggr='mean')\n",
    "\n",
    "        self.conv3 = HeteroConv({\n",
    "             ('UE', 'com-by', 'AP'): Q_layer(out_dim, out_dim, edge_dim),\n",
    "             ('AP', 'com', 'UE'): Q_layer(out_dim, out_dim, edge_dim)\n",
    "         }, aggr='mean')\n",
    "\n",
    "\n",
    "        self.mlp = MLP([32, 16])\n",
    "        self.mlp = nn.Sequential(*[self.mlp, Seq(Lin(16, 1), Sigmoid())])\n",
    "    def forward(self, x_dict, edge_index_dict, edge_attr_dict):\n",
    "        out = self.conv1(x_dict, edge_index_dict, edge_attr_dict)\n",
    "        out = self.conv2(out, edge_index_dict, edge_attr_dict)\n",
    "        out = self.conv3(out, edge_index_dict, edge_attr_dict)\n",
    "        out = self.mlp(out['UE'])\n",
    "        return out"
   ]
  },
  {
   "cell_type": "code",
   "execution_count": 24,
   "metadata": {
    "id": "b8JIFNR0tbzW"
   },
   "outputs": [],
   "source": [
    "model_qml_mid = RGCN_Hybrid_mid().to()\n",
    "\n",
    "optimizer_qml_mid = torch.optim.Adam(model_qml_mid.parameters(), lr=5e-4)\n",
    "scheduler_qml_mid = torch.optim.lr_scheduler.StepLR(optimizer_qml_mid, step_size=10, gamma=0.4)"
   ]
  },
  {
   "cell_type": "code",
   "execution_count": 25,
   "metadata": {
    "id": "9Xu97-Vftddr"
   },
   "outputs": [],
   "source": [
    "def train_model(epoch, model, optimizer, train_loader):\n",
    "    \"\"\" Train for one epoch. \"\"\"\n",
    "    model.train()\n",
    "    loss_all = 0\n",
    "    for batch_idx, (data, d_train, c_train) in enumerate(train_loader):\n",
    "        K = d_train.shape[-1]\n",
    "        n = len(data['UE'].x)\n",
    "        bs = len(data['UE'].x) // K\n",
    "\n",
    "        optimizer.zero_grad()\n",
    "        user_feats = data['AP'].x\n",
    "        item_feats = data['UE'].x\n",
    "        node_features = {'AP': user_feats, 'UE': item_feats}\n",
    "        output = model(node_features, data.edge_index_dict, data.edge_attr_dict).reshape(bs, -1)\n",
    "\n",
    "        loss = sum_rate_loss(output, d_train, c_train)\n",
    "        loss.backward()\n",
    "\n",
    "        loss_all += loss.item() * bs\n",
    "        optimizer.step()\n",
    "\n",
    "    return loss_all / len(train_loader.dataset)\n",
    "\n",
    "def test_model(loader, model):\n",
    "    model.eval()\n",
    "    correct = 0\n",
    "    with torch.no_grad():\n",
    "        for (data, d_test, c_test) in loader:\n",
    "            K = d_test.shape[-1]\n",
    "            n = len(data['UE'].x)\n",
    "            bs = len(data['UE'].x) // K\n",
    "\n",
    "            user_feats = data['AP'].x\n",
    "            item_feats = data['UE'].x\n",
    "            node_features = {'AP': user_feats, 'UE': item_feats}\n",
    "\n",
    "            output = model(node_features, data.edge_index_dict, data.edge_attr_dict).reshape(bs, -1)\n",
    "\n",
    "            loss = sum_rate_loss(output, d_test, c_test)\n",
    "            correct += loss.item() * bs\n",
    "\n",
    "    return correct / len(loader.dataset)"
   ]
  },
  {
   "cell_type": "code",
   "execution_count": 39,
   "metadata": {
    "colab": {
     "base_uri": "https://localhost:8080/"
    },
    "id": "Y7v5vkjDCvNQ",
    "outputId": "feee5fb5-1320-4625-b345-4af8639c2905"
   },
   "outputs": [
    {
     "name": "stdout",
     "output_type": "stream",
     "text": [
      "Epoch 000, Train Rate: -20.9274\n",
      "Epoch 001, Train Rate: -20.9062\n",
      "Epoch 002, Train Rate: -20.5880\n",
      "Epoch 003, Train Rate: -21.4930\n",
      "Epoch 004, Train Rate: -22.1978\n",
      "Epoch 005, Train Rate: -21.9306\n",
      "Epoch 006, Train Rate: -18.0349\n",
      "Epoch 007, Train Rate: -20.3434\n",
      "Epoch 008, Train Rate: -21.6004\n",
      "Epoch 009, Train Rate: -22.6029\n",
      "Epoch 010, Train Rate: -22.7232\n",
      "Epoch 011, Train Rate: -24.1257\n",
      "Epoch 012, Train Rate: -23.9064\n",
      "Epoch 013, Train Rate: -24.1618\n",
      "Epoch 014, Train Rate: -24.1138\n",
      "Epoch 015, Train Rate: -23.9658\n",
      "Epoch 016, Train Rate: -23.8941\n",
      "Epoch 017, Train Rate: -24.0633\n",
      "Epoch 018, Train Rate: -24.2723\n",
      "Epoch 019, Train Rate: -23.9239\n",
      "Epoch 020, Train Rate: -23.1267\n",
      "Epoch 021, Train Rate: -23.7833\n",
      "Epoch 022, Train Rate: -24.0729\n",
      "Epoch 023, Train Rate: -24.5674\n",
      "Epoch 024, Train Rate: -23.9678\n",
      "Epoch 025, Train Rate: -24.0538\n",
      "Epoch 026, Train Rate: -24.5650\n",
      "Epoch 027, Train Rate: -24.3122\n",
      "Epoch 028, Train Rate: -24.6346\n",
      "Epoch 029, Train Rate: -24.5675\n"
     ]
    }
   ],
   "source": [
    "record = []\n",
    "for epoch in range(0, 30):\n",
    "    if epoch % 1 == 0:\n",
    "        with torch.no_grad():\n",
    "            train_rate = test_model(train_loader_20_50, model_qml_mid)\n",
    "        print(f'Epoch {epoch:03d}, Train Rate: {train_rate:.4f}')\n",
    "        record.append(train_rate)\n",
    "\n",
    "    train_model(epoch, model_qml_mid, optimizer_qml_mid, train_loader_20_50)\n",
    "    scheduler_qml_mid.step()"
   ]
  },
  {
   "cell_type": "code",
   "execution_count": 40,
   "metadata": {
    "colab": {
     "base_uri": "https://localhost:8080/"
    },
    "id": "_cP5RZaaA4RN",
    "outputId": "1daf2baf-fe8b-4677-d4ea-ac0212bffbc3"
   },
   "outputs": [
    {
     "name": "stdout",
     "output_type": "stream",
     "text": [
      "Epoch 000, Train Rate: -18.0564\n",
      "Epoch 001, Train Rate: -18.2612\n",
      "Epoch 002, Train Rate: -18.2060\n",
      "Epoch 003, Train Rate: -18.3444\n",
      "Epoch 004, Train Rate: -18.3437\n",
      "Epoch 005, Train Rate: -18.3510\n",
      "Epoch 006, Train Rate: -18.3472\n",
      "Epoch 007, Train Rate: -18.2948\n",
      "Epoch 008, Train Rate: -18.3250\n",
      "Epoch 009, Train Rate: -18.3226\n",
      "Epoch 010, Train Rate: -18.2208\n",
      "Epoch 011, Train Rate: -18.3622\n",
      "Epoch 012, Train Rate: -18.3718\n",
      "Epoch 013, Train Rate: -18.3730\n",
      "Epoch 014, Train Rate: -18.3694\n",
      "Epoch 015, Train Rate: -18.3706\n",
      "Epoch 016, Train Rate: -18.3588\n",
      "Epoch 017, Train Rate: -18.3560\n",
      "Epoch 018, Train Rate: -18.3519\n",
      "Epoch 019, Train Rate: -18.3740\n",
      "Epoch 020, Train Rate: -18.3653\n",
      "Epoch 021, Train Rate: -18.3756\n",
      "Epoch 022, Train Rate: -18.3746\n",
      "Epoch 023, Train Rate: -18.3759\n",
      "Epoch 024, Train Rate: -18.3664\n",
      "Epoch 025, Train Rate: -18.3740\n",
      "Epoch 026, Train Rate: -18.3755\n",
      "Epoch 027, Train Rate: -18.3754\n",
      "Epoch 028, Train Rate: -18.3751\n",
      "Epoch 029, Train Rate: -18.3751\n"
     ]
    }
   ],
   "source": [
    "record = []\n",
    "for epoch in range(0, 30):\n",
    "    if epoch % 1 == 0:\n",
    "        with torch.no_grad():\n",
    "            train_rate = test_model(train_loader_10_70, model_qml_mid)\n",
    "        print(f'Epoch {epoch:03d}, Train Rate: {train_rate:.4f}')\n",
    "        record.append(train_rate)\n",
    "\n",
    "    train_model(epoch, model_qml_mid, optimizer_qml_mid, train_loader_10_70)\n",
    "    scheduler_qml_mid.step()"
   ]
  },
  {
   "cell_type": "code",
   "execution_count": 41,
   "metadata": {
    "colab": {
     "base_uri": "https://localhost:8080/"
    },
    "id": "-sUC-RfAVaqW",
    "outputId": "7f842a94-7572-4646-fe88-d21b415abe95"
   },
   "outputs": [
    {
     "name": "stdout",
     "output_type": "stream",
     "text": [
      "Epoch 000, Train Rate: -35.1050\n",
      "Epoch 001, Train Rate: -35.1033\n",
      "Epoch 002, Train Rate: -35.1222\n",
      "Epoch 003, Train Rate: -35.1326\n",
      "Epoch 004, Train Rate: -35.1340\n",
      "Epoch 005, Train Rate: -35.1401\n",
      "Epoch 006, Train Rate: -35.1398\n",
      "Epoch 007, Train Rate: -35.1441\n",
      "Epoch 008, Train Rate: -35.1476\n",
      "Epoch 009, Train Rate: -35.1481\n",
      "Epoch 010, Train Rate: -35.1453\n",
      "Epoch 011, Train Rate: -35.1526\n",
      "Epoch 012, Train Rate: -35.1461\n",
      "Epoch 013, Train Rate: -35.1457\n",
      "Epoch 014, Train Rate: -35.1462\n",
      "Epoch 015, Train Rate: -35.1548\n",
      "Epoch 016, Train Rate: -35.1482\n",
      "Epoch 017, Train Rate: -35.1512\n",
      "Epoch 018, Train Rate: -35.1539\n",
      "Epoch 019, Train Rate: -35.1544\n",
      "Epoch 020, Train Rate: -35.1367\n",
      "Epoch 021, Train Rate: -35.1454\n",
      "Epoch 022, Train Rate: -35.1545\n",
      "Epoch 023, Train Rate: -35.1481\n",
      "Epoch 024, Train Rate: -35.1485\n",
      "Epoch 025, Train Rate: -35.1563\n",
      "Epoch 026, Train Rate: -35.1526\n",
      "Epoch 027, Train Rate: -35.1534\n",
      "Epoch 028, Train Rate: -35.1571\n",
      "Epoch 029, Train Rate: -35.1581\n"
     ]
    }
   ],
   "source": [
    "for epoch in range(0, 30):\n",
    "    if epoch % 1 == 0:\n",
    "        with torch.no_grad():\n",
    "            train_rate = test_model(train_loader_20_100, model_qml_mid)\n",
    "        print(f'Epoch {epoch:03d}, Train Rate: {train_rate:.4f}')\n",
    "        record.append(train_rate)\n",
    "\n",
    "    train_model(epoch, model_qml_mid, optimizer_qml_mid, train_loader_20_100)\n",
    "    scheduler_qml_mid.step()"
   ]
  },
  {
   "cell_type": "code",
   "execution_count": 50,
   "metadata": {
    "id": "HQPEimuf7i-i"
   },
   "outputs": [],
   "source": [
    "opt_20 = []\n",
    "qgnn_20 = []\n",
    "for i in range(30,101,10):\n",
    "  open_file = str(i) + '_20.mat'\n",
    "  data = scipy.io.loadmat(open_file)\n",
    "  beta = data['betas']\n",
    "  direct = data['directs']\n",
    "  cross = data['corsses'].transpose(0,2,1)\n",
    "  opti = data['R_cf_opt_min']\n",
    "  opt_20.append(np.mean(opti))\n",
    "  _, norm_losses = normalize_data(beta**(1/2), beta**(1/2))\n",
    "  data = PCDataset(norm_losses, direct, cross, (20, i))\n",
    "  loader = DataLoader(data, 100, shuffle=False, collate_fn=collate)\n",
    "  q = -test_model(loader, model_qml_mid)\n",
    "  qgnn_20.append(q)"
   ]
  },
  {
   "cell_type": "code",
   "execution_count": null,
   "metadata": {},
   "outputs": [],
   "source": [
    "# torch.save(model.state_dict(), 'model_sum.pth')\n",
    "# torch.save(model_qml_mid.state_dict(), 'model_amplitude_sum.pth')"
   ]
  },
  {
   "cell_type": "code",
   "execution_count": 26,
   "metadata": {},
   "outputs": [
    {
     "name": "stderr",
     "output_type": "stream",
     "text": [
      "C:\\Users\\ADMIN\\AppData\\Local\\Temp\\ipykernel_9036\\3852240873.py:1: FutureWarning: You are using `torch.load` with `weights_only=False` (the current default value), which uses the default pickle module implicitly. It is possible to construct malicious pickle data which will execute arbitrary code during unpickling (See https://github.com/pytorch/pytorch/blob/main/SECURITY.md#untrusted-models for more details). In a future release, the default value for `weights_only` will be flipped to `True`. This limits the functions that could be executed during unpickling. Arbitrary objects will no longer be allowed to be loaded via this mode unless they are explicitly allowlisted by the user via `torch.serialization.add_safe_globals`. We recommend you start setting `weights_only=True` for any use case where you don't have full control of the loaded file. Please open an issue on GitHub for any issues related to this experimental feature.\n",
      "  model.load_state_dict(torch.load('model_sum.pth'))\n",
      "C:\\Users\\ADMIN\\AppData\\Local\\Temp\\ipykernel_9036\\3852240873.py:2: FutureWarning: You are using `torch.load` with `weights_only=False` (the current default value), which uses the default pickle module implicitly. It is possible to construct malicious pickle data which will execute arbitrary code during unpickling (See https://github.com/pytorch/pytorch/blob/main/SECURITY.md#untrusted-models for more details). In a future release, the default value for `weights_only` will be flipped to `True`. This limits the functions that could be executed during unpickling. Arbitrary objects will no longer be allowed to be loaded via this mode unless they are explicitly allowlisted by the user via `torch.serialization.add_safe_globals`. We recommend you start setting `weights_only=True` for any use case where you don't have full control of the loaded file. Please open an issue on GitHub for any issues related to this experimental feature.\n",
      "  model_qml_mid.load_state_dict(torch.load('model_amp_sum.pth'))\n"
     ]
    },
    {
     "data": {
      "text/plain": [
       "<All keys matched successfully>"
      ]
     },
     "execution_count": 26,
     "metadata": {},
     "output_type": "execute_result"
    }
   ],
   "source": [
    "model.load_state_dict(torch.load('model_sum.pth'))\n",
    "model_qml_mid.load_state_dict(torch.load('model_amp_sum.pth'))"
   ]
  },
  {
   "cell_type": "code",
   "execution_count": 27,
   "metadata": {},
   "outputs": [],
   "source": [
    "opt_20 = []\n",
    "qgnn_20 = []\n",
    "gnn_20 = []\n",
    "all_one_rates_20 = []\n",
    "random_rates = []\n",
    "for i in range(30,101,10):\n",
    "  open_file = str(i) + '_20.mat'\n",
    "  data = scipy.io.loadmat(open_file)\n",
    "  beta = data['betas']\n",
    "  direct = data['directs']\n",
    "  cross = data['corsses'].transpose(0,2,1)\n",
    "  opti = data['R_cf_opt_min']\n",
    "  opt_20.append(np.mean(opti))\n",
    "  _, norm_losses = normalize_data(beta**(1/2), beta**(1/2))\n",
    "  data = PCDataset(norm_losses, direct, cross, (20, i))\n",
    "  loader = DataLoader(data, 100, shuffle=False, collate_fn=collate)\n",
    "  for (data, d_test, c_test) in loader:\n",
    "    K = d_test.shape[-1]\n",
    "    n = len(data['UE'].x)\n",
    "    bs = len(data['UE'].x) // K\n",
    "\n",
    "    user_feats = data['AP'].x\n",
    "    item_feats = data['UE'].x\n",
    "    node_features = {'AP': user_feats, 'UE': item_feats}\n",
    "\n",
    "    output = model_qml_mid(node_features, data.edge_index_dict, data.edge_attr_dict).reshape(bs, -1)\n",
    "    output1 = model(node_features, data.edge_index_dict, data.edge_attr_dict).reshape(bs, -1)\n",
    "    full = torch.ones_like(output)\n",
    "    random = torch.rand_like(output)\n",
    "    qgnn_rates = -sum_rate_loss(output, d_test, c_test).detach().numpy()\n",
    "    gnn_rates = -sum_rate_loss(output1, d_test, c_test).detach().numpy()\n",
    "    all_one = -sum_rate_loss(full, d_test, c_test).detach().numpy()\n",
    "    rand_rates = -sum_rate_loss(random, d_test, c_test).detach().numpy()\n",
    "  gnn_20.append(gnn_rates)\n",
    "  qgnn_20.append(qgnn_rates)\n",
    "  all_one_rates_20.append(all_one)\n",
    "  random_rates.append(rand_rates)\n"
   ]
  },
  {
   "cell_type": "code",
   "execution_count": 28,
   "metadata": {},
   "outputs": [
    {
     "data": {
      "image/png": "[encoded data removed]",
      "text/plain": [
       "<Figure size 1080x1080 with 1 Axes>"
      ]
     },
     "metadata": {},
     "output_type": "display_data"
    }
   ],
   "source": [
    "import matplotlib.pyplot as plt\n",
    "\n",
    "\n",
    "plt.rcParams['mathtext.fontset'] = 'cm'\n",
    "plt.rcParams['font.family'] = 'STIXGeneral'\n",
    "plt.rcParams.update({'font.size': 12})\n",
    "\n",
    "\n",
    "fig, ax = plt.subplots(figsize=(6, 6), dpi=180)\n",
    "x_values = list(range(30, 101, 10))\n",
    "\n",
    "ax.plot(x_values, qgnn_20, label='HQGNN', linestyle=':', marker='o')  \n",
    "ax.plot(x_values, gnn_20, label='GNN', linestyle='--')\n",
    "ax.plot(x_values, opt_20, label='Optimization', linestyle='-') \n",
    "ax.plot(x_values, all_one_rates_20, label='Full Power', linestyle='-', marker='^')\n",
    "ax.plot(x_values, random_rates, label ='Random Power', linestyle='-', marker='+')\n",
    "\n",
    "ax.set_xlabel('Number APs')\n",
    "ax.set_ylabel('Sum-rate')\n",
    "\n",
    "\n",
    "ax.legend()\n",
    "ax.grid()\n",
    "\n",
    "\n",
    "x1, x2, y1, y2 = 79, 81, 30.7, 31.7\n",
    "\n",
    "\n",
    "axins = ax.inset_axes([0.75, 0.3, 0.2, 0.2])\n",
    "\n",
    "\n",
    "axins.plot(x_values, qgnn_20, label='HQGNN', linestyle=':', marker='o')\n",
    "axins.plot(x_values, gnn_20, label='GNN', linestyle='--')\n",
    "axins.plot(x_values, opt_20, label='Optimization', linestyle='-')\n",
    "axins.plot(x_values, all_one_rates_20, label='Full Power', linestyle='-', marker='^')\n",
    "\n",
    "\n",
    "axins.set_xlim(x1, x2)\n",
    "axins.set_ylim(y1, y2)\n",
    "\n",
    "\n",
    "ax.indicate_inset_zoom(axins, edgecolor=\"black\")\n",
    "\n",
    "plt.show()\n"
   ]
  },
  {
   "cell_type": "markdown",
   "metadata": {},
   "source": [
    "# HQGNN Angle"
   ]
  },
  {
   "cell_type": "code",
   "execution_count": 69,
   "metadata": {},
   "outputs": [],
   "source": [
    "n_layers_circuit_X2 = 4\n",
    "def circuit_X2_entangling(weights, n_qubits):\n",
    "    qml.CRX(weights[-1], wires=[n_qubits-1, 0])\n",
    "    for i in range(n_qubits-1):\n",
    "        qml.CRX(weights[i], wires=[i, (i+1)])\n",
    "\n",
    "@qml.qnode(dev, interface='torch')\n",
    "def circuit_X2(inputs, layer_weights):\n",
    "    qml.AngleEmbedding(features=inputs, wires=range(n_qubits))\n",
    "    for l in range(n_layers_circuit_X2):\n",
    "        circuit_X2_entangling(layer_weights[l], n_qubits)\n",
    "    return qml.probs(wires=range(n_qubits))\n",
    "weight_shapes_circuit_X2 = { \"layer_weights\": (n_layers_circuit_X2, n_qubits)}"
   ]
  },
  {
   "cell_type": "code",
   "execution_count": 70,
   "metadata": {},
   "outputs": [],
   "source": [
    "n_layers_circuit_Z2 = 4\n",
    "def circuit_Z2_entangling(weights, n_qubits):\n",
    "    qml.CRZ(weights[-1], wires=[n_qubits - 1, 0])\n",
    "    for i in range(n_qubits - 1):\n",
    "        qml.CRZ(weights[i], wires=[i, i + 1])\n",
    "\n",
    "@qml.qnode(dev, interface='torch')\n",
    "def circuit_Z2(inputs, layer_weights):\n",
    "    qml.AngleEmbedding(features=inputs, wires=range(n_qubits))\n",
    "    for l in range(n_layers_circuit_Z2):\n",
    "        circuit_Z2_entangling(layer_weights[l], n_qubits)\n",
    "    return qml.probs(wires=range(n_qubits))\n",
    "weight_shapes_circuit_Z2 = { \"layer_weights\": (n_layers_circuit_Z2, n_qubits)}"
   ]
  },
  {
   "cell_type": "code",
   "execution_count": 71,
   "metadata": {},
   "outputs": [],
   "source": [
    "def MLP(channels, batch_norm=True):\n",
    "    return Seq(*[\n",
    "        Seq(Lin(channels[i - 1], channels[i]), ReLU(), BN(channels[i]))\n",
    "        for i in range(1, len(channels))\n",
    "    ])\n",
    "class Q_layer_angle(MessagePassing):\n",
    "    def __init__(self,src_dim, dst_dim, edge_dim, out_dim, **kwargs):\n",
    "        super(Q_layer_angle, self).__init__(aggr='mean')  \n",
    "        self.lin_res = qml.qnn.TorchLayer(circuit_X2, weight_shapes_circuit_X2)\n",
    "        self.lin_qml = qml.qnn.TorchLayer(circuit_Z2, weight_shapes_circuit_Z2)\n",
    "        self.in_linear = nn.Linear(src_dim + dst_dim + edge_dim, out_dim)\n",
    "        self.linear = nn.Linear(dst_dim, n_qubits)\n",
    "        self.bn = BN(32)\n",
    "\n",
    "    def forward(self, x, edge_index, edge_attr):\n",
    "        feat_src, feat_dst = x\n",
    "        out = self.propagate(edge_index=edge_index, x=(feat_src, feat_dst), edge_attr=edge_attr)\n",
    "        out = out + self.lin_res(self.linear(feat_dst))\n",
    "        return self.bn(out)\n",
    "\n",
    "    def message(self, x_j, x_i, edge_attr):\n",
    "        out = torch.cat([x_j, x_i, edge_attr], dim=1)\n",
    "        out = self.in_linear(out)\n",
    "        out = self.lin_qml(out)\n",
    "        return out\n",
    "\n",
    "    def update(self, aggr_out):\n",
    "        return aggr_out"
   ]
  },
  {
   "cell_type": "code",
   "execution_count": 72,
   "metadata": {},
   "outputs": [],
   "source": [
    "class RGCN_Hybrid_mid_angle(nn.Module):\n",
    "    def __init__(self):\n",
    "        super(RGCN_Hybrid_mid_angle, self).__init__()\n",
    "        out_dim = n_qubits\n",
    "        edge_dim = 2\n",
    "\n",
    "        self.conv1 = HeteroConv({\n",
    "            ('UE', 'com-by', 'AP'): Q_layer_angle(1, 1, edge_dim, out_dim),\n",
    "            ('AP', 'com', 'UE'): Q_layer_angle(1, 1, edge_dim,out_dim)\n",
    "        }, aggr='mean')\n",
    "\n",
    "        self.conv2 = HeteroConv({\n",
    "            ('UE', 'com-by', 'AP'): Q_layer_angle(32, 32, edge_dim, out_dim),\n",
    "            ('AP', 'com', 'UE'): Q_layer_angle(32, 32, edge_dim, out_dim)\n",
    "        }, aggr='mean')\n",
    "\n",
    "        self.conv3 = HeteroConv({\n",
    "             ('UE', 'com-by', 'AP'): Q_layer_angle(32, 32, edge_dim, out_dim),\n",
    "             ('AP', 'com', 'UE'): Q_layer_angle(32, 32, edge_dim, out_dim)\n",
    "         }, aggr='mean')\n",
    "\n",
    "        self.mlp = MLP([32, 16])\n",
    "        self.mlp = nn.Sequential(*[self.mlp, Seq(Lin(16, 1), Sigmoid())])\n",
    "    def forward(self, x_dict, edge_index_dict, edge_attr_dict):\n",
    "        out = self.conv1(x_dict, edge_index_dict, edge_attr_dict)\n",
    "        out = self.conv2(out, edge_index_dict, edge_attr_dict)\n",
    "        out = self.conv3(out, edge_index_dict, edge_attr_dict)\n",
    "        out = self.mlp(out['UE'])\n",
    "        return out"
   ]
  },
  {
   "cell_type": "code",
   "execution_count": 73,
   "metadata": {},
   "outputs": [],
   "source": [
    "model_qml_mid_angle = RGCN_Hybrid_mid_angle().to()\n",
    "\n",
    "optimizer_qml_mid_angle = torch.optim.Adam(model_qml_mid_angle.parameters(), lr=5e-4)\n",
    "scheduler_qml_mid_angle = torch.optim.lr_scheduler.StepLR(optimizer_qml_mid_angle, step_size=10, gamma=0.4)"
   ]
  },
  {
   "cell_type": "code",
   "execution_count": 74,
   "metadata": {},
   "outputs": [
    {
     "name": "stderr",
     "output_type": "stream",
     "text": [
      "C:\\Users\\ADMIN\\AppData\\Local\\Temp\\ipykernel_8856\\191149710.py:1: FutureWarning: You are using `torch.load` with `weights_only=False` (the current default value), which uses the default pickle module implicitly. It is possible to construct malicious pickle data which will execute arbitrary code during unpickling (See https://github.com/pytorch/pytorch/blob/main/SECURITY.md#untrusted-models for more details). In a future release, the default value for `weights_only` will be flipped to `True`. This limits the functions that could be executed during unpickling. Arbitrary objects will no longer be allowed to be loaded via this mode unless they are explicitly allowlisted by the user via `torch.serialization.add_safe_globals`. We recommend you start setting `weights_only=True` for any use case where you don't have full control of the loaded file. Please open an issue on GitHub for any issues related to this experimental feature.\n",
      "  model_qml_mid_angle.load_state_dict(torch.load('model_angle_sum.pth'))\n"
     ]
    },
    {
     "data": {
      "text/plain": [
       "<All keys matched successfully>"
      ]
     },
     "execution_count": 74,
     "metadata": {},
     "output_type": "execute_result"
    }
   ],
   "source": [
    "model_qml_mid_angle.load_state_dict(torch.load('model_angle_sum.pth'))"
   ]
  },
  {
   "cell_type": "code",
   "execution_count": 23,
   "metadata": {},
   "outputs": [
    {
     "name": "stdout",
     "output_type": "stream",
     "text": [
      "Number of trainable parameters: 3271\n"
     ]
    }
   ],
   "source": [
    "trainable_params = sum(p.numel() for p in model_qml_mid_angle.parameters() if p.requires_grad)\n",
    "print(f\"Number of trainable parameters: {trainable_params}\")"
   ]
  },
  {
   "cell_type": "code",
   "execution_count": 36,
   "metadata": {},
   "outputs": [
    {
     "name": "stdout",
     "output_type": "stream",
     "text": [
      "Epoch 000, Train Rate: -20.9226\n",
      "Epoch 001, Train Rate: -20.9192\n",
      "Epoch 002, Train Rate: -21.0274\n",
      "Epoch 003, Train Rate: -22.5778\n",
      "Epoch 004, Train Rate: -23.7052\n",
      "Epoch 005, Train Rate: -23.9240\n",
      "Epoch 006, Train Rate: -24.0868\n",
      "Epoch 007, Train Rate: -24.1956\n",
      "Epoch 008, Train Rate: -24.2678\n",
      "Epoch 009, Train Rate: -24.3722\n",
      "Epoch 010, Train Rate: -24.3979\n",
      "Epoch 011, Train Rate: -24.4260\n",
      "Epoch 012, Train Rate: -24.4700\n"
     ]
    },
    {
     "ename": "KeyboardInterrupt",
     "evalue": "",
     "output_type": "error",
     "traceback": [
      "\u001b[1;31m---------------------------------------------------------------------------\u001b[0m",
      "\u001b[1;31mKeyboardInterrupt\u001b[0m                         Traceback (most recent call last)",
      "Cell \u001b[1;32mIn[36], line 9\u001b[0m\n\u001b[0;32m      6\u001b[0m     \u001b[38;5;28mprint\u001b[39m(\u001b[38;5;124mf\u001b[39m\u001b[38;5;124m'\u001b[39m\u001b[38;5;124mEpoch \u001b[39m\u001b[38;5;132;01m{\u001b[39;00mepoch\u001b[38;5;132;01m:\u001b[39;00m\u001b[38;5;124m03d\u001b[39m\u001b[38;5;132;01m}\u001b[39;00m\u001b[38;5;124m, Train Rate: \u001b[39m\u001b[38;5;132;01m{\u001b[39;00mtrain_rate\u001b[38;5;132;01m:\u001b[39;00m\u001b[38;5;124m.4f\u001b[39m\u001b[38;5;132;01m}\u001b[39;00m\u001b[38;5;124m'\u001b[39m)\n\u001b[0;32m      7\u001b[0m     record\u001b[38;5;241m.\u001b[39mappend(train_rate)\n\u001b[1;32m----> 9\u001b[0m \u001b[43mtrain_model\u001b[49m\u001b[43m(\u001b[49m\u001b[43mepoch\u001b[49m\u001b[43m,\u001b[49m\u001b[43m \u001b[49m\u001b[43mmodel_qml_mid_angle\u001b[49m\u001b[43m,\u001b[49m\u001b[43m \u001b[49m\u001b[43moptimizer_qml_mid_angle\u001b[49m\u001b[43m,\u001b[49m\u001b[43m \u001b[49m\u001b[43mtrain_loader_20_50\u001b[49m\u001b[43m)\u001b[49m\n\u001b[0;32m     10\u001b[0m scheduler_qml_mid_angle\u001b[38;5;241m.\u001b[39mstep()\n",
      "Cell \u001b[1;32mIn[27], line 17\u001b[0m, in \u001b[0;36mtrain_model\u001b[1;34m(epoch, model, optimizer, train_loader)\u001b[0m\n\u001b[0;32m     14\u001b[0m output \u001b[38;5;241m=\u001b[39m model(node_features, data\u001b[38;5;241m.\u001b[39medge_index_dict, data\u001b[38;5;241m.\u001b[39medge_attr_dict)\u001b[38;5;241m.\u001b[39mreshape(bs, \u001b[38;5;241m-\u001b[39m\u001b[38;5;241m1\u001b[39m)\n\u001b[0;32m     16\u001b[0m loss \u001b[38;5;241m=\u001b[39m sum_rate_loss(output, d_train, c_train)\n\u001b[1;32m---> 17\u001b[0m \u001b[43mloss\u001b[49m\u001b[38;5;241;43m.\u001b[39;49m\u001b[43mbackward\u001b[49m\u001b[43m(\u001b[49m\u001b[43m)\u001b[49m\n\u001b[0;32m     19\u001b[0m loss_all \u001b[38;5;241m+\u001b[39m\u001b[38;5;241m=\u001b[39m loss\u001b[38;5;241m.\u001b[39mitem() \u001b[38;5;241m*\u001b[39m bs\n\u001b[0;32m     20\u001b[0m optimizer\u001b[38;5;241m.\u001b[39mstep()\n",
      "File \u001b[1;32mc:\\Users\\ADMIN\\AppData\\Local\\Programs\\Python\\Python311\\Lib\\site-packages\\torch\\_tensor.py:581\u001b[0m, in \u001b[0;36mTensor.backward\u001b[1;34m(self, gradient, retain_graph, create_graph, inputs)\u001b[0m\n\u001b[0;32m    571\u001b[0m \u001b[38;5;28;01mif\u001b[39;00m has_torch_function_unary(\u001b[38;5;28mself\u001b[39m):\n\u001b[0;32m    572\u001b[0m     \u001b[38;5;28;01mreturn\u001b[39;00m handle_torch_function(\n\u001b[0;32m    573\u001b[0m         Tensor\u001b[38;5;241m.\u001b[39mbackward,\n\u001b[0;32m    574\u001b[0m         (\u001b[38;5;28mself\u001b[39m,),\n\u001b[1;32m   (...)\u001b[0m\n\u001b[0;32m    579\u001b[0m         inputs\u001b[38;5;241m=\u001b[39minputs,\n\u001b[0;32m    580\u001b[0m     )\n\u001b[1;32m--> 581\u001b[0m \u001b[43mtorch\u001b[49m\u001b[38;5;241;43m.\u001b[39;49m\u001b[43mautograd\u001b[49m\u001b[38;5;241;43m.\u001b[39;49m\u001b[43mbackward\u001b[49m\u001b[43m(\u001b[49m\n\u001b[0;32m    582\u001b[0m \u001b[43m    \u001b[49m\u001b[38;5;28;43mself\u001b[39;49m\u001b[43m,\u001b[49m\u001b[43m \u001b[49m\u001b[43mgradient\u001b[49m\u001b[43m,\u001b[49m\u001b[43m \u001b[49m\u001b[43mretain_graph\u001b[49m\u001b[43m,\u001b[49m\u001b[43m \u001b[49m\u001b[43mcreate_graph\u001b[49m\u001b[43m,\u001b[49m\u001b[43m \u001b[49m\u001b[43minputs\u001b[49m\u001b[38;5;241;43m=\u001b[39;49m\u001b[43minputs\u001b[49m\n\u001b[0;32m    583\u001b[0m \u001b[43m\u001b[49m\u001b[43m)\u001b[49m\n",
      "File \u001b[1;32mc:\\Users\\ADMIN\\AppData\\Local\\Programs\\Python\\Python311\\Lib\\site-packages\\torch\\autograd\\__init__.py:347\u001b[0m, in \u001b[0;36mbackward\u001b[1;34m(tensors, grad_tensors, retain_graph, create_graph, grad_variables, inputs)\u001b[0m\n\u001b[0;32m    342\u001b[0m     retain_graph \u001b[38;5;241m=\u001b[39m create_graph\n\u001b[0;32m    344\u001b[0m \u001b[38;5;66;03m# The reason we repeat the same comment below is that\u001b[39;00m\n\u001b[0;32m    345\u001b[0m \u001b[38;5;66;03m# some Python versions print out the first line of a multi-line function\u001b[39;00m\n\u001b[0;32m    346\u001b[0m \u001b[38;5;66;03m# calls in the traceback and some print out the last line\u001b[39;00m\n\u001b[1;32m--> 347\u001b[0m \u001b[43m_engine_run_backward\u001b[49m\u001b[43m(\u001b[49m\n\u001b[0;32m    348\u001b[0m \u001b[43m    \u001b[49m\u001b[43mtensors\u001b[49m\u001b[43m,\u001b[49m\n\u001b[0;32m    349\u001b[0m \u001b[43m    \u001b[49m\u001b[43mgrad_tensors_\u001b[49m\u001b[43m,\u001b[49m\n\u001b[0;32m    350\u001b[0m \u001b[43m    \u001b[49m\u001b[43mretain_graph\u001b[49m\u001b[43m,\u001b[49m\n\u001b[0;32m    351\u001b[0m \u001b[43m    \u001b[49m\u001b[43mcreate_graph\u001b[49m\u001b[43m,\u001b[49m\n\u001b[0;32m    352\u001b[0m \u001b[43m    \u001b[49m\u001b[43minputs\u001b[49m\u001b[43m,\u001b[49m\n\u001b[0;32m    353\u001b[0m \u001b[43m    \u001b[49m\u001b[43mallow_unreachable\u001b[49m\u001b[38;5;241;43m=\u001b[39;49m\u001b[38;5;28;43;01mTrue\u001b[39;49;00m\u001b[43m,\u001b[49m\n\u001b[0;32m    354\u001b[0m \u001b[43m    \u001b[49m\u001b[43maccumulate_grad\u001b[49m\u001b[38;5;241;43m=\u001b[39;49m\u001b[38;5;28;43;01mTrue\u001b[39;49;00m\u001b[43m,\u001b[49m\n\u001b[0;32m    355\u001b[0m \u001b[43m\u001b[49m\u001b[43m)\u001b[49m\n",
      "File \u001b[1;32mc:\\Users\\ADMIN\\AppData\\Local\\Programs\\Python\\Python311\\Lib\\site-packages\\torch\\autograd\\graph.py:825\u001b[0m, in \u001b[0;36m_engine_run_backward\u001b[1;34m(t_outputs, *args, **kwargs)\u001b[0m\n\u001b[0;32m    823\u001b[0m     unregister_hooks \u001b[38;5;241m=\u001b[39m _register_logging_hooks_on_whole_graph(t_outputs)\n\u001b[0;32m    824\u001b[0m \u001b[38;5;28;01mtry\u001b[39;00m:\n\u001b[1;32m--> 825\u001b[0m     \u001b[38;5;28;01mreturn\u001b[39;00m \u001b[43mVariable\u001b[49m\u001b[38;5;241;43m.\u001b[39;49m\u001b[43m_execution_engine\u001b[49m\u001b[38;5;241;43m.\u001b[39;49m\u001b[43mrun_backward\u001b[49m\u001b[43m(\u001b[49m\u001b[43m  \u001b[49m\u001b[38;5;66;43;03m# Calls into the C++ engine to run the backward pass\u001b[39;49;00m\n\u001b[0;32m    826\u001b[0m \u001b[43m        \u001b[49m\u001b[43mt_outputs\u001b[49m\u001b[43m,\u001b[49m\u001b[43m \u001b[49m\u001b[38;5;241;43m*\u001b[39;49m\u001b[43margs\u001b[49m\u001b[43m,\u001b[49m\u001b[43m \u001b[49m\u001b[38;5;241;43m*\u001b[39;49m\u001b[38;5;241;43m*\u001b[39;49m\u001b[43mkwargs\u001b[49m\n\u001b[0;32m    827\u001b[0m \u001b[43m    \u001b[49m\u001b[43m)\u001b[49m  \u001b[38;5;66;03m# Calls into the C++ engine to run the backward pass\u001b[39;00m\n\u001b[0;32m    828\u001b[0m \u001b[38;5;28;01mfinally\u001b[39;00m:\n\u001b[0;32m    829\u001b[0m     \u001b[38;5;28;01mif\u001b[39;00m attach_logging_hooks:\n",
      "\u001b[1;31mKeyboardInterrupt\u001b[0m: "
     ]
    }
   ],
   "source": [
    "record = []\n",
    "for epoch in range(0, 30):\n",
    "    if epoch % 1 == 0:\n",
    "        with torch.no_grad():\n",
    "            train_rate = test_model(train_loader_20_50, model_qml_mid_angle)\n",
    "        print(f'Epoch {epoch:03d}, Train Rate: {train_rate:.4f}')\n",
    "        record.append(train_rate)\n",
    "\n",
    "    train_model(epoch, model_qml_mid_angle, optimizer_qml_mid_angle, train_loader_20_50)\n",
    "    scheduler_qml_mid_angle.step()"
   ]
  },
  {
   "cell_type": "code",
   "execution_count": null,
   "metadata": {},
   "outputs": [],
   "source": [
    "record = []\n",
    "for epoch in range(0, 30):\n",
    "    if epoch % 1 == 0:\n",
    "        with torch.no_grad():\n",
    "            train_rate = test_model(train_loader_10_70, model_qml_mid_angle)\n",
    "        print(f'Epoch {epoch:03d}, Train Rate: {train_rate:.4f}')\n",
    "        record.append(train_rate)\n",
    "\n",
    "    train_model(epoch, model_qml_mid_angle, optimizer_qml_mid_angle)\n",
    "    scheduler_qml_mid_angle.step()"
   ]
  },
  {
   "cell_type": "code",
   "execution_count": null,
   "metadata": {},
   "outputs": [],
   "source": [
    "record = []\n",
    "for epoch in range(0, 30):\n",
    "    if epoch % 1 == 0:\n",
    "        with torch.no_grad():\n",
    "            train_rate = test_model(train_loader_20_100, model_qml_mid_angle)\n",
    "        print(f'Epoch {epoch:03d}, Train Rate: {train_rate:.4f}')\n",
    "        record.append(train_rate)\n",
    "\n",
    "    train_model(epoch, model_qml_mid_angle, optimizer_qml_mid_angle, train_loader_20_100)\n",
    "    scheduler_qml_mid_angle.step()"
   ]
  },
  {
   "cell_type": "code",
   "execution_count": null,
   "metadata": {},
   "outputs": [],
   "source": [
    "angle_qgnn_20 = []\n",
    "opt_20 = []\n",
    "for i in range(30,101,10):\n",
    "  open_file = str(i) + '_20.mat'\n",
    "  data = scipy.io.loadmat(open_file)\n",
    "  beta = data['betas']\n",
    "  direct = data['directs']\n",
    "  cross = data['corsses'].transpose(0,2,1)\n",
    "  opti = data['R_cf_opt_min']\n",
    "  opt_20.append(np.mean(opti))\n",
    "  _, norm_losses = normalize_data(beta**(1/2), beta**(1/2))\n",
    "  data = PCDataset(norm_losses, direct, cross, (20, i))\n",
    "  loader = DataLoader(data, 100, shuffle=False, collate_fn=collate)\n",
    "  for (data, d_test, c_test) in loader:\n",
    "    K = d_test.shape[-1]\n",
    "    n = len(data['UE'].x)\n",
    "    bs = len(data['UE'].x) // K\n",
    "\n",
    "    user_feats = data['AP'].x\n",
    "    item_feats = data['UE'].x\n",
    "    node_features = {'AP': user_feats, 'UE': item_feats}\n",
    "\n",
    "    output = model_qml_mid_angle(node_features, data.edge_index_dict, data.edge_attr_dict).reshape(bs, -1)\n",
    "    qgnn_rates = -sum_rate_loss(output, d_test, c_test).detach().numpy()\n",
    "    \n",
    "  \n",
    "  angle_qgnn_20.append(qgnn_rates)\n"
   ]
  },
  {
   "cell_type": "markdown",
   "metadata": {},
   "source": [
    "# DL method"
   ]
  },
  {
   "cell_type": "code",
   "execution_count": 36,
   "metadata": {},
   "outputs": [],
   "source": [
    "class DLDataset(Dataset):\n",
    "    def __init__(self, norm_losses, direct, cross, KM):\n",
    "        self.norm_losses = torch.tensor(norm_losses, dtype=torch.float)\n",
    "        self.direct = torch.tensor(direct, dtype=torch.float)\n",
    "        self.cross = torch.tensor(cross, dtype=torch.float)\n",
    "        self.KM = KM\n",
    "        self.x = torch.sum((self.norm_losses), axis = 1)\n",
    "\n",
    "\n",
    "    def __len__(self):\n",
    "        return len(self.direct)\n",
    "\n",
    "    def __getitem__(self, index):\n",
    "        return self.x[index], self.direct[index], self.cross[index]"
   ]
  },
  {
   "cell_type": "code",
   "execution_count": 62,
   "metadata": {},
   "outputs": [],
   "source": [
    "data = scipy.io.loadmat('cf_train_6_30.mat')\n",
    "beta_train = data['betas'][:train_layouts]\n",
    "direct_train = data['directs'][:train_layouts]\n",
    "cross_train = data['corsses'][:train_layouts].transpose(0,2,1)"
   ]
  },
  {
   "cell_type": "code",
   "execution_count": 63,
   "metadata": {},
   "outputs": [],
   "source": [
    "test_data = scipy.io.loadmat('cf_test_6_30_sum.mat')\n",
    "beta_test = test_data['betas']\n",
    "direct_test = test_data['directs']\n",
    "cross_test = test_data['corsses'].transpose(0,2,1)"
   ]
  },
  {
   "cell_type": "code",
   "execution_count": 64,
   "metadata": {},
   "outputs": [],
   "source": [
    "norm_train_losses, norm_test_losses = normalize_data(beta_train**(1/2), beta_test**(1/2) )"
   ]
  },
  {
   "cell_type": "code",
   "execution_count": 65,
   "metadata": {},
   "outputs": [],
   "source": [
    "train_data = PCDataset(norm_train_losses, direct_train, cross_train, (6, 30))\n",
    "test_data = PCDataset(norm_test_losses, direct_test, cross_test, (6, 30))\n",
    "test_loader = DataLoader(test_data, 200, shuffle=False, collate_fn=collate)"
   ]
  },
  {
   "cell_type": "code",
   "execution_count": 66,
   "metadata": {},
   "outputs": [],
   "source": [
    "train_DL = DLDataset(norm_train_losses, direct_train, cross_train, (6, 30))\n",
    "test_DL = DLDataset(norm_test_losses, direct_test, cross_test, (6, 30))\n",
    "batch_size = 64\n",
    "train_loader_DL = DataLoader(train_DL, batch_size, shuffle=True, collate_fn=collate)\n",
    "test_loader_DL = DataLoader(test_DL, test_layouts, shuffle=False, collate_fn=collate)"
   ]
  },
  {
   "cell_type": "code",
   "execution_count": 49,
   "metadata": {},
   "outputs": [],
   "source": [
    "class ANN(nn.Module):\n",
    "    def __init__(self):\n",
    "        super().__init__()\n",
    "        self.fc1 = nn.Linear(in_features=6, out_features=128)\n",
    "        self.fc2 = nn.Linear(in_features=128, out_features=256)\n",
    "        self.fc3 = nn.Linear(in_features=256, out_features=128)\n",
    "        self.output = nn.Linear(in_features=128, out_features=6)\n",
    "\n",
    "    def forward(self, x):\n",
    "        x = F.relu(self.fc1(x))\n",
    "        x = F.relu(self.fc2(x))     \n",
    "        x = F.relu(self.fc3(x))\n",
    "        x = torch.sigmoid(self.output(x))\n",
    "        return x"
   ]
  },
  {
   "cell_type": "code",
   "execution_count": 50,
   "metadata": {},
   "outputs": [],
   "source": [
    "def train_model_DL(model, optimizer, train_loader):\n",
    "    \"\"\" Train for one epoch with flat data on CPU. \"\"\"\n",
    "    model.train()\n",
    "    loss_all = 0\n",
    "\n",
    "    for batch_idx, (data, d_train, c_train) in enumerate(train_loader):\n",
    "        optimizer.zero_grad()\n",
    "\n",
    "        # Truyền qua mô hình ANN\n",
    "        output = model(data)\n",
    "\n",
    "        # Tính loss và thực hiện backpropagation\n",
    "        loss = sum_rate_loss(output, d_train, c_train)\n",
    "        loss.backward()\n",
    "\n",
    "        loss_all += loss.item() * len(data)\n",
    "        optimizer.step()\n",
    "\n",
    "    return loss_all / len(train_loader.dataset)\n",
    "def test_model_DL(loader, model):\n",
    "    \"\"\" Evaluate the model on the test dataset using CPU. \"\"\"\n",
    "    model.eval()\n",
    "    loss_all = 0\n",
    "\n",
    "    with torch.no_grad():\n",
    "        for batch_idx, (data, d_test, c_test) in enumerate(loader):\n",
    "            # Truyền qua mô hình ANN\n",
    "            output = model(data)\n",
    "\n",
    "            # Tính loss\n",
    "            loss = sum_rate_loss(output, d_test, c_test)\n",
    "            loss_all += loss.item() * len(data)\n",
    "\n",
    "    return loss_all / len(loader.dataset)"
   ]
  },
  {
   "cell_type": "code",
   "execution_count": 51,
   "metadata": {},
   "outputs": [
    {
     "name": "stdout",
     "output_type": "stream",
     "text": [
      "Number of trainable parameters: 67590\n"
     ]
    }
   ],
   "source": [
    "model_ANN = ANN()\n",
    "optimizer_ANN = torch.optim.Adam(model_ANN.parameters(), lr = 5e-3)\n",
    "scheduler_ANN = torch.optim.lr_scheduler.StepLR(optimizer_ANN, step_size=10, gamma = 1/3)\n",
    "trainable_params = sum(p.numel() for p in model_ANN.parameters() if p.requires_grad)\n",
    "print(f\"Number of trainable parameters: {trainable_params}\")"
   ]
  },
  {
   "cell_type": "code",
   "execution_count": 54,
   "metadata": {},
   "outputs": [
    {
     "name": "stdout",
     "output_type": "stream",
     "text": [
      "Epoch 000, Train Rate: -8.4650\n",
      "Epoch 001, Train Rate: -8.4680\n",
      "Epoch 002, Train Rate: -8.4694\n",
      "Epoch 003, Train Rate: -8.4706\n",
      "Epoch 004, Train Rate: -8.4716\n",
      "Epoch 005, Train Rate: -8.4726\n",
      "Epoch 006, Train Rate: -8.4736\n",
      "Epoch 007, Train Rate: -8.4746\n",
      "Epoch 008, Train Rate: -8.4755\n",
      "Epoch 009, Train Rate: -8.4763\n",
      "Epoch 010, Train Rate: -8.4775\n",
      "Epoch 011, Train Rate: -8.4780\n",
      "Epoch 012, Train Rate: -8.4784\n",
      "Epoch 013, Train Rate: -8.4788\n",
      "Epoch 014, Train Rate: -8.4791\n",
      "Epoch 015, Train Rate: -8.4794\n",
      "Epoch 016, Train Rate: -8.4797\n",
      "Epoch 017, Train Rate: -8.4801\n",
      "Epoch 018, Train Rate: -8.4804\n",
      "Epoch 019, Train Rate: -8.4807\n",
      "Epoch 020, Train Rate: -8.4810\n",
      "Epoch 021, Train Rate: -8.4812\n",
      "Epoch 022, Train Rate: -8.4813\n",
      "Epoch 023, Train Rate: -8.4814\n",
      "Epoch 024, Train Rate: -8.4815\n",
      "Epoch 025, Train Rate: -8.4816\n",
      "Epoch 026, Train Rate: -8.4817\n",
      "Epoch 027, Train Rate: -8.4818\n",
      "Epoch 028, Train Rate: -8.4819\n",
      "Epoch 029, Train Rate: -8.4820\n",
      "Epoch 030, Train Rate: -8.4821\n",
      "Epoch 031, Train Rate: -8.4822\n",
      "Epoch 032, Train Rate: -8.4822\n",
      "Epoch 033, Train Rate: -8.4823\n",
      "Epoch 034, Train Rate: -8.4823\n",
      "Epoch 035, Train Rate: -8.4823\n",
      "Epoch 036, Train Rate: -8.4824\n",
      "Epoch 037, Train Rate: -8.4824\n",
      "Epoch 038, Train Rate: -8.4825\n",
      "Epoch 039, Train Rate: -8.4825\n",
      "Epoch 040, Train Rate: -8.4825\n",
      "Epoch 041, Train Rate: -8.4825\n",
      "Epoch 042, Train Rate: -8.4826\n",
      "Epoch 043, Train Rate: -8.4826\n",
      "Epoch 044, Train Rate: -8.4826\n",
      "Epoch 045, Train Rate: -8.4826\n",
      "Epoch 046, Train Rate: -8.4826\n",
      "Epoch 047, Train Rate: -8.4826\n",
      "Epoch 048, Train Rate: -8.4826\n",
      "Epoch 049, Train Rate: -8.4826\n",
      "Epoch 050, Train Rate: -8.4827\n",
      "Epoch 051, Train Rate: -8.4827\n",
      "Epoch 052, Train Rate: -8.4827\n",
      "Epoch 053, Train Rate: -8.4827\n",
      "Epoch 054, Train Rate: -8.4827\n",
      "Epoch 055, Train Rate: -8.4827\n",
      "Epoch 056, Train Rate: -8.4827\n",
      "Epoch 057, Train Rate: -8.4827\n",
      "Epoch 058, Train Rate: -8.4827\n",
      "Epoch 059, Train Rate: -8.4827\n",
      "Epoch 060, Train Rate: -8.4827\n",
      "Epoch 061, Train Rate: -8.4827\n",
      "Epoch 062, Train Rate: -8.4827\n",
      "Epoch 063, Train Rate: -8.4827\n",
      "Epoch 064, Train Rate: -8.4827\n",
      "Epoch 065, Train Rate: -8.4827\n",
      "Epoch 066, Train Rate: -8.4827\n",
      "Epoch 067, Train Rate: -8.4827\n",
      "Epoch 068, Train Rate: -8.4827\n",
      "Epoch 069, Train Rate: -8.4827\n",
      "Epoch 070, Train Rate: -8.4827\n",
      "Epoch 071, Train Rate: -8.4827\n",
      "Epoch 072, Train Rate: -8.4827\n",
      "Epoch 073, Train Rate: -8.4827\n",
      "Epoch 074, Train Rate: -8.4827\n",
      "Epoch 075, Train Rate: -8.4827\n",
      "Epoch 076, Train Rate: -8.4827\n",
      "Epoch 077, Train Rate: -8.4827\n",
      "Epoch 078, Train Rate: -8.4827\n",
      "Epoch 079, Train Rate: -8.4827\n",
      "Epoch 080, Train Rate: -8.4827\n",
      "Epoch 081, Train Rate: -8.4827\n",
      "Epoch 082, Train Rate: -8.4827\n",
      "Epoch 083, Train Rate: -8.4827\n",
      "Epoch 084, Train Rate: -8.4827\n",
      "Epoch 085, Train Rate: -8.4827\n",
      "Epoch 086, Train Rate: -8.4827\n",
      "Epoch 087, Train Rate: -8.4827\n",
      "Epoch 088, Train Rate: -8.4827\n",
      "Epoch 089, Train Rate: -8.4827\n",
      "Epoch 090, Train Rate: -8.4827\n",
      "Epoch 091, Train Rate: -8.4827\n",
      "Epoch 092, Train Rate: -8.4827\n",
      "Epoch 093, Train Rate: -8.4827\n",
      "Epoch 094, Train Rate: -8.4827\n",
      "Epoch 095, Train Rate: -8.4827\n",
      "Epoch 096, Train Rate: -8.4827\n",
      "Epoch 097, Train Rate: -8.4827\n",
      "Epoch 098, Train Rate: -8.4827\n",
      "Epoch 099, Train Rate: -8.4827\n"
     ]
    }
   ],
   "source": [
    "record = []\n",
    "for epoch in range(0, 100):\n",
    "    if epoch % 1 == 0:\n",
    "        with torch.no_grad():\n",
    "            train_rate = test_model_DL(train_loader_DL, model_ANN)\n",
    "        print(f'Epoch {epoch:03d}, Train Rate: {train_rate:.4f}')\n",
    "        record.append(train_rate)\n",
    "\n",
    "    train_model_DL(model_ANN, optimizer_ANN, train_loader_DL)\n",
    "    scheduler_ANN.step()"
   ]
  },
  {
   "cell_type": "code",
   "execution_count": 55,
   "metadata": {},
   "outputs": [
    {
     "data": {
      "text/plain": [
       "np.float64(0.9221692792347777)"
      ]
     },
     "execution_count": 55,
     "metadata": {},
     "output_type": "execute_result"
    }
   ],
   "source": [
    "test_data = scipy.io.loadmat('cf_test_6_30_sum.mat')\n",
    "opt_rates = np.sum(test_data['R_cf_opt_min']) / len(test_loader.dataset)\n",
    "-test_model_DL(test_loader_DL, model_ANN)/opt_rates"
   ]
  },
  {
   "cell_type": "code",
   "execution_count": 76,
   "metadata": {},
   "outputs": [],
   "source": [
    "for (data, d_test, c_test) in test_loader:\n",
    "    K = d_test.shape[-1]\n",
    "    n = len(data['UE'].x)\n",
    "    bs = len(data['UE'].x) // K\n",
    "\n",
    "    user_feats = data['AP'].x\n",
    "    item_feats = data['UE'].x\n",
    "    node_features = {'AP': user_feats, 'UE': item_feats}\n",
    "\n",
    "    output = model_qml_mid(node_features, data.edge_index_dict, data.edge_attr_dict).reshape(bs, -1)\n",
    "    output1 = model(node_features, data.edge_index_dict, data.edge_attr_dict).reshape(bs, -1)\n",
    "    output_a = model_qml_mid_angle(node_features, data.edge_index_dict, data.edge_attr_dict).reshape(bs, -1)\n",
    "    full = torch.ones_like(output)\n",
    "    random = torch.rand_like(output)\n",
    "    qgnn_rates = -sum_rate_loss(output, d_test, c_test).detach().numpy()\n",
    "    angle_rates = -sum_rate_loss(output_a, d_test, c_test).detach().numpy()\n",
    "    gnn_rates = -sum_rate_loss(output1, d_test, c_test).detach().numpy()\n",
    "    all_one = -sum_rate_loss(full, d_test, c_test).detach().numpy()\n",
    "    rand_rates = -sum_rate_loss(random, d_test, c_test).detach().numpy()"
   ]
  },
  {
   "cell_type": "code",
   "execution_count": 80,
   "metadata": {},
   "outputs": [
    {
     "data": {
      "image/png": "[encoded data removed]",
      "text/plain": [
       "<Figure size 800x400 with 1 Axes>"
      ]
     },
     "metadata": {},
     "output_type": "display_data"
    }
   ],
   "source": [
    "import pandas as pd\n",
    "import matplotlib.pyplot as plt\n",
    "\n",
    "\n",
    "def count_parameters(model):\n",
    "    quantum_params = 0\n",
    "    classical_params = 0\n",
    "    for name, param in model.named_parameters():\n",
    "        if 'lin_qml' in name or 'lin_res' in name:  \n",
    "            quantum_params += param.numel()\n",
    "        else:  \n",
    "            classical_params += param.numel()\n",
    "    return quantum_params, classical_params\n",
    "\n",
    "models = {\n",
    "    \"GNN\": model,\n",
    "    \"HQGNN Amplitude\": model_qml_mid,\n",
    "    \"HQGNN Angle\": model_qml_mid_angle,\n",
    "    \"DL\": model_ANN\n",
    "}\n",
    "\n",
    "params_count = {\n",
    "    name: count_parameters(model)\n",
    "    for name, model in models.items()\n",
    "}\n",
    "test_data = scipy.io.loadmat('cf_test_6_30_sum.mat')\n",
    "opt_rates = np.sum(test_data['R_cf_opt_min']) / len(test_loader.dataset)\n",
    "\n",
    "\n",
    "avg_gnn_test_rates_amplitude = qgnn_rates#np.mean(qgnn_20)\n",
    "avg_gnn_test_rates_angle = angle_rates\n",
    "avg_gnn_test_rates = gnn_rates#np.mean(gnn_20)\n",
    "all_one_rates = all_one#np.mean(all_one_rates_20)\n",
    "rand_rates = rand_rates#np.mean(random_rates)\n",
    "avg_DL = -test_model_DL(test_loader_DL, model_ANN)\n",
    "    \n",
    "performance_percentages = {\n",
    "    \"GNN\": (avg_gnn_test_rates / opt_rates) * 100,\n",
    "    \"HQGNN Amplitude\": (avg_gnn_test_rates_amplitude / opt_rates) * 100,\n",
    "    \"DL\": (avg_DL / opt_rates) * 100,\n",
    "    \"HQGNN Angle\": (avg_gnn_test_rates_angle / opt_rates)*100,\n",
    "    \"Maximum Power\": (all_one_rates/opt_rates) * 100,\n",
    "    \"Random Power\": (rand_rates/opt_rates) * 100\n",
    "}\n",
    "\n",
    "\n",
    "data = {\n",
    "    \"Model\": [\"GNN\", \"HQGNN Amplitude\", \"HQGNN Angle\",\"DL\",\"Maximum Power\", \"Random Power\"],\n",
    "    \"Classical Parameters\": [params_count[\"GNN\"][1], params_count[\"HQGNN Amplitude\"][1],params_count[\"HQGNN Angle\"][1],params_count[\"DL\"][1],0,0],\n",
    "    \"Quantum Parameters\": [params_count[\"GNN\"][0], params_count[\"HQGNN Amplitude\"][0],params_count[\"HQGNN Angle\"][0],params_count[\"DL\"][0],0,0],\n",
    "    \"Total Parameters\": [params_count[\"GNN\"][0] + params_count[\"GNN\"][1],params_count[\"HQGNN Amplitude\"][0]+params_count[\"HQGNN Amplitude\"][1],params_count[\"HQGNN Angle\"][0]+params_count[\"HQGNN Angle\"][1],params_count[\"DL\"][1]+params_count[\"DL\"][0],0,0],\n",
    "    \"Performance (%)\": [performance_percentages[\"GNN\"], performance_percentages[\"HQGNN Amplitude\"],performance_percentages[\"HQGNN Angle\"],performance_percentages[\"DL\"],performance_percentages[\"Maximum Power\"],performance_percentages[\"Random Power\"]],\n",
    "}\n",
    "params_df = pd.DataFrame(data)\n",
    "\n",
    "\n",
    "fig, ax = plt.subplots(figsize=(8, 4))  \n",
    "ax.axis('tight')  \n",
    "ax.axis('off')  \n",
    "table = ax.table(cellText=params_df.values, colLabels=params_df.columns, loc='center', cellLoc='center')\n",
    "\n",
    "\n",
    "table.auto_set_font_size(False)\n",
    "table.set_fontsize(12)\n",
    "table.auto_set_column_width(col=list(range(len(params_df.columns))))\n",
    "\n",
    "for (row, col), cell in table.get_celld().items():\n",
    "    cell.set_linewidth(1.5)  # Độ dày đường kẻ\n",
    "    cell.set_height(0.3)    # Tăng chiều cao hàng\n",
    "    cell.set_width(0.25) \n",
    "\n",
    "# Hiển thị bảng\n",
    "plt.savefig(\"model_parameters_table_from_code.png\", dpi=300, bbox_inches='tight')\n",
    "plt.show()\n"
   ]
  }
 ],
 "metadata": {
  "colab": {
   "provenance": []
  },
  "kernelspec": {
   "display_name": "Python 3",
   "language": "python",
   "name": "python3"
  },
  "language_info": {
   "codemirror_mode": {
    "name": "ipython",
    "version": 3
   },
   "file_extension": ".py",
   "mimetype": "text/x-python",
   "name": "python",
   "nbconvert_exporter": "python",
   "pygments_lexer": "ipython3",
   "version": "3.11.9"
  }
 },
 "nbformat": 4,
 "nbformat_minor": 0
}
