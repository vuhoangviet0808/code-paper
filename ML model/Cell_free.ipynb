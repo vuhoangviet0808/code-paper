{
 "cells": [
  {
   "cell_type": "code",
   "execution_count": 1,
   "metadata": {
    "colab": {
     "base_uri": "https://localhost:8080/"
    },
    "id": "GWfXjQn6_uOO",
    "outputId": "0d7afd19-7c70-4276-93f3-cf7f595477ef"
   },
   "outputs": [
    {
     "name": "stdout",
     "output_type": "stream",
     "text": [
      "Requirement already satisfied: torch in d:\\annaconda\\envs\\khanh_son_env\\lib\\site-packages (2.2.2)\n",
      "Requirement already satisfied: filelock in c:\\users\\pc230\\appdata\\roaming\\python\\python311\\site-packages (from torch) (3.13.1)\n",
      "Requirement already satisfied: typing-extensions>=4.8.0 in c:\\users\\pc230\\appdata\\roaming\\python\\python311\\site-packages (from torch) (4.12.2)\n",
      "Requirement already satisfied: sympy in c:\\users\\pc230\\appdata\\roaming\\python\\python311\\site-packages (from torch) (1.13.1)\n",
      "Requirement already satisfied: networkx in c:\\users\\pc230\\appdata\\roaming\\python\\python311\\site-packages (from torch) (3.2.1)\n",
      "Requirement already satisfied: jinja2 in c:\\users\\pc230\\appdata\\roaming\\python\\python311\\site-packages (from torch) (3.1.2)\n",
      "Requirement already satisfied: fsspec in c:\\users\\pc230\\appdata\\roaming\\python\\python311\\site-packages (from torch) (2023.10.0)\n",
      "Requirement already satisfied: MarkupSafe>=2.0 in c:\\users\\pc230\\appdata\\roaming\\python\\python311\\site-packages (from jinja2->torch) (2.1.3)\n",
      "Requirement already satisfied: mpmath<1.4,>=1.1.0 in c:\\users\\pc230\\appdata\\roaming\\python\\python311\\site-packages (from sympy->torch) (1.3.0)\n",
      "Note: you may need to restart the kernel to use updated packages.\n"
     ]
    },
    {
     "name": "stderr",
     "output_type": "stream",
     "text": [
      "\n",
      "[notice] A new release of pip is available: 23.2.1 -> 24.3.1\n",
      "[notice] To update, run: python.exe -m pip install --upgrade pip\n"
     ]
    }
   ],
   "source": [
    "pip install torch"
   ]
  },
  {
   "cell_type": "code",
   "execution_count": 2,
   "metadata": {
    "colab": {
     "base_uri": "https://localhost:8080/"
    },
    "id": "IqZjD-C__0wm",
    "outputId": "cc38c36e-9bfb-4c8e-ef67-a3e68ab437b1"
   },
   "outputs": [
    {
     "name": "stdout",
     "output_type": "stream",
     "text": [
      "Requirement already satisfied: torch_geometric in c:\\users\\pc230\\appdata\\roaming\\python\\python311\\site-packages (2.6.1)Note: you may need to restart the kernel to use updated packages.\n",
      "\n",
      "Requirement already satisfied: aiohttp in c:\\users\\pc230\\appdata\\roaming\\python\\python311\\site-packages (from torch_geometric) (3.11.8)\n",
      "Requirement already satisfied: fsspec in c:\\users\\pc230\\appdata\\roaming\\python\\python311\\site-packages (from torch_geometric) (2023.10.0)\n",
      "Requirement already satisfied: jinja2 in c:\\users\\pc230\\appdata\\roaming\\python\\python311\\site-packages (from torch_geometric) (3.1.2)\n",
      "Requirement already satisfied: numpy in c:\\users\\pc230\\appdata\\roaming\\python\\python311\\site-packages (from torch_geometric) (1.26.4)\n",
      "Requirement already satisfied: psutil>=5.8.0 in c:\\users\\pc230\\appdata\\roaming\\python\\python311\\site-packages (from torch_geometric) (5.9.6)\n",
      "Requirement already satisfied: pyparsing in c:\\users\\pc230\\appdata\\roaming\\python\\python311\\site-packages (from torch_geometric) (3.0.9)\n",
      "Requirement already satisfied: requests in c:\\users\\pc230\\appdata\\roaming\\python\\python311\\site-packages (from torch_geometric) (2.31.0)\n",
      "Requirement already satisfied: tqdm in c:\\users\\pc230\\appdata\\roaming\\python\\python311\\site-packages (from torch_geometric) (4.66.1)\n",
      "Requirement already satisfied: aiohappyeyeballs>=2.3.0 in c:\\users\\pc230\\appdata\\roaming\\python\\python311\\site-packages (from aiohttp->torch_geometric) (2.4.3)\n",
      "Requirement already satisfied: aiosignal>=1.1.2 in c:\\users\\pc230\\appdata\\roaming\\python\\python311\\site-packages (from aiohttp->torch_geometric) (1.3.1)\n",
      "Requirement already satisfied: attrs>=17.3.0 in c:\\users\\pc230\\appdata\\roaming\\python\\python311\\site-packages (from aiohttp->torch_geometric) (24.2.0)\n",
      "Requirement already satisfied: frozenlist>=1.1.1 in c:\\users\\pc230\\appdata\\roaming\\python\\python311\\site-packages (from aiohttp->torch_geometric) (1.5.0)\n",
      "Requirement already satisfied: multidict<7.0,>=4.5 in c:\\users\\pc230\\appdata\\roaming\\python\\python311\\site-packages (from aiohttp->torch_geometric) (6.1.0)\n",
      "Requirement already satisfied: propcache>=0.2.0 in c:\\users\\pc230\\appdata\\roaming\\python\\python311\\site-packages (from aiohttp->torch_geometric) (0.2.0)\n",
      "Requirement already satisfied: yarl<2.0,>=1.17.0 in c:\\users\\pc230\\appdata\\roaming\\python\\python311\\site-packages (from aiohttp->torch_geometric) (1.18.0)\n",
      "Requirement already satisfied: MarkupSafe>=2.0 in c:\\users\\pc230\\appdata\\roaming\\python\\python311\\site-packages (from jinja2->torch_geometric) (2.1.3)\n",
      "Requirement already satisfied: charset-normalizer<4,>=2 in c:\\users\\pc230\\appdata\\roaming\\python\\python311\\site-packages (from requests->torch_geometric) (3.3.2)\n",
      "Requirement already satisfied: idna<4,>=2.5 in c:\\users\\pc230\\appdata\\roaming\\python\\python311\\site-packages (from requests->torch_geometric) (3.7)\n",
      "Requirement already satisfied: urllib3<3,>=1.21.1 in c:\\users\\pc230\\appdata\\roaming\\python\\python311\\site-packages (from requests->torch_geometric) (2.2.1)\n",
      "Requirement already satisfied: certifi>=2017.4.17 in c:\\users\\pc230\\appdata\\roaming\\python\\python311\\site-packages (from requests->torch_geometric) (2023.7.22)\n",
      "Requirement already satisfied: colorama in c:\\users\\pc230\\appdata\\roaming\\python\\python311\\site-packages (from tqdm->torch_geometric) (0.4.6)\n"
     ]
    },
    {
     "name": "stderr",
     "output_type": "stream",
     "text": [
      "\n",
      "[notice] A new release of pip is available: 23.2.1 -> 24.3.1\n",
      "[notice] To update, run: python.exe -m pip install --upgrade pip\n"
     ]
    }
   ],
   "source": [
    "pip install torch_geometric"
   ]
  },
  {
   "cell_type": "code",
   "execution_count": 3,
   "metadata": {
    "id": "AJIjLgvqPkAf"
   },
   "outputs": [],
   "source": [
    "%%capture\n",
    "!kaggle datasets download -d vitvhong/uplink\n",
    "!unzip uplink.zip -d ./uplink\n",
    "%cd uplink"
   ]
  },
  {
   "cell_type": "code",
   "execution_count": 4,
   "metadata": {
    "id": "OxASrxpfpPh8"
   },
   "outputs": [],
   "source": [
    "import numpy as np\n",
    "import torch\n",
    "from torch_geometric.loader import  DataLoader\n",
    "from torch_geometric.data import HeteroData, Data, Dataset, Batch\n",
    "import torch.nn.functional as F\n",
    "from torch_geometric.nn import MessagePassing\n",
    "import torch.nn as nn\n",
    "from torch.nn import Sequential as Seq, Linear as Lin, ReLU, ELU, Sigmoid, BatchNorm1d as BN, ReLU6 as ReLU6\n",
    "import scipy.io\n",
    "from torch_geometric.nn import HeteroConv, SAGEConv\n",
    "import torch_geometric.nn as pyg_nn\n",
    "import torch_geometric.utils as pyg_utils\n",
    "import matplotlib.pyplot as plt"
   ]
  },
  {
   "cell_type": "code",
   "execution_count": 5,
   "metadata": {
    "id": "8aPGZnq4uMT-"
   },
   "outputs": [],
   "source": [
    "train_layouts = 10000\n",
    "test_layouts = 1000"
   ]
  },
  {
   "cell_type": "code",
   "execution_count": 6,
   "metadata": {
    "id": "Qf570KmTyQbX"
   },
   "outputs": [],
   "source": [
    "data = scipy.io.loadmat('cf_train_6_30_2.mat')\n",
    "beta_train = data['betas'][:train_layouts]\n",
    "direct_train = data['directs'][:train_layouts]\n",
    "cross_train = data['corsses'][:train_layouts].transpose(0,2,1)"
   ]
  },
  {
   "cell_type": "code",
   "execution_count": 7,
   "metadata": {
    "id": "B7VZhi8vyR8x"
   },
   "outputs": [],
   "source": [
    "test_data = scipy.io.loadmat('cf_test_6_30_2.mat')\n",
    "beta_test = test_data['betas']\n",
    "direct_test = test_data['directs']\n",
    "cross_test = test_data['corsses'].transpose(0,2,1)"
   ]
  },
  {
   "cell_type": "code",
   "execution_count": 8,
   "metadata": {
    "id": "sYyr8aCByTVt"
   },
   "outputs": [],
   "source": [
    "def normalize_data(train_data,test_data):\n",
    "    train_mean = np.mean(train_data)\n",
    "    train_std = np.std(train_data)\n",
    "    norm_train = (train_data)/train_std\n",
    "    norm_test = (test_data)/train_std\n",
    "    n1, n2 = norm_train.shape[0], norm_test.shape[0]\n",
    "    return norm_train, norm_test\n",
    "norm_train_losses, norm_test_losses = normalize_data(beta_train**(1/2), beta_test**(1/2) )"
   ]
  },
  {
   "cell_type": "code",
   "execution_count": 9,
   "metadata": {
    "id": "JMeC-WJayWRH"
   },
   "outputs": [],
   "source": [
    "## For GNNs, we allow train_K \\neq test_K\n",
    "train_K, train_M = beta_train.shape[2], beta_train.shape[1]\n",
    "test_K, test_M = beta_test.shape[2], beta_test.shape[1]"
   ]
  },
  {
   "cell_type": "code",
   "execution_count": 10,
   "metadata": {
    "id": "xdJ9_u8HycEQ"
   },
   "outputs": [],
   "source": [
    "class PCDataset(Dataset):\n",
    "    def __init__(self, norm_losses, direct, cross, KM):\n",
    "        self.norm_losses = norm_losses\n",
    "        self.direct = torch.tensor(direct, dtype=torch.float)\n",
    "        self.cross = torch.tensor(cross, dtype=torch.float)\n",
    "        self.KM = KM\n",
    "        self.get_cg()\n",
    "        self.process()\n",
    "\n",
    "    def build_graph(self, idx):\n",
    "        edge_feature = self.norm_losses[idx, :, :].reshape((self.KM[0] * self.KM[1], 1), order='F')\n",
    "        edge_feature = np.concatenate((edge_feature, np.ones_like(edge_feature)), axis=-1)\n",
    "        edge_feature = torch.tensor(edge_feature, dtype=torch.float)\n",
    "\n",
    "        edge_index = torch.tensor(self.adj, dtype=torch.long).t().contiguous()\n",
    "        edge_index_t = torch.tensor(self.adj_t, dtype=torch.long).t().contiguous()\n",
    "        ue_features = torch.ones((self.KM[0], 1))\n",
    "        ap_features = torch.ones((self.KM[1], 1))\n",
    "\n",
    "        data = HeteroData()\n",
    "        data['UE'].x = ue_features\n",
    "        data['AP'].x = ap_features\n",
    "        data['UE', 'com-by', 'AP'].edge_index = edge_index\n",
    "        data['UE', 'com-by', 'AP'].edge_attr = edge_feature\n",
    "        data['AP', 'com', 'UE'].edge_index = edge_index_t\n",
    "        data['AP', 'com', 'UE'].edge_attr = edge_feature\n",
    "\n",
    "        return data\n",
    "\n",
    "    def get_cg(self):\n",
    "        self.adj = []\n",
    "        self.adj_t = []\n",
    "        for i in range(self.KM[0]):\n",
    "            for j in range(self.KM[1]):\n",
    "                self.adj.append([i, j])\n",
    "                self.adj_t.append([j, i])\n",
    "\n",
    "    def process(self):\n",
    "        self.graph_list = [self.build_graph(i) for i in range(len(self.direct))]\n",
    "\n",
    "    def __len__(self):\n",
    "        return len(self.direct)\n",
    "\n",
    "    def __getitem__(self, index):\n",
    "        return self.graph_list[index], self.direct[index], self.cross[index]"
   ]
  },
  {
   "cell_type": "code",
   "execution_count": 11,
   "metadata": {
    "id": "yLDl46ZqygYW"
   },
   "outputs": [],
   "source": [
    "def collate(samples):\n",
    "    '''Pytorch Geometric collate function'''\n",
    "    graphs, direct, cross = map(list, zip(*samples))\n",
    "    batched_graph = Batch.from_data_list(graphs)\n",
    "    return batched_graph, torch.stack(direct), torch.stack(cross)"
   ]
  },
  {
   "cell_type": "code",
   "execution_count": 12,
   "metadata": {
    "id": "kbgSJEeryiJi"
   },
   "outputs": [],
   "source": [
    "train_data = PCDataset(norm_train_losses, direct_train, cross_train, (train_K, train_M))\n",
    "test_data = PCDataset(norm_test_losses, direct_test, cross_test, (test_K, test_M))"
   ]
  },
  {
   "cell_type": "markdown",
   "metadata": {
    "id": "RAbfIs250xcP"
   },
   "source": [
    "# Mục mới"
   ]
  },
  {
   "cell_type": "code",
   "execution_count": 13,
   "metadata": {
    "id": "DJpj7rEfylHh"
   },
   "outputs": [],
   "source": [
    "batch_size = 64\n",
    "train_loader = DataLoader(train_data, batch_size, shuffle=True, collate_fn=collate)\n",
    "test_loader = DataLoader(test_data, 1000, shuffle=False, collate_fn=collate)"
   ]
  },
  {
   "cell_type": "code",
   "execution_count": 14,
   "metadata": {
    "id": "46z6FzDvymjV"
   },
   "outputs": [],
   "source": [
    "def rate_loss(allocs, directlink_channel_losses, crosslink_channel_losses, test_mode = False):\n",
    "    SINRs_numerators = allocs * directlink_channel_losses**2\n",
    "    SINRs_denominators = torch.squeeze(torch.matmul(crosslink_channel_losses, torch.unsqueeze(allocs, axis=-1))) + directlink_channel_losses\n",
    "    SINRs = SINRs_numerators / SINRs_denominators\n",
    "    rates = torch.log2(1 + SINRs)\n",
    "    min_rate = torch.min(rates, dim = 1)[0] # take min\n",
    "    if test_mode:\n",
    "        return min_rate\n",
    "    else:\n",
    "        return -torch.mean(min_rate)"
   ]
  },
  {
   "cell_type": "code",
   "execution_count": 15,
   "metadata": {
    "id": "jXm55Q1MyoHJ"
   },
   "outputs": [],
   "source": [
    "def MLP(channels, batch_norm=True):\n",
    "    return Seq(*[\n",
    "        Seq(Lin(channels[i - 1], channels[i]), ReLU(), BN(channels[i]))\n",
    "        for i in range(1, len(channels))\n",
    "    ])\n",
    "class EdgeConv(MessagePassing):\n",
    "    def __init__(self, input_dim, node_dim, **kwargs):\n",
    "        super(EdgeConv, self).__init__(aggr='mean')  # mean aggregation\n",
    "        self.lin = MLP([input_dim, 32])\n",
    "        self.res_lin = Lin(node_dim, 32)\n",
    "        self.bn = BN(32)\n",
    "\n",
    "    def forward(self, x, edge_index, edge_attr):\n",
    "\n",
    "        feat_src, feat_dst = x\n",
    "\n",
    "\n",
    "        out = self.propagate(edge_index=edge_index, x=(feat_src, feat_dst), edge_attr=edge_attr)\n",
    "\n",
    "\n",
    "        return self.bn(out + self.res_lin(feat_dst))\n",
    "\n",
    "    def message(self, x_j, x_i, edge_attr):\n",
    "        # Tạo ra thông điệp từ các nút nguồn, nút đích và đặc tính cạnh\n",
    "        out = torch.cat([x_j, x_i, edge_attr], dim=1)\n",
    "        return self.lin(out)\n",
    "\n",
    "    def update(self, aggr_out):\n",
    "        # Cập nhật giá trị nút đích sau khi tập hợp\n",
    "        return aggr_out\n",
    "\n"
   ]
  },
  {
   "cell_type": "code",
   "execution_count": 16,
   "metadata": {
    "id": "fDGAbhqVyp-4"
   },
   "outputs": [],
   "source": [
    "class RGCN(nn.Module):\n",
    "    def __init__(self):\n",
    "        super(RGCN, self).__init__()\n",
    "        self.conv1 = HeteroConv({\n",
    "            ('UE', 'com-by', 'AP'): EdgeConv(4, 1),\n",
    "            ('AP', 'com', 'UE'): EdgeConv(4, 1)\n",
    "        }, aggr='mean')\n",
    "\n",
    "        self.conv2 = HeteroConv({\n",
    "            ('UE', 'com-by', 'AP'): EdgeConv(66, 32),\n",
    "            ('AP', 'com', 'UE'): EdgeConv(66, 32)\n",
    "        }, aggr='mean')\n",
    "\n",
    "        self.conv3 = HeteroConv({\n",
    "            ('UE', 'com-by', 'AP'): EdgeConv(66, 32),\n",
    "            ('AP', 'com', 'UE'): EdgeConv(66, 32)\n",
    "        }, aggr='mean')\n",
    "\n",
    "        self.mlp = MLP([32, 16])\n",
    "        self.mlp = nn.Sequential(*[self.mlp, Seq(Lin(16, 1), Sigmoid())])\n",
    "\n",
    "    def forward(self,x_dict, edge_index_dict, edge_attr_dict):\n",
    "        out = self.conv1(x_dict, edge_index_dict, edge_attr_dict)\n",
    "        out = self.conv2(out, edge_index_dict, edge_attr_dict)\n",
    "        out = self.conv3(out, edge_index_dict, edge_attr_dict)\n",
    "        out = self.mlp(out['UE'])\n",
    "        return out\n"
   ]
  },
  {
   "cell_type": "code",
   "execution_count": 17,
   "metadata": {
    "id": "YnBQvvFyyrdz"
   },
   "outputs": [],
   "source": [
    "model = RGCN()\n",
    "optimizer = torch.optim.Adam(model.parameters(), lr=5e-5)\n",
    "scheduler = torch.optim.lr_scheduler.StepLR(optimizer, step_size=10, gamma=0.5)"
   ]
  },
  {
   "cell_type": "code",
   "execution_count": 18,
   "metadata": {},
   "outputs": [
    {
     "name": "stdout",
     "output_type": "stream",
     "text": [
      "Number of trainable parameters: 14593\n"
     ]
    }
   ],
   "source": [
    "trainable_params = sum(p.numel() for p in model.parameters() if p.requires_grad)\n",
    "print(f\"Number of trainable parameters: {trainable_params}\")"
   ]
  },
  {
   "cell_type": "code",
   "execution_count": 19,
   "metadata": {
    "id": "mJ8dsxg3yszd"
   },
   "outputs": [],
   "source": [
    "def train_model(epoch, model, optimizer, train_loader):\n",
    "    \"\"\" Train for one epoch. \"\"\"\n",
    "    model.train()\n",
    "    loss_all = 0\n",
    "    for batch_idx, (data, d_train, c_train) in enumerate(train_loader):\n",
    "        K = d_train.shape[-1]\n",
    "        n = len(data['UE'].x)\n",
    "        bs = len(data['UE'].x) // K\n",
    "\n",
    "        optimizer.zero_grad()\n",
    "\n",
    "        # Lấy các đặc trưng nút từ từ điển x_dict\n",
    "        user_feats = data['AP'].x\n",
    "        item_feats = data['UE'].x\n",
    "        node_features = {'AP': user_feats, 'UE': item_feats}\n",
    "\n",
    "        # Truyền qua mô hình, bao gồm cả edge_attr_dict\n",
    "        output = model(node_features, data.edge_index_dict, data.edge_attr_dict).reshape(bs, -1)\n",
    "\n",
    "        # Tính loss và thực hiện backpropagation\n",
    "        loss = rate_loss(output, d_train, c_train)\n",
    "        loss.backward()\n",
    "\n",
    "        loss_all += loss.item() * bs\n",
    "        optimizer.step()\n",
    "\n",
    "    return loss_all / len(train_loader.dataset)\n",
    "\n",
    "def test_model(loader, model):\n",
    "    model.eval()\n",
    "    correct = 0\n",
    "    with torch.no_grad():\n",
    "        for (data, d_test, c_test) in loader:\n",
    "            K = d_test.shape[-1]\n",
    "            n = len(data['UE'].x)\n",
    "            bs = len(data['UE'].x) // K\n",
    "\n",
    "            # Lấy các đặc trưng nút từ từ điển x_dict\n",
    "            user_feats = data['AP'].x\n",
    "            item_feats = data['UE'].x\n",
    "            # Create a dictionary for node features\n",
    "            node_features = {'AP': user_feats, 'UE': item_feats}\n",
    "\n",
    "            output = model(node_features, data.edge_index_dict, data.edge_attr_dict).reshape(bs, -1)\n",
    "\n",
    "            # Tính loss\n",
    "            loss = rate_loss(output, d_test, c_test)\n",
    "            correct += loss.item() * bs\n",
    "\n",
    "    return correct / len(loader.dataset)"
   ]
  },
  {
   "cell_type": "code",
   "execution_count": 20,
   "metadata": {
    "colab": {
     "base_uri": "https://localhost:8080/"
    },
    "id": "q0acdxv18R11",
    "outputId": "e6b64da4-57b4-46c1-ac42-6059d1d592c9"
   },
   "outputs": [
    {
     "name": "stdout",
     "output_type": "stream",
     "text": [
      "Epoch 000, Train Rate: -0.2396, Test Rate: -0.2634\n",
      "Epoch 001, Train Rate: -0.4320, Test Rate: -0.4500\n",
      "Epoch 002, Train Rate: -0.5186, Test Rate: -0.5308\n",
      "Epoch 003, Train Rate: -0.5320, Test Rate: -0.5418\n",
      "Epoch 004, Train Rate: -0.5617, Test Rate: -0.5688\n",
      "Epoch 005, Train Rate: -0.5725, Test Rate: -0.5805\n",
      "Epoch 006, Train Rate: -0.5903, Test Rate: -0.5961\n",
      "Epoch 007, Train Rate: -0.5836, Test Rate: -0.5897\n",
      "Epoch 008, Train Rate: -0.5828, Test Rate: -0.5885\n",
      "Epoch 009, Train Rate: -0.5923, Test Rate: -0.5979\n",
      "Epoch 010, Train Rate: -0.5913, Test Rate: -0.5966\n",
      "Epoch 011, Train Rate: -0.6052, Test Rate: -0.6101\n",
      "Epoch 012, Train Rate: -0.6235, Test Rate: -0.6269\n",
      "Epoch 013, Train Rate: -0.6225, Test Rate: -0.6264\n",
      "Epoch 014, Train Rate: -0.6257, Test Rate: -0.6274\n",
      "Epoch 015, Train Rate: -0.6267, Test Rate: -0.6297\n",
      "Epoch 016, Train Rate: -0.6366, Test Rate: -0.6393\n",
      "Epoch 017, Train Rate: -0.6229, Test Rate: -0.6235\n",
      "Epoch 018, Train Rate: -0.6326, Test Rate: -0.6329\n",
      "Epoch 019, Train Rate: -0.6388, Test Rate: -0.6415\n",
      "Epoch 020, Train Rate: -0.6419, Test Rate: -0.6453\n",
      "Epoch 021, Train Rate: -0.6420, Test Rate: -0.6453\n",
      "Epoch 022, Train Rate: -0.6427, Test Rate: -0.6449\n",
      "Epoch 023, Train Rate: -0.6462, Test Rate: -0.6496\n",
      "Epoch 024, Train Rate: -0.6467, Test Rate: -0.6494\n",
      "Epoch 025, Train Rate: -0.6402, Test Rate: -0.6433\n",
      "Epoch 026, Train Rate: -0.6446, Test Rate: -0.6467\n",
      "Epoch 027, Train Rate: -0.6441, Test Rate: -0.6468\n",
      "Epoch 028, Train Rate: -0.6432, Test Rate: -0.6455\n",
      "Epoch 029, Train Rate: -0.6438, Test Rate: -0.6460\n",
      "Epoch 030, Train Rate: -0.6474, Test Rate: -0.6503\n",
      "Epoch 031, Train Rate: -0.6473, Test Rate: -0.6500\n",
      "Epoch 032, Train Rate: -0.6485, Test Rate: -0.6512\n",
      "Epoch 033, Train Rate: -0.6511, Test Rate: -0.6536\n",
      "Epoch 034, Train Rate: -0.6498, Test Rate: -0.6527\n",
      "Epoch 035, Train Rate: -0.6427, Test Rate: -0.6454\n",
      "Epoch 036, Train Rate: -0.6506, Test Rate: -0.6532\n",
      "Epoch 037, Train Rate: -0.6507, Test Rate: -0.6534\n",
      "Epoch 038, Train Rate: -0.6501, Test Rate: -0.6527\n",
      "Epoch 039, Train Rate: -0.6507, Test Rate: -0.6532\n",
      "Epoch 040, Train Rate: -0.6507, Test Rate: -0.6532\n",
      "Epoch 041, Train Rate: -0.6514, Test Rate: -0.6533\n",
      "Epoch 042, Train Rate: -0.6526, Test Rate: -0.6550\n",
      "Epoch 043, Train Rate: -0.6536, Test Rate: -0.6565\n",
      "Epoch 044, Train Rate: -0.6554, Test Rate: -0.6575\n",
      "Epoch 045, Train Rate: -0.6520, Test Rate: -0.6542\n",
      "Epoch 046, Train Rate: -0.6536, Test Rate: -0.6557\n",
      "Epoch 047, Train Rate: -0.6540, Test Rate: -0.6561\n",
      "Epoch 048, Train Rate: -0.6540, Test Rate: -0.6565\n",
      "Epoch 049, Train Rate: -0.6523, Test Rate: -0.6547\n",
      "Epoch 050, Train Rate: -0.6524, Test Rate: -0.6545\n",
      "Epoch 051, Train Rate: -0.6536, Test Rate: -0.6559\n",
      "Epoch 052, Train Rate: -0.6510, Test Rate: -0.6535\n",
      "Epoch 053, Train Rate: -0.6529, Test Rate: -0.6553\n",
      "Epoch 054, Train Rate: -0.6409, Test Rate: -0.6435\n",
      "Epoch 055, Train Rate: -0.6518, Test Rate: -0.6544\n",
      "Epoch 056, Train Rate: -0.6528, Test Rate: -0.6550\n",
      "Epoch 057, Train Rate: -0.6414, Test Rate: -0.6440\n",
      "Epoch 058, Train Rate: -0.6545, Test Rate: -0.6572\n",
      "Epoch 059, Train Rate: -0.6519, Test Rate: -0.6543\n",
      "Epoch 060, Train Rate: -0.6529, Test Rate: -0.6553\n",
      "Epoch 061, Train Rate: -0.6534, Test Rate: -0.6553\n",
      "Epoch 062, Train Rate: -0.6536, Test Rate: -0.6560\n",
      "Epoch 063, Train Rate: -0.6545, Test Rate: -0.6569\n",
      "Epoch 064, Train Rate: -0.6521, Test Rate: -0.6540\n",
      "Epoch 065, Train Rate: -0.6530, Test Rate: -0.6553\n",
      "Epoch 066, Train Rate: -0.6536, Test Rate: -0.6558\n",
      "Epoch 067, Train Rate: -0.6511, Test Rate: -0.6528\n",
      "Epoch 068, Train Rate: -0.6510, Test Rate: -0.6533\n",
      "Epoch 069, Train Rate: -0.6436, Test Rate: -0.6452\n",
      "Epoch 070, Train Rate: -0.6523, Test Rate: -0.6550\n",
      "Epoch 071, Train Rate: -0.6551, Test Rate: -0.6574\n",
      "Epoch 072, Train Rate: -0.6520, Test Rate: -0.6543\n",
      "Epoch 073, Train Rate: -0.6521, Test Rate: -0.6544\n",
      "Epoch 074, Train Rate: -0.6549, Test Rate: -0.6572\n",
      "Epoch 075, Train Rate: -0.6527, Test Rate: -0.6552\n",
      "Epoch 076, Train Rate: -0.6538, Test Rate: -0.6560\n",
      "Epoch 077, Train Rate: -0.6541, Test Rate: -0.6566\n",
      "Epoch 078, Train Rate: -0.6551, Test Rate: -0.6573\n",
      "Epoch 079, Train Rate: -0.6534, Test Rate: -0.6558\n",
      "Epoch 080, Train Rate: -0.6543, Test Rate: -0.6565\n",
      "Epoch 081, Train Rate: -0.6534, Test Rate: -0.6554\n",
      "Epoch 082, Train Rate: -0.6539, Test Rate: -0.6562\n",
      "Epoch 083, Train Rate: -0.6520, Test Rate: -0.6542\n",
      "Epoch 084, Train Rate: -0.6542, Test Rate: -0.6568\n",
      "Epoch 085, Train Rate: -0.6559, Test Rate: -0.6582\n",
      "Epoch 086, Train Rate: -0.6522, Test Rate: -0.6544\n",
      "Epoch 087, Train Rate: -0.6557, Test Rate: -0.6578\n",
      "Epoch 088, Train Rate: -0.6509, Test Rate: -0.6532\n",
      "Epoch 089, Train Rate: -0.6547, Test Rate: -0.6574\n",
      "Epoch 090, Train Rate: -0.6558, Test Rate: -0.6581\n",
      "Epoch 091, Train Rate: -0.6537, Test Rate: -0.6559\n",
      "Epoch 092, Train Rate: -0.6561, Test Rate: -0.6583\n",
      "Epoch 093, Train Rate: -0.6537, Test Rate: -0.6559\n",
      "Epoch 094, Train Rate: -0.6529, Test Rate: -0.6553\n",
      "Epoch 095, Train Rate: -0.6565, Test Rate: -0.6583\n",
      "Epoch 096, Train Rate: -0.6517, Test Rate: -0.6540\n",
      "Epoch 097, Train Rate: -0.6540, Test Rate: -0.6565\n",
      "Epoch 098, Train Rate: -0.6550, Test Rate: -0.6575\n",
      "Epoch 099, Train Rate: -0.6549, Test Rate: -0.6572\n"
     ]
    }
   ],
   "source": [
    "record_gnn = []\n",
    "\n",
    "for epoch in range(0, 100):\n",
    "    if epoch % 1 == 0:\n",
    "        with torch.no_grad():\n",
    "            test_rate = test_model(test_loader, model)\n",
    "            train_rate = test_model(train_loader, model)\n",
    "        print(f'Epoch {epoch:03d}, Train Rate: {train_rate:.4f}, Test Rate: {test_rate:.4f}')\n",
    "        record_gnn.append([train_rate, test_rate])\n",
    "\n",
    "    train_model(epoch, model, optimizer, train_loader )\n",
    "    scheduler.step()\n"
   ]
  },
  {
   "cell_type": "markdown",
   "metadata": {
    "id": "RVvPmDjTRUhX"
   },
   "source": [
    "# Quantum MLP"
   ]
  },
  {
   "cell_type": "markdown",
   "metadata": {
    "id": "2uPjW6qyrtBV"
   },
   "source": [
    "# HQGNN Amplitude Embedding"
   ]
  },
  {
   "cell_type": "code",
   "execution_count": 24,
   "metadata": {
    "colab": {
     "base_uri": "https://localhost:8080/"
    },
    "id": "SJ4YAp-R00l5",
    "outputId": "8c4459e1-51cf-4c46-b767-2fa8b2943101"
   },
   "outputs": [
    {
     "name": "stdout",
     "output_type": "stream",
     "text": [
      "Requirement already satisfied: pennylane in d:\\annaconda\\envs\\khanh_son_env\\lib\\site-packages (0.38.0)\n",
      "Requirement already satisfied: numpy<2.0 in c:\\users\\pc230\\appdata\\roaming\\python\\python311\\site-packages (from pennylane) (1.26.4)\n",
      "Requirement already satisfied: scipy in c:\\users\\pc230\\appdata\\roaming\\python\\python311\\site-packages (from pennylane) (1.11.1)\n",
      "Requirement already satisfied: networkx in c:\\users\\pc230\\appdata\\roaming\\python\\python311\\site-packages (from pennylane) (3.2.1)\n",
      "Requirement already satisfied: rustworkx>=0.14.0 in d:\\annaconda\\envs\\khanh_son_env\\lib\\site-packages (from pennylane) (0.15.1)\n",
      "Requirement already satisfied: autograd in c:\\users\\pc230\\appdata\\roaming\\python\\python311\\site-packages (from pennylane) (1.6.2)\n",
      "Requirement already satisfied: toml in d:\\annaconda\\envs\\khanh_son_env\\lib\\site-packages (from pennylane) (0.10.2)\n",
      "Requirement already satisfied: appdirs in d:\\annaconda\\envs\\khanh_son_env\\lib\\site-packages (from pennylane) (1.4.4)\n",
      "Requirement already satisfied: autoray>=0.6.11 in d:\\annaconda\\envs\\khanh_son_env\\lib\\site-packages (from pennylane) (0.6.12)\n",
      "Requirement already satisfied: cachetools in c:\\users\\pc230\\appdata\\roaming\\python\\python311\\site-packages (from pennylane) (5.3.2)\n",
      "Requirement already satisfied: pennylane-lightning>=0.38 in d:\\annaconda\\envs\\khanh_son_env\\lib\\site-packages (from pennylane) (0.38.0)\n",
      "Requirement already satisfied: requests in c:\\users\\pc230\\appdata\\roaming\\python\\python311\\site-packages (from pennylane) (2.31.0)\n",
      "Requirement already satisfied: typing-extensions in c:\\users\\pc230\\appdata\\roaming\\python\\python311\\site-packages (from pennylane) (4.12.2)\n",
      "Requirement already satisfied: packaging in c:\\users\\pc230\\appdata\\roaming\\python\\python311\\site-packages (from pennylane) (23.1)\n",
      "Requirement already satisfied: future>=0.15.2 in d:\\annaconda\\envs\\khanh_son_env\\lib\\site-packages (from autograd->pennylane) (1.0.0)\n",
      "Requirement already satisfied: charset-normalizer<4,>=2 in c:\\users\\pc230\\appdata\\roaming\\python\\python311\\site-packages (from requests->pennylane) (3.3.2)\n",
      "Requirement already satisfied: idna<4,>=2.5 in c:\\users\\pc230\\appdata\\roaming\\python\\python311\\site-packages (from requests->pennylane) (3.7)\n",
      "Requirement already satisfied: urllib3<3,>=1.21.1 in c:\\users\\pc230\\appdata\\roaming\\python\\python311\\site-packages (from requests->pennylane) (2.2.1)\n",
      "Requirement already satisfied: certifi>=2017.4.17 in c:\\users\\pc230\\appdata\\roaming\\python\\python311\\site-packages (from requests->pennylane) (2023.7.22)\n",
      "Note: you may need to restart the kernel to use updated packages.\n"
     ]
    },
    {
     "name": "stderr",
     "output_type": "stream",
     "text": [
      "\n",
      "[notice] A new release of pip is available: 23.2.1 -> 24.3.1\n",
      "[notice] To update, run: python.exe -m pip install --upgrade pip\n"
     ]
    }
   ],
   "source": [
    "pip install pennylane"
   ]
  },
  {
   "cell_type": "code",
   "execution_count": 25,
   "metadata": {
    "id": "j85HXPW5Js5y"
   },
   "outputs": [],
   "source": [
    "import pennylane as qml\n",
    "from pennylane import numpy as np\n",
    "\n",
    "n_qubits = 5\n",
    "n_layers =  10\n",
    "dev = qml.device('default.qubit', wires=n_qubits)\n"
   ]
  },
  {
   "cell_type": "code",
   "execution_count": 26,
   "metadata": {
    "id": "dzdiSp2LY7b-"
   },
   "outputs": [],
   "source": [
    "n_layers_circuit_X = 2\n",
    "def circuit_X_entangling(weights, n_qubits):\n",
    "    qml.CRX(weights[-1], wires=[n_qubits-1, 0])\n",
    "    for i in range(n_qubits-1):\n",
    "        qml.CRX(weights[i], wires=[i, (i+1)])\n",
    "\n",
    "@qml.qnode(dev, interface='torch')\n",
    "def circuit_X(inputs, layer_weights):\n",
    "    qml.AmplitudeEmbedding(features=inputs, wires=range(n_qubits), normalize=True, pad_with=0.)\n",
    "    for l in range(n_layers_circuit_X):\n",
    "        circuit_X_entangling(layer_weights[l], n_qubits)\n",
    "    return qml.probs(wires=range(n_qubits))\n",
    "weight_shapes_circuit_X = { \"layer_weights\": (n_layers_circuit_X, n_qubits)}"
   ]
  },
  {
   "cell_type": "code",
   "execution_count": 27,
   "metadata": {
    "id": "HUVr0YnsdC-w"
   },
   "outputs": [],
   "source": [
    "n_layers_circuit_Z = 2\n",
    "def circuit_Z_entangling(weights, n_qubits):\n",
    "    qml.CRZ(weights[-1], wires=[n_qubits - 1, 0])\n",
    "    for i in range(n_qubits - 1):\n",
    "        qml.CRZ(weights[i], wires=[i, i + 1])\n",
    "\n",
    "@qml.qnode(dev, interface='torch')\n",
    "def circuit_Z(inputs, layer_weights):\n",
    "    qml.AmplitudeEmbedding(features=inputs, wires=range(n_qubits), normalize=True, pad_with=0.)\n",
    "    for l in range(n_layers_circuit_Z):\n",
    "        circuit_Z_entangling(layer_weights[l], n_qubits)\n",
    "    return qml.probs(wires=range(n_qubits))\n",
    "weight_shapes_circuit_Z = { \"layer_weights\": (n_layers_circuit_Z, n_qubits)}"
   ]
  },
  {
   "cell_type": "code",
   "execution_count": 28,
   "metadata": {
    "id": "MPtCqEwDI7qk"
   },
   "outputs": [],
   "source": [
    "def MLP(channels, batch_norm=True):\n",
    "    return Seq(*[\n",
    "        Seq(Lin(channels[i - 1], channels[i]), ReLU(), BN(channels[i]))\n",
    "        for i in range(1, len(channels))\n",
    "    ])\n",
    "class Q_layer(MessagePassing):\n",
    "    def __init__(self,src_dim, dst_dim, edge_dim, **kwargs):\n",
    "        super(Q_layer, self).__init__(aggr='mean')  # mean aggregation\n",
    "        self.lin_res = qml.qnn.TorchLayer(circuit_Z, weight_shapes_circuit_Z)\n",
    "        self.lin_qml = qml.qnn.TorchLayer(circuit_X, weight_shapes_circuit_X)\n",
    "        self.in_linear = nn.Linear(src_dim + dst_dim + edge_dim, 2 ** n_qubits)\n",
    "        self.bn = BN(2 ** n_qubits)\n",
    "\n",
    "    def forward(self, x, edge_index, edge_attr):\n",
    "        feat_src, feat_dst = x\n",
    "        out = self.propagate(edge_index=edge_index, x=(feat_src, feat_dst), edge_attr=edge_attr)\n",
    "        out = out + self.lin_res(feat_dst)\n",
    "        return self.bn(out)\n",
    "\n",
    "    def message(self, x_j, x_i, edge_attr):\n",
    "        out = torch.cat([x_j, x_i, edge_attr], dim=1)\n",
    "        out = self.in_linear(out)\n",
    "        out = self.lin_qml(out)\n",
    "        return out\n",
    "\n",
    "    def update(self, aggr_out):\n",
    "        return aggr_out"
   ]
  },
  {
   "cell_type": "code",
   "execution_count": 29,
   "metadata": {
    "id": "3P26wasVI878"
   },
   "outputs": [],
   "source": [
    "class RGCN_Hybrid_mid(nn.Module):\n",
    "    def __init__(self):\n",
    "        super(RGCN_Hybrid_mid, self).__init__()\n",
    "        out_dim = 2**n_qubits\n",
    "        edge_dim = 2\n",
    "\n",
    "        self.conv1 = HeteroConv({\n",
    "            ('UE', 'com-by', 'AP'): Q_layer(1, 1, edge_dim),\n",
    "            ('AP', 'com', 'UE'): Q_layer(1, 1, edge_dim,)\n",
    "        }, aggr='mean')\n",
    "\n",
    "        self.conv2 = HeteroConv({\n",
    "            ('UE', 'com-by', 'AP'): Q_layer(out_dim, out_dim, edge_dim),\n",
    "            ('AP', 'com', 'UE'): Q_layer(out_dim, out_dim, edge_dim)\n",
    "        }, aggr='mean')\n",
    "\n",
    "        self.conv3 = HeteroConv({\n",
    "             ('UE', 'com-by', 'AP'): Q_layer(out_dim, out_dim, edge_dim),\n",
    "             ('AP', 'com', 'UE'): Q_layer(out_dim, out_dim, edge_dim)\n",
    "         }, aggr='mean')\n",
    "\n",
    "        self.mlp = MLP([32, 16])\n",
    "        self.mlp = nn.Sequential(*[self.mlp, Seq(Lin(16, 1), Sigmoid())])\n",
    "    def forward(self, x_dict, edge_index_dict, edge_attr_dict):\n",
    "        out = self.conv1(x_dict, edge_index_dict, edge_attr_dict)\n",
    "        out = self.conv2(out, edge_index_dict, edge_attr_dict)\n",
    "        out = self.conv3(out, edge_index_dict, edge_attr_dict)\n",
    "        out = self.mlp(out['UE'])\n",
    "        return out"
   ]
  },
  {
   "cell_type": "code",
   "execution_count": 30,
   "metadata": {},
   "outputs": [],
   "source": [
    "model_qml_amplitude = RGCN_Hybrid_mid().to()\n",
    "\n",
    "optimizer_qml_amplitude = torch.optim.Adam(model_qml_amplitude.parameters(), lr=5e-4)\n",
    "scheduler_qml_amplitude = torch.optim.lr_scheduler.StepLR(optimizer_qml_amplitude, step_size=10, gamma=0.6)"
   ]
  },
  {
   "cell_type": "code",
   "execution_count": 31,
   "metadata": {},
   "outputs": [
    {
     "name": "stdout",
     "output_type": "stream",
     "text": [
      "Number of trainable parameters: 9977\n"
     ]
    }
   ],
   "source": [
    "trainable_params = sum(p.numel() for p in model_qml_amplitude.parameters() if p.requires_grad)\n",
    "print(f\"Number of trainable parameters: {trainable_params}\")"
   ]
  },
  {
   "cell_type": "code",
   "execution_count": 32,
   "metadata": {
    "colab": {
     "base_uri": "https://localhost:8080/"
    },
    "id": "qqgDgSgdI_cL",
    "outputId": "d50a514b-5285-4af1-bc03-63ceeffb45b4"
   },
   "outputs": [
    {
     "name": "stdout",
     "output_type": "stream",
     "text": [
      "Epoch 00, Train Rate: -0.2393, Test Rate: -0.2630\n",
      "Epoch 01, Train Rate: -0.4993, Test Rate: -0.5104\n",
      "Epoch 02, Train Rate: -0.4790, Test Rate: -0.4755\n",
      "Epoch 03, Train Rate: -0.5324, Test Rate: -0.5354\n",
      "Epoch 04, Train Rate: -0.5514, Test Rate: -0.5549\n",
      "Epoch 05, Train Rate: -0.5691, Test Rate: -0.5711\n",
      "Epoch 06, Train Rate: -0.4966, Test Rate: -0.4998\n",
      "Epoch 07, Train Rate: -0.5479, Test Rate: -0.5535\n",
      "Epoch 08, Train Rate: -0.5875, Test Rate: -0.5839\n",
      "Epoch 09, Train Rate: -0.6204, Test Rate: -0.6203\n",
      "Epoch 10, Train Rate: -0.6267, Test Rate: -0.6260\n",
      "Epoch 11, Train Rate: -0.6509, Test Rate: -0.6527\n",
      "Epoch 12, Train Rate: -0.6224, Test Rate: -0.6236\n",
      "Epoch 13, Train Rate: -0.6348, Test Rate: -0.6375\n",
      "Epoch 14, Train Rate: -0.5928, Test Rate: -0.5945\n",
      "Epoch 15, Train Rate: -0.5774, Test Rate: -0.5833\n",
      "Epoch 16, Train Rate: -0.6028, Test Rate: -0.6020\n",
      "Epoch 17, Train Rate: -0.5954, Test Rate: -0.5959\n",
      "Epoch 18, Train Rate: -0.6425, Test Rate: -0.6442\n",
      "Epoch 19, Train Rate: -0.5253, Test Rate: -0.5238\n",
      "Epoch 20, Train Rate: -0.5712, Test Rate: -0.5685\n",
      "Epoch 21, Train Rate: -0.6026, Test Rate: -0.6035\n",
      "Epoch 22, Train Rate: -0.6306, Test Rate: -0.6319\n",
      "Epoch 23, Train Rate: -0.6593, Test Rate: -0.6588\n",
      "Epoch 24, Train Rate: -0.6443, Test Rate: -0.6443\n",
      "Epoch 25, Train Rate: -0.6387, Test Rate: -0.6391\n",
      "Epoch 26, Train Rate: -0.6545, Test Rate: -0.6529\n",
      "Epoch 27, Train Rate: -0.6597, Test Rate: -0.6605\n",
      "Epoch 28, Train Rate: -0.5604, Test Rate: -0.5602\n",
      "Epoch 29, Train Rate: -0.6544, Test Rate: -0.6548\n",
      "Epoch 30, Train Rate: -0.6481, Test Rate: -0.6507\n",
      "Epoch 31, Train Rate: -0.6717, Test Rate: -0.6729\n",
      "Epoch 32, Train Rate: -0.6627, Test Rate: -0.6626\n",
      "Epoch 33, Train Rate: -0.6702, Test Rate: -0.6714\n",
      "Epoch 34, Train Rate: -0.6551, Test Rate: -0.6548\n",
      "Epoch 35, Train Rate: -0.6547, Test Rate: -0.6560\n",
      "Epoch 36, Train Rate: -0.6705, Test Rate: -0.6710\n",
      "Epoch 37, Train Rate: -0.6667, Test Rate: -0.6684\n",
      "Epoch 38, Train Rate: -0.6663, Test Rate: -0.6669\n",
      "Epoch 39, Train Rate: -0.6736, Test Rate: -0.6731\n",
      "Epoch 40, Train Rate: -0.6552, Test Rate: -0.6537\n",
      "Epoch 41, Train Rate: -0.6694, Test Rate: -0.6701\n",
      "Epoch 42, Train Rate: -0.6721, Test Rate: -0.6732\n",
      "Epoch 43, Train Rate: -0.6754, Test Rate: -0.6754\n",
      "Epoch 44, Train Rate: -0.6748, Test Rate: -0.6750\n",
      "Epoch 45, Train Rate: -0.6734, Test Rate: -0.6744\n",
      "Epoch 46, Train Rate: -0.6723, Test Rate: -0.6720\n",
      "Epoch 47, Train Rate: -0.6731, Test Rate: -0.6736\n",
      "Epoch 48, Train Rate: -0.6755, Test Rate: -0.6749\n",
      "Epoch 49, Train Rate: -0.6687, Test Rate: -0.6699\n",
      "Epoch 50, Train Rate: -0.6744, Test Rate: -0.6749\n",
      "Epoch 51, Train Rate: -0.6782, Test Rate: -0.6784\n",
      "Epoch 52, Train Rate: -0.6766, Test Rate: -0.6776\n",
      "Epoch 53, Train Rate: -0.6718, Test Rate: -0.6732\n",
      "Epoch 54, Train Rate: -0.6764, Test Rate: -0.6763\n",
      "Epoch 55, Train Rate: -0.6744, Test Rate: -0.6745\n",
      "Epoch 56, Train Rate: -0.6751, Test Rate: -0.6748\n",
      "Epoch 57, Train Rate: -0.6775, Test Rate: -0.6773\n",
      "Epoch 58, Train Rate: -0.6719, Test Rate: -0.6725\n",
      "Epoch 59, Train Rate: -0.6790, Test Rate: -0.6793\n",
      "Epoch 60, Train Rate: -0.6743, Test Rate: -0.6749\n",
      "Epoch 61, Train Rate: -0.6791, Test Rate: -0.6792\n",
      "Epoch 62, Train Rate: -0.6790, Test Rate: -0.6794\n",
      "Epoch 63, Train Rate: -0.6789, Test Rate: -0.6795\n",
      "Epoch 64, Train Rate: -0.6795, Test Rate: -0.6794\n",
      "Epoch 65, Train Rate: -0.6767, Test Rate: -0.6769\n",
      "Epoch 66, Train Rate: -0.6790, Test Rate: -0.6796\n",
      "Epoch 67, Train Rate: -0.6790, Test Rate: -0.6786\n",
      "Epoch 68, Train Rate: -0.6797, Test Rate: -0.6800\n",
      "Epoch 69, Train Rate: -0.6737, Test Rate: -0.6738\n",
      "Epoch 70, Train Rate: -0.6764, Test Rate: -0.6771\n",
      "Epoch 71, Train Rate: -0.6782, Test Rate: -0.6789\n",
      "Epoch 72, Train Rate: -0.6792, Test Rate: -0.6794\n",
      "Epoch 73, Train Rate: -0.6798, Test Rate: -0.6802\n",
      "Epoch 74, Train Rate: -0.6793, Test Rate: -0.6796\n",
      "Epoch 75, Train Rate: -0.6790, Test Rate: -0.6788\n",
      "Epoch 76, Train Rate: -0.6799, Test Rate: -0.6808\n",
      "Epoch 77, Train Rate: -0.6800, Test Rate: -0.6801\n",
      "Epoch 78, Train Rate: -0.6783, Test Rate: -0.6781\n",
      "Epoch 79, Train Rate: -0.6793, Test Rate: -0.6799\n",
      "Epoch 80, Train Rate: -0.6783, Test Rate: -0.6785\n",
      "Epoch 81, Train Rate: -0.6803, Test Rate: -0.6807\n",
      "Epoch 82, Train Rate: -0.6808, Test Rate: -0.6809\n",
      "Epoch 83, Train Rate: -0.6799, Test Rate: -0.6802\n",
      "Epoch 84, Train Rate: -0.6798, Test Rate: -0.6798\n",
      "Epoch 85, Train Rate: -0.6805, Test Rate: -0.6806\n",
      "Epoch 86, Train Rate: -0.6801, Test Rate: -0.6801\n",
      "Epoch 87, Train Rate: -0.6801, Test Rate: -0.6802\n",
      "Epoch 88, Train Rate: -0.6799, Test Rate: -0.6798\n",
      "Epoch 89, Train Rate: -0.6778, Test Rate: -0.6782\n",
      "Epoch 90, Train Rate: -0.6804, Test Rate: -0.6805\n",
      "Epoch 91, Train Rate: -0.6798, Test Rate: -0.6800\n",
      "Epoch 92, Train Rate: -0.6809, Test Rate: -0.6808\n",
      "Epoch 93, Train Rate: -0.6805, Test Rate: -0.6807\n",
      "Epoch 94, Train Rate: -0.6809, Test Rate: -0.6810\n",
      "Epoch 95, Train Rate: -0.6797, Test Rate: -0.6800\n",
      "Epoch 96, Train Rate: -0.6805, Test Rate: -0.6805\n",
      "Epoch 97, Train Rate: -0.6798, Test Rate: -0.6801\n",
      "Epoch 98, Train Rate: -0.6803, Test Rate: -0.6804\n",
      "Epoch 99, Train Rate: -0.6804, Test Rate: -0.6805\n"
     ]
    }
   ],
   "source": [
    "record_amplitude = []\n",
    "\n",
    "for epoch in range(0, 100):\n",
    "\n",
    "    with torch.no_grad():\n",
    "        test_rate = test_model(test_loader, model_qml_amplitude)\n",
    "        train_rate = test_model(train_loader, model_qml_amplitude)\n",
    "        record_amplitude.append([train_rate, test_rate])\n",
    "    if epoch % 1 == 0:\n",
    "        print(f'Epoch {epoch:02d}, Train Rate: {train_rate:.4f}, Test Rate: {test_rate:.4f}')\n",
    "    train_model(epoch, model_qml_amplitude, optimizer_qml_amplitude, train_loader)\n",
    "    scheduler_qml_amplitude.step()"
   ]
  },
  {
   "cell_type": "code",
   "execution_count": 35,
   "metadata": {},
   "outputs": [
    {
     "data": {
      "image/png": "[encoded data removed]",
      "text/plain": [
       "<Figure size 1080x1080 with 1 Axes>"
      ]
     },
     "metadata": {},
     "output_type": "display_data"
    }
   ],
   "source": [
    "#record_gnn = np.load('gnn.npy')\n",
    "# record_amplitude = np.load('amplitude.npy')\n",
    "# record_angle = np.load('angle.npy')\n",
    "\n",
    "record_gnn = np.array(record_gnn)\n",
    "record_amplitude = np.array(record_amplitude)\n",
    "# record_angle = np.array(record_angle)\n",
    "# record_DL = np.array(record_edge)\n",
    "skip = 1;start = 0\n",
    "gnn_train = record_gnn[start::skip, 0]\n",
    "amplitude_train = record_amplitude[start::skip, 0]\n",
    "#angle_train = record_angle[0::skip, 0]\n",
    "# DL_train = record_DL[start::skip, 0]\n",
    "\n",
    "gnn_test = record_gnn[start::skip, 1]\n",
    "amplitude_test = record_amplitude[start::skip, 1]\n",
    "#angle_test = record_angle[0::skip, 1]\n",
    "# DL_test = record_DL[start::skip, 1]\n",
    "\n",
    "from scipy.signal import savgol_filter\n",
    "\n",
    "# gnn_train_smooth = savgol_filter(gnn_train, window_length=7, polyorder=3)\n",
    "# amplitude_train_smooth = savgol_filter(amplitude_train, window_length=7, polyorder=3)\n",
    "# DL_train_smooth = savgol_filter(DL_train, window_length=7, polyorder=3)\n",
    "\n",
    "# gnn_test_smooth = savgol_filter(gnn_test, window_length=7, polyorder=3)\n",
    "# amplitude_test_smooth = savgol_filter(amplitude_test, window_length=7, polyorder=3)\n",
    "# DL_test_smooth = savgol_filter(DL_test, window_length=7, polyorder=3)\n",
    "\n",
    "plt.rc(\"text\", usetex=False)\n",
    "plt.rcParams['mathtext.fontset'] = 'cm'\n",
    "plt.rcParams['font.family'] = 'STIXGeneral'\n",
    "plt.rcParams.update({'font.size': 14})\n",
    "plt.figure(figsize=(6, 6), dpi=180)\n",
    "\n",
    "x_values = np.arange(start, 100, skip)\n",
    "\n",
    "plt.plot(x_values, gnn_train, '-',color = 'darkorange', label='GNN training')\n",
    "plt.plot(x_values, amplitude_train, 'b-', label='HQGNN Amplitude training')\n",
    "# plt.plot(x_values, DL_train_smooth, 'k-', label='FCNN training')\n",
    "\n",
    "plt.plot(x_values, gnn_test, ':', color = 'darkorange', markersize=7, label='GNN validation', markevery=10)\n",
    "plt.plot(x_values, amplitude_test, 'b:', markersize=7, label='HQGNN Amplitude validation', markevery=10)\n",
    "# plt.plot(x_values, DL_test_smooth, 'k:', markersize=7, label='FCNN validation', markevery=10)\n",
    "\n",
    "\n",
    "plt.ticklabel_format(style='sci', axis='y', scilimits=(0, 0))\n",
    "\n",
    "plt.xlabel('Epoch(s)')\n",
    "plt.ylabel('Loss function')\n",
    "plt.legend()\n",
    "\n",
    "plt.grid(True)\n",
    "plt.savefig('Convergence')\n",
    "plt.show()"
   ]
  },
  {
   "cell_type": "code",
   "execution_count": 36,
   "metadata": {
    "id": "R106ZaEY9ZsP"
   },
   "outputs": [],
   "source": [
    "gnn_q_rates = None\n",
    "for (data, d_test, c_test) in test_loader:\n",
    "    K = d_test.shape[-1]\n",
    "    n = len(data['UE'].x)\n",
    "    bs = len(data['UE'].x) // K\n",
    "    user_feats = data['AP'].x\n",
    "    item_feats = data['UE'].x\n",
    "    node_features = {'AP': user_feats, 'UE': item_feats}\n",
    "    output = model_qml_amplitude(node_features, data.edge_index_dict, data.edge_attr_dict).reshape(bs,-1)\n",
    "\n",
    "    gnn_q_rates = rate_loss(output, d_test, c_test, True).flatten().detach().numpy()"
   ]
  },
  {
   "cell_type": "code",
   "execution_count": 37,
   "metadata": {
    "colab": {
     "base_uri": "https://localhost:8080/"
    },
    "id": "KFstzGT-Fs2G",
    "outputId": "17f78007-62bd-417c-ec31-3cf78cee79dd"
   },
   "outputs": [
    {
     "name": "stdout",
     "output_type": "stream",
     "text": [
      "QGNN in middle: 0.6803564429283142\n",
      "GNN: 0.6584622859954834\n"
     ]
    }
   ],
   "source": [
    "print(f'QGNN in middle: {np.mean(gnn_q_rates)}')\n",
    "print(f'GNN: {np.mean(gnn_rates)}')"
   ]
  },
  {
   "cell_type": "markdown",
   "metadata": {},
   "source": [
    "# Angle Embedding"
   ]
  },
  {
   "cell_type": "code",
   "execution_count": 38,
   "metadata": {},
   "outputs": [],
   "source": [
    "import pennylane as qml\n",
    "from pennylane import numpy as np\n",
    "\n",
    "n_qubits = 5\n",
    "dev = qml.device('default.qubit', wires=n_qubits)\n"
   ]
  },
  {
   "cell_type": "code",
   "execution_count": 39,
   "metadata": {},
   "outputs": [],
   "source": [
    "n_layers_circuit_X2 = 2\n",
    "def circuit_X2_entangling(weights, n_qubits):\n",
    "    qml.CRX(weights[-1], wires=[n_qubits-1, 0])\n",
    "    for i in range(n_qubits-1):\n",
    "        qml.CRX(weights[i], wires=[i, (i+1)])\n",
    "\n",
    "@qml.qnode(dev, interface='torch')\n",
    "def circuit_X2(inputs, layer_weights):\n",
    "    qml.AngleEmbedding(features=inputs, wires=range(n_qubits))\n",
    "    for l in range(n_layers_circuit_X2):\n",
    "        circuit_X2_entangling(layer_weights[l], n_qubits)\n",
    "    return qml.probs(wires=range(n_qubits))\n",
    "weight_shapes_circuit_X2 = { \"layer_weights\": (n_layers_circuit_X2, n_qubits)}"
   ]
  },
  {
   "cell_type": "code",
   "execution_count": 40,
   "metadata": {},
   "outputs": [],
   "source": [
    "n_layers_circuit_Z2 = 2\n",
    "def circuit_Z2_entangling(weights, n_qubits):\n",
    "    qml.CRZ(weights[-1], wires=[n_qubits - 1, 0])\n",
    "    for i in range(n_qubits - 1):\n",
    "        qml.CRZ(weights[i], wires=[i, i + 1])\n",
    "\n",
    "@qml.qnode(dev, interface='torch')\n",
    "def circuit_Z2(inputs, layer_weights):\n",
    "    qml.AngleEmbedding(features=inputs, wires=range(n_qubits))\n",
    "    for l in range(n_layers_circuit_Z2):\n",
    "        circuit_Z2_entangling(layer_weights[l], n_qubits)\n",
    "    return qml.probs(wires=range(n_qubits))\n",
    "weight_shapes_circuit_Z2 = { \"layer_weights\": (n_layers_circuit_Z2, n_qubits)}"
   ]
  },
  {
   "cell_type": "code",
   "execution_count": 41,
   "metadata": {},
   "outputs": [],
   "source": [
    "def MLP(channels, batch_norm=True):\n",
    "    return Seq(*[\n",
    "        Seq(Lin(channels[i - 1], channels[i]), ReLU(), BN(channels[i]))\n",
    "        for i in range(1, len(channels))\n",
    "    ])\n",
    "class Q_layer_angle(MessagePassing):\n",
    "    def __init__(self,src_dim, dst_dim, edge_dim, out_dim, **kwargs):\n",
    "        super(Q_layer_angle, self).__init__(aggr='mean')  \n",
    "        self.lin_res = qml.qnn.TorchLayer(circuit_X2, weight_shapes_circuit_X2)\n",
    "        self.lin_qml = qml.qnn.TorchLayer(circuit_Z2, weight_shapes_circuit_Z2)\n",
    "        self.in_linear = nn.Linear(src_dim + dst_dim + edge_dim, out_dim)\n",
    "        self.linear = nn.Linear(dst_dim, n_qubits)\n",
    "        self.bn = BN(32)\n",
    "\n",
    "    def forward(self, x, edge_index, edge_attr):\n",
    "        feat_src, feat_dst = x\n",
    "        out = self.propagate(edge_index=edge_index, x=(feat_src, feat_dst), edge_attr=edge_attr)\n",
    "        out = out + self.lin_res(self.linear(feat_dst))\n",
    "        return self.bn(out)\n",
    "\n",
    "    def message(self, x_j, x_i, edge_attr):\n",
    "        out = torch.cat([x_j, x_i, edge_attr], dim=1)\n",
    "        out = self.in_linear(out)\n",
    "        out = self.lin_qml(out)\n",
    "        return out\n",
    "\n",
    "    def update(self, aggr_out):\n",
    "        return aggr_out"
   ]
  },
  {
   "cell_type": "code",
   "execution_count": 42,
   "metadata": {},
   "outputs": [],
   "source": [
    "class RGCN_Hybrid_mid_angle(nn.Module):\n",
    "    def __init__(self):\n",
    "        super(RGCN_Hybrid_mid_angle, self).__init__()\n",
    "        out_dim = n_qubits\n",
    "        edge_dim = 2\n",
    "\n",
    "        self.conv1 = HeteroConv({\n",
    "            ('UE', 'com-by', 'AP'): Q_layer_angle(1, 1, edge_dim, out_dim),\n",
    "            ('AP', 'com', 'UE'): Q_layer_angle(1, 1, edge_dim,out_dim)\n",
    "        }, aggr='mean')\n",
    "\n",
    "        self.conv2 = HeteroConv({\n",
    "            ('UE', 'com-by', 'AP'): Q_layer_angle(32, 32, edge_dim, out_dim),\n",
    "            ('AP', 'com', 'UE'): Q_layer_angle(32, 32, edge_dim, out_dim)\n",
    "        }, aggr='mean')\n",
    "\n",
    "        self.conv3 = HeteroConv({\n",
    "             ('UE', 'com-by', 'AP'): Q_layer_angle(32, 32, edge_dim, out_dim),\n",
    "             ('AP', 'com', 'UE'): Q_layer_angle(32, 32, edge_dim, out_dim)\n",
    "         }, aggr='mean')\n",
    "\n",
    "        self.mlp = MLP([32, 16])\n",
    "        self.mlp = nn.Sequential(*[self.mlp, Seq(Lin(16, 1), Sigmoid())])\n",
    "    def forward(self, x_dict, edge_index_dict, edge_attr_dict):\n",
    "        out = self.conv1(x_dict, edge_index_dict, edge_attr_dict)\n",
    "        out = self.conv2(out, edge_index_dict, edge_attr_dict)\n",
    "        out = self.conv3(out, edge_index_dict, edge_attr_dict)\n",
    "        out = self.mlp(out['UE'])\n",
    "        return out"
   ]
  },
  {
   "cell_type": "code",
   "execution_count": 43,
   "metadata": {},
   "outputs": [],
   "source": [
    "model_qml_mid_angle = RGCN_Hybrid_mid_angle().to()\n",
    "\n",
    "optimizer_qml_mid_angle = torch.optim.Adam(model_qml_mid_angle.parameters(), lr=5e-4)\n",
    "scheduler_qml_mid_angle = torch.optim.lr_scheduler.StepLR(optimizer_qml_mid_angle, step_size=10, gamma=0.6)"
   ]
  },
  {
   "cell_type": "code",
   "execution_count": 44,
   "metadata": {},
   "outputs": [
    {
     "name": "stdout",
     "output_type": "stream",
     "text": [
      "Number of trainable parameters: 3151\n"
     ]
    }
   ],
   "source": [
    "trainable_params = sum(p.numel() for p in model_qml_mid_angle.parameters() if p.requires_grad)\n",
    "print(f\"Number of trainable parameters: {trainable_params}\")"
   ]
  },
  {
   "cell_type": "code",
   "execution_count": 45,
   "metadata": {},
   "outputs": [
    {
     "name": "stdout",
     "output_type": "stream",
     "text": [
      "Epoch 00, Train Rate: -0.2374, Test Rate: -0.2611\n",
      "Epoch 01, Train Rate: -0.5251, Test Rate: -0.5387\n",
      "Epoch 02, Train Rate: -0.5852, Test Rate: -0.5912\n",
      "Epoch 03, Train Rate: -0.6038, Test Rate: -0.6042\n",
      "Epoch 04, Train Rate: -0.6128, Test Rate: -0.6142\n",
      "Epoch 05, Train Rate: -0.6105, Test Rate: -0.6155\n",
      "Epoch 06, Train Rate: -0.6189, Test Rate: -0.6204\n",
      "Epoch 07, Train Rate: -0.6224, Test Rate: -0.6239\n",
      "Epoch 08, Train Rate: -0.6211, Test Rate: -0.6213\n",
      "Epoch 09, Train Rate: -0.6265, Test Rate: -0.6288\n",
      "Epoch 10, Train Rate: -0.6217, Test Rate: -0.6235\n",
      "Epoch 11, Train Rate: -0.6318, Test Rate: -0.6338\n",
      "Epoch 12, Train Rate: -0.6337, Test Rate: -0.6354\n",
      "Epoch 13, Train Rate: -0.6322, Test Rate: -0.6329\n",
      "Epoch 14, Train Rate: -0.6381, Test Rate: -0.6384\n",
      "Epoch 15, Train Rate: -0.6367, Test Rate: -0.6387\n",
      "Epoch 16, Train Rate: -0.6403, Test Rate: -0.6434\n",
      "Epoch 17, Train Rate: -0.6395, Test Rate: -0.6415\n",
      "Epoch 18, Train Rate: -0.6441, Test Rate: -0.6460\n",
      "Epoch 19, Train Rate: -0.6280, Test Rate: -0.6315\n",
      "Epoch 20, Train Rate: -0.6403, Test Rate: -0.6434\n",
      "Epoch 21, Train Rate: -0.6439, Test Rate: -0.6451\n",
      "Epoch 22, Train Rate: -0.6472, Test Rate: -0.6489\n",
      "Epoch 23, Train Rate: -0.6485, Test Rate: -0.6511\n",
      "Epoch 24, Train Rate: -0.6455, Test Rate: -0.6465\n",
      "Epoch 25, Train Rate: -0.6513, Test Rate: -0.6522\n",
      "Epoch 26, Train Rate: -0.6513, Test Rate: -0.6543\n",
      "Epoch 27, Train Rate: -0.6408, Test Rate: -0.6426\n",
      "Epoch 28, Train Rate: -0.6530, Test Rate: -0.6544\n",
      "Epoch 29, Train Rate: -0.6535, Test Rate: -0.6549\n",
      "Epoch 30, Train Rate: -0.6462, Test Rate: -0.6473\n",
      "Epoch 31, Train Rate: -0.6559, Test Rate: -0.6575\n",
      "Epoch 32, Train Rate: -0.6544, Test Rate: -0.6554\n",
      "Epoch 33, Train Rate: -0.6548, Test Rate: -0.6559\n",
      "Epoch 34, Train Rate: -0.6565, Test Rate: -0.6585\n",
      "Epoch 35, Train Rate: -0.6553, Test Rate: -0.6575\n",
      "Epoch 36, Train Rate: -0.6565, Test Rate: -0.6588\n",
      "Epoch 37, Train Rate: -0.6518, Test Rate: -0.6536\n",
      "Epoch 38, Train Rate: -0.6564, Test Rate: -0.6588\n",
      "Epoch 39, Train Rate: -0.6568, Test Rate: -0.6598\n",
      "Epoch 40, Train Rate: -0.6577, Test Rate: -0.6600\n",
      "Epoch 41, Train Rate: -0.6574, Test Rate: -0.6586\n",
      "Epoch 42, Train Rate: -0.6580, Test Rate: -0.6604\n",
      "Epoch 43, Train Rate: -0.6592, Test Rate: -0.6616\n",
      "Epoch 44, Train Rate: -0.6574, Test Rate: -0.6582\n",
      "Epoch 45, Train Rate: -0.6572, Test Rate: -0.6591\n",
      "Epoch 46, Train Rate: -0.6593, Test Rate: -0.6612\n",
      "Epoch 47, Train Rate: -0.6567, Test Rate: -0.6590\n",
      "Epoch 48, Train Rate: -0.6586, Test Rate: -0.6609\n",
      "Epoch 49, Train Rate: -0.6570, Test Rate: -0.6592\n",
      "Epoch 50, Train Rate: -0.6584, Test Rate: -0.6611\n",
      "Epoch 51, Train Rate: -0.6587, Test Rate: -0.6624\n",
      "Epoch 52, Train Rate: -0.6588, Test Rate: -0.6613\n",
      "Epoch 53, Train Rate: -0.6586, Test Rate: -0.6624\n",
      "Epoch 54, Train Rate: -0.6603, Test Rate: -0.6625\n",
      "Epoch 55, Train Rate: -0.6597, Test Rate: -0.6613\n",
      "Epoch 56, Train Rate: -0.6584, Test Rate: -0.6606\n",
      "Epoch 57, Train Rate: -0.6600, Test Rate: -0.6619\n",
      "Epoch 58, Train Rate: -0.6590, Test Rate: -0.6607\n",
      "Epoch 59, Train Rate: -0.6583, Test Rate: -0.6606\n",
      "Epoch 60, Train Rate: -0.6606, Test Rate: -0.6623\n",
      "Epoch 61, Train Rate: -0.6593, Test Rate: -0.6610\n",
      "Epoch 62, Train Rate: -0.6595, Test Rate: -0.6613\n",
      "Epoch 63, Train Rate: -0.6592, Test Rate: -0.6613\n",
      "Epoch 64, Train Rate: -0.6605, Test Rate: -0.6625\n",
      "Epoch 65, Train Rate: -0.6602, Test Rate: -0.6622\n",
      "Epoch 66, Train Rate: -0.6602, Test Rate: -0.6620\n",
      "Epoch 67, Train Rate: -0.6603, Test Rate: -0.6625\n",
      "Epoch 68, Train Rate: -0.6604, Test Rate: -0.6620\n",
      "Epoch 69, Train Rate: -0.6593, Test Rate: -0.6601\n",
      "Epoch 70, Train Rate: -0.6589, Test Rate: -0.6611\n",
      "Epoch 71, Train Rate: -0.6597, Test Rate: -0.6626\n",
      "Epoch 72, Train Rate: -0.6603, Test Rate: -0.6629\n",
      "Epoch 73, Train Rate: -0.6601, Test Rate: -0.6619\n",
      "Epoch 74, Train Rate: -0.6603, Test Rate: -0.6621\n",
      "Epoch 75, Train Rate: -0.6605, Test Rate: -0.6622\n",
      "Epoch 76, Train Rate: -0.6605, Test Rate: -0.6620\n",
      "Epoch 77, Train Rate: -0.6595, Test Rate: -0.6610\n",
      "Epoch 78, Train Rate: -0.6603, Test Rate: -0.6614\n",
      "Epoch 79, Train Rate: -0.6603, Test Rate: -0.6625\n",
      "Epoch 80, Train Rate: -0.6602, Test Rate: -0.6631\n",
      "Epoch 81, Train Rate: -0.6585, Test Rate: -0.6610\n",
      "Epoch 82, Train Rate: -0.6592, Test Rate: -0.6610\n",
      "Epoch 83, Train Rate: -0.6604, Test Rate: -0.6620\n",
      "Epoch 84, Train Rate: -0.6604, Test Rate: -0.6625\n",
      "Epoch 85, Train Rate: -0.6594, Test Rate: -0.6619\n",
      "Epoch 86, Train Rate: -0.6612, Test Rate: -0.6626\n",
      "Epoch 87, Train Rate: -0.6604, Test Rate: -0.6622\n",
      "Epoch 88, Train Rate: -0.6602, Test Rate: -0.6612\n",
      "Epoch 89, Train Rate: -0.6601, Test Rate: -0.6624\n",
      "Epoch 90, Train Rate: -0.6603, Test Rate: -0.6621\n",
      "Epoch 91, Train Rate: -0.6605, Test Rate: -0.6625\n",
      "Epoch 92, Train Rate: -0.6606, Test Rate: -0.6628\n",
      "Epoch 93, Train Rate: -0.6608, Test Rate: -0.6620\n",
      "Epoch 94, Train Rate: -0.6601, Test Rate: -0.6625\n",
      "Epoch 95, Train Rate: -0.6607, Test Rate: -0.6616\n",
      "Epoch 96, Train Rate: -0.6601, Test Rate: -0.6633\n",
      "Epoch 97, Train Rate: -0.6602, Test Rate: -0.6624\n",
      "Epoch 98, Train Rate: -0.6612, Test Rate: -0.6632\n",
      "Epoch 99, Train Rate: -0.6602, Test Rate: -0.6631\n"
     ]
    }
   ],
   "source": [
    "record_angle = []\n",
    "\n",
    "for epoch in range(0, 100):\n",
    "\n",
    "    with torch.no_grad():\n",
    "        test_rate = test_model(test_loader, model_qml_mid_angle)\n",
    "        train_rate = test_model(train_loader, model_qml_mid_angle)\n",
    "        record_angle.append([train_rate, test_rate])\n",
    "    if epoch % 1 == 0:\n",
    "        print(f'Epoch {epoch:02d}, Train Rate: {train_rate:.4f}, Test Rate: {test_rate:.4f}')\n",
    "    train_model(epoch, model_qml_mid_angle, optimizer_qml_mid_angle, train_loader)\n",
    "    scheduler_qml_mid_angle.step()"
   ]
  },
  {
   "cell_type": "code",
   "execution_count": 46,
   "metadata": {},
   "outputs": [],
   "source": [
    "for (data, d_test, c_test) in test_loader:\n",
    "    K = d_test.shape[-1]\n",
    "    n = len(data['UE'].x)\n",
    "    bs = len(data['UE'].x) // K\n",
    "    user_feats = data['AP'].x\n",
    "    item_feats = data['UE'].x\n",
    "    node_features = {'AP': user_feats, 'UE': item_feats}\n",
    "    output_qgnn = model_qml_mid_angle(node_features, data.edge_index_dict, data.edge_attr_dict).reshape(bs,-1)\n",
    "    output_gnn = model(node_features, data.edge_index_dict, data.edge_attr_dict).reshape(bs, -1)\n",
    "    gnn_test_rates = rate_loss(output_gnn, d_test, c_test, True).flatten().detach().numpy()\n",
    "    gnn_test_rates_q = rate_loss(output_qgnn, d_test, c_test, True).flatten().detach().numpy()"
   ]
  },
  {
   "cell_type": "code",
   "execution_count": 47,
   "metadata": {},
   "outputs": [],
   "source": [
    "gnn = [record_gnn[i][0] for i in range(100)]\n",
    "amplitude = [record_amplitude[i][0] for i in range(100)]\n",
    "angle = [record_angle[i][0] for i in range(100)]"
   ]
  },
  {
   "cell_type": "code",
   "execution_count": 48,
   "metadata": {},
   "outputs": [],
   "source": [
    "gnn_test = [record_gnn[i][1] for i in range(100)]\n",
    "amplitude_test = [record_amplitude[i][1] for i in range(100)]\n",
    "angle_test = [record_angle[i][1] for i in range(100)]"
   ]
  },
  {
   "cell_type": "code",
   "execution_count": 49,
   "metadata": {},
   "outputs": [
    {
     "data": {
      "image/png": "[encoded data removed]",
      "text/plain": [
       "<Figure size 1080x1080 with 1 Axes>"
      ]
     },
     "metadata": {},
     "output_type": "display_data"
    }
   ],
   "source": [
    "plt.rcParams['mathtext.fontset'] = 'cm'\n",
    "plt.rcParams['font.family'] = 'STIXGeneral'\n",
    "plt.rcParams.update({'font.size': 12})\n",
    "fig, ax = plt.subplots(figsize=(6, 6), dpi=180)\n",
    "\n",
    "\n",
    "x_value = list(range(100))\n",
    "\n",
    "#ax.plot(gnn_rates, y_axis, label='GNN', linestyle = '-',)\n",
    "ax.plot(x_value, gnn_test, label='GNN')\n",
    "ax.plot(x_value, angle_test, label='HQGNN angle')\n",
    "ax.plot(x_value, amplitude_test, label='HQGNN amplitude')\n",
    "\n",
    "\n",
    "ax.set_xlabel('epoch')\n",
    "ax.set_ylabel('Testing loss')\n",
    "ax.legend(loc='upper left' )\n",
    "ax.grid()\n",
    "\n",
    "# # Define the zoomed area\n",
    "# x1, x2, y1, y2 = 1.04, 1.075, 0.5, 0.55\n",
    "\n",
    "# axins = ax.inset_axes([0.75, 0.5, 0.2, 0.2])\n",
    "\n",
    "# # Plot the same data on the inset\n",
    "# #axins.plot(gnn_rates, y_axis, label='GNN')\n",
    "# axins.plot(random_rates, y_axis, label='Random Power')\n",
    "# axins.plot(gnn_rates_angle, y_axis, label='HQGNN angle', linestyle='--')\n",
    "# axins.plot(gnn_rates_amplitude, y_axis, label='HQGNN amplitude', linestyle=':')\n",
    "# #axins.plot(opt_rates, y_axis, label='Optimal')\n",
    "# axins.plot(all_one_rates, y_axis, label='Maximum Power')\n",
    "\n",
    "# Set the zoom limits on the inset\n",
    "# axins.set_xlim(x1, x2)\n",
    "# axins.set_ylim(y1, y2)\n",
    "\n",
    "# Add zoom indication lines\n",
    "# ax.indicate_inset_zoom(axins, edgecolor=\"black\")\n",
    "\n",
    "# Display the plot\n",
    "plt.show()"
   ]
  },
  {
   "cell_type": "code",
   "execution_count": 50,
   "metadata": {},
   "outputs": [],
   "source": [
    "np.save('gnn.npy', record_gnn)\n",
    "np.save('amplitude.npy', record_amplitude)\n",
    "np.save('angle.npy', record_angle)"
   ]
  },
  {
   "cell_type": "code",
   "execution_count": 51,
   "metadata": {},
   "outputs": [],
   "source": [
    "# test = np.load('gnn.npy')"
   ]
  },
  {
   "cell_type": "code",
   "execution_count": 52,
   "metadata": {},
   "outputs": [
    {
     "name": "stdout",
     "output_type": "stream",
     "text": [
      "             Model  Parameter Numbers  Performance (%)\n",
      "0              GNN              14593        90.219719\n",
      "1  HQGNN Amplitude               9977        93.445879\n",
      "2      HQGNN Angle               3151        91.089128\n"
     ]
    }
   ],
   "source": [
    "import pandas as pd\n",
    "models = {\n",
    "    \"GNN\": model,\n",
    "    \"HQGNN Amplitude\": model_qml_amplitude,\n",
    "    \"HQGNN Angle\": model_qml_mid_angle,\n",
    "}\n",
    "\n",
    "params_count = {name: sum(p.numel() for p in model.parameters()) for name, model in models.items()}\n",
    "\n",
    "avg_gnn_test_rates_angle = -test_model(test_loader, model_qml_mid_angle)\n",
    "avg_gnn_test_rates_amplitude = -test_model(test_loader, model_qml_amplitude)\n",
    "avg_gnn_test_rates = -test_model(test_loader, model)\n",
    "test_data = scipy.io.loadmat('cf_test_6_30_2.mat')\n",
    "opt_rates = np.mean(test_data['R_cf_opt_min'])\n",
    "\n",
    "\n",
    "performance_percentages = {\n",
    "    \"GNN\": (avg_gnn_test_rates / opt_rates) * 100,\n",
    "    \"HQGNN Amplitude\": (avg_gnn_test_rates_amplitude / opt_rates) * 100,\n",
    "    \"HQGNN Angle\": (avg_gnn_test_rates_angle / opt_rates) * 100,\n",
    "}\n",
    "data = {\n",
    "    \"Model\": [\"GNN\", \"HQGNN Amplitude\", \"HQGNN Angle\"],\n",
    "    \"Parameter Numbers\": [params_count[\"GNN\"], params_count[\"HQGNN Amplitude\"], params_count[\"HQGNN Angle\"]],\n",
    "    \"Performance (%)\": [performance_percentages[\"GNN\"], performance_percentages[\"HQGNN Amplitude\"], performance_percentages[\"HQGNN Angle\"]]\n",
    "}\n",
    "params_df = pd.DataFrame(data)\n",
    "print(params_df)\n"
   ]
  },
  {
   "cell_type": "code",
   "execution_count": 53,
   "metadata": {},
   "outputs": [
    {
     "data": {
      "image/png": "[encoded data removed]",
      "text/plain": [
       "<Figure size 800x400 with 1 Axes>"
      ]
     },
     "metadata": {},
     "output_type": "display_data"
    }
   ],
   "source": [
    "import pandas as pd\n",
    "import matplotlib.pyplot as plt\n",
    "\n",
    "def count_parameters(model):\n",
    "    quantum_params = 0\n",
    "    classical_params = 0\n",
    "    for name, param in model.named_parameters():\n",
    "        if 'lin_qml' in name or 'lin_res' in name:  # Phân loại các tham số thuộc về Quantum\n",
    "            quantum_params += param.numel()\n",
    "        else:  # Các tham số khác thuộc về Classical\n",
    "            classical_params += param.numel()\n",
    "    return quantum_params, classical_params\n",
    "\n",
    "models = {\n",
    "    \"GNN\": model,\n",
    "    \"HQGNN Amplitude\": model_qml_amplitude,\n",
    "    \"HQGNN Angle\": model_qml_mid_angle,\n",
    "}\n",
    "\n",
    "params_count = {\n",
    "    name: count_parameters(model)\n",
    "    for name, model in models.items()\n",
    "}\n",
    "\n",
    "avg_gnn_test_rates_angle = -test_model(test_loader, model_qml_mid_angle)\n",
    "avg_gnn_test_rates_amplitude = -test_model(test_loader, model_qml_amplitude)\n",
    "avg_gnn_test_rates = -test_model(test_loader, model)\n",
    "\n",
    "for (data, d_test, c_test) in test_loader:\n",
    "    K = d_test.shape[-1]\n",
    "    n = len(data['UE'].x)\n",
    "    bs = len(data['UE'].x) // K\n",
    "    user_feats = data['AP'].x\n",
    "    item_feats = data['UE'].x\n",
    "    node_features = {'AP': user_feats, 'UE': item_feats}\n",
    "    output = model(node_features, data.edge_index_dict, data.edge_attr_dict).reshape(bs,-1)\n",
    "    full = torch.ones_like(output)\n",
    "    all_one_rates = -rate_loss(full, d_test, c_test).detach().numpy()\n",
    "    rand = torch.rand_like(output)\n",
    "    random_rates = -rate_loss(rand, d_test, c_test).detach().numpy()\n",
    "\n",
    "test_data = scipy.io.loadmat('cf_test_6_30_2.mat')\n",
    "opt_rates = np.sum(test_data['R_cf_opt_min']) / len(test_loader.dataset)\n",
    "\n",
    "# Tính hiệu suất\n",
    "performance_percentages = {\n",
    "    \"GNN\": (avg_gnn_test_rates / opt_rates) * 100,\n",
    "    \"HQGNN Amplitude\": (avg_gnn_test_rates_amplitude / opt_rates) * 100,\n",
    "    \"HQGNN Angle\": (avg_gnn_test_rates_angle / opt_rates) * 100,\n",
    "    \"Maximum Power\": (all_one_rates/opt_rates) * 100,\n",
    "    \"Random Power\": (random_rates/opt_rates) * 100\n",
    "}\n",
    "\n",
    "# Tạo DataFrame chứa kết quả\n",
    "data = {\n",
    "    \"Model\": [\"GNN\", \"HQGNN Amplitude\", \"HQGNN Angle\",\"Maximum Power\", \"Random Power\"],\n",
    "    \"Classical Parameters\": [params_count[\"GNN\"][1], params_count[\"HQGNN Amplitude\"][1], params_count[\"HQGNN Angle\"][1],0,0],\n",
    "    \"Quantum Parameters\": [params_count[\"GNN\"][0], params_count[\"HQGNN Amplitude\"][0], params_count[\"HQGNN Angle\"][0],0,0],\n",
    "    \"Total Parameters\": [params_count[\"GNN\"][0] + params_count[\"GNN\"][1], params_count[\"HQGNN Amplitude\"][0] + params_count[\"HQGNN Amplitude\"][1],params_count[\"HQGNN Angle\"][0] + params_count[\"HQGNN Angle\"][1],0,0],\n",
    "    \"Performance (%)\": [performance_percentages[\"GNN\"], performance_percentages[\"HQGNN Amplitude\"], performance_percentages[\"HQGNN Angle\"], performance_percentages[\"Maximum Power\"], performance_percentages[\"Random Power\"]],\n",
    "}\n",
    "\n",
    "\n",
    "params_df = pd.DataFrame(data)\n",
    "\n",
    "# Vẽ bảng\n",
    "fig, ax = plt.subplots(figsize=(8, 4))  # Kích thước hình ảnh\n",
    "ax.axis('tight')  # Loại bỏ trục\n",
    "ax.axis('off')  # Loại bỏ viền trục\n",
    "table = ax.table(cellText=params_df.values, colLabels=params_df.columns, loc='center', cellLoc='center')\n",
    "\n",
    "# Tùy chỉnh bảng\n",
    "table.auto_set_font_size(False)\n",
    "table.set_fontsize(12)\n",
    "table.auto_set_column_width(col=list(range(len(params_df.columns))))\n",
    "\n",
    "# Tăng khoảng cách giữa các hàng và cột\n",
    "for (row, col), cell in table.get_celld().items():\n",
    "    cell.set_linewidth(1.5) \n",
    "    cell.set_height(0.3)   \n",
    "    cell.set_width(0.25)    \n",
    "\n",
    "plt.savefig(\"model_parameters_and_performance_table_full.png\", dpi=300, bbox_inches='tight')\n",
    "plt.show()\n"
   ]
  },
  {
   "cell_type": "code",
   "execution_count": 81,
   "metadata": {},
   "outputs": [],
   "source": [
    "torch.save(model.state_dict(), 'model_parameters.pth')\n",
    "torch.save(model_qml_amplitude.state_dict(), 'model_amplitude_parameters.pth')\n",
    "torch.save(model_qml_mid_angle.state_dict(), 'model_angle_parameters.pth')"
   ]
  },
  {
   "cell_type": "code",
   "execution_count": 55,
   "metadata": {},
   "outputs": [],
   "source": [
    "# model.load_state_dict(torch.load('model_parameters.pth'))\n",
    "# model_qml_amplitude.load_state_dict(torch.load('model_amplitude_parameters.pth'))\n",
    "# model_qml_mid_angle.load_state_dict(torch.load('model_angle_parameters.pth'))"
   ]
  },
  {
   "cell_type": "markdown",
   "metadata": {},
   "source": [
    "# Same Parameter"
   ]
  },
  {
   "cell_type": "code",
   "execution_count": 56,
   "metadata": {},
   "outputs": [],
   "source": [
    "def MLP(channels, batch_norm=True):\n",
    "    return Seq(*[\n",
    "        Seq(Lin(channels[i - 1], channels[i]), ReLU(), BN(channels[i]))\n",
    "        for i in range(1, len(channels))\n",
    "    ])\n",
    "class EdgeConv_same(MessagePassing):\n",
    "    def __init__(self, input_dim, node_dim, dim_out, **kwargs):\n",
    "        super(EdgeConv_same, self).__init__(aggr='mean')  # mean aggregation\n",
    "        self.lin = MLP([input_dim, dim_out])\n",
    "        self.res_lin = Lin(node_dim, dim_out)\n",
    "        self.bn = BN(dim_out)\n",
    "\n",
    "    def forward(self, x, edge_index, edge_attr):\n",
    "\n",
    "        feat_src, feat_dst = x\n",
    "\n",
    "\n",
    "        out = self.propagate(edge_index=edge_index, x=(feat_src, feat_dst), edge_attr=edge_attr)\n",
    "\n",
    "\n",
    "        return self.bn(out + self.res_lin(feat_dst))\n",
    "\n",
    "    def message(self, x_j, x_i, edge_attr):\n",
    "        # Tạo ra thông điệp từ các nút nguồn, nút đích và đặc tính cạnh\n",
    "        out = torch.cat([x_j, x_i, edge_attr], dim=1)\n",
    "        return self.lin(out)\n",
    "\n",
    "    def update(self, aggr_out):\n",
    "        # Cập nhật giá trị nút đích sau khi tập hợp\n",
    "        return aggr_out\n",
    "\n"
   ]
  },
  {
   "cell_type": "code",
   "execution_count": 57,
   "metadata": {},
   "outputs": [],
   "source": [
    "class RGCN_same(nn.Module):\n",
    "    def __init__(self):\n",
    "        super(RGCN_same, self).__init__()\n",
    "        self.conv1 = HeteroConv({\n",
    "            ('UE', 'com-by', 'AP'): EdgeConv_same(4, 1, 13),\n",
    "            ('AP', 'com', 'UE'): EdgeConv_same(4, 1, 13)\n",
    "        }, aggr='mean')\n",
    "\n",
    "        self.conv2 = HeteroConv({\n",
    "            ('UE', 'com-by', 'AP'): EdgeConv_same(28, 13, 13),\n",
    "            ('AP', 'com', 'UE'): EdgeConv_same(28, 13, 13)\n",
    "        }, aggr='mean')\n",
    "\n",
    "        self.conv3 = HeteroConv({\n",
    "            ('UE', 'com-by', 'AP'): EdgeConv_same(28, 13, 13),\n",
    "            ('AP', 'com', 'UE'): EdgeConv_same(28, 13, 13)\n",
    "        }, aggr='mean')\n",
    "\n",
    "        self.mlp = MLP([13, 16])\n",
    "        self.mlp = nn.Sequential(*[self.mlp, Seq(Lin(16, 1), Sigmoid())])\n",
    "    def forward(self,x_dict, edge_index_dict, edge_attr_dict):\n",
    "        out = self.conv1(x_dict, edge_index_dict, edge_attr_dict)\n",
    "        out = self.conv2(out, edge_index_dict, edge_attr_dict)\n",
    "        out = self.conv3(out, edge_index_dict, edge_attr_dict)\n",
    "        out = self.mlp(out['UE'])\n",
    "        return out\n"
   ]
  },
  {
   "cell_type": "code",
   "execution_count": 83,
   "metadata": {},
   "outputs": [],
   "source": [
    "model_gnn = RGCN_same()\n",
    "optimizer = torch.optim.Adam(model_gnn.parameters(), lr=5e-5)\n",
    "scheduler = torch.optim.lr_scheduler.StepLR(optimizer, step_size=10, gamma=0.5)"
   ]
  },
  {
   "cell_type": "code",
   "execution_count": 84,
   "metadata": {},
   "outputs": [
    {
     "name": "stdout",
     "output_type": "stream",
     "text": [
      "Number of trainable parameters: 3003\n"
     ]
    }
   ],
   "source": [
    "trainable_params = sum(p.numel() for p in model_gnn.parameters() if p.requires_grad)\n",
    "print(f\"Number of trainable parameters: {trainable_params}\")"
   ]
  },
  {
   "cell_type": "code",
   "execution_count": 60,
   "metadata": {},
   "outputs": [],
   "source": [
    "n_qubits_amplitude = 4\n",
    "dev = qml.device('default.qubit', wires=n_qubits)\n"
   ]
  },
  {
   "cell_type": "code",
   "execution_count": 61,
   "metadata": {},
   "outputs": [],
   "source": [
    "n_layers_circuit_X = 2\n",
    "def circuit_X_entangling(weights, n_qubits_amplitude):\n",
    "    qml.CRX(weights[-1], wires=[n_qubits_amplitude-1, 0])\n",
    "    for i in range(n_qubits_amplitude-1):\n",
    "        qml.CRX(weights[i], wires=[i, (i+1)])\n",
    "\n",
    "@qml.qnode(dev, interface='torch')\n",
    "def circuit_X(inputs, layer_weights):\n",
    "    qml.AmplitudeEmbedding(features=inputs, wires=range(n_qubits_amplitude), normalize=True, pad_with=0.)\n",
    "    for l in range(n_layers_circuit_X):\n",
    "        circuit_X_entangling(layer_weights[l], n_qubits_amplitude)\n",
    "    return qml.probs(wires=range(n_qubits_amplitude))\n",
    "weight_shapes_circuit_X = { \"layer_weights\": (n_layers_circuit_X, n_qubits_amplitude)}"
   ]
  },
  {
   "cell_type": "code",
   "execution_count": 62,
   "metadata": {},
   "outputs": [],
   "source": [
    "n_layers_circuit_Z = 2\n",
    "def circuit_Z_entangling(weights, n_qubits_amplitude):\n",
    "    qml.CRZ(weights[-1], wires=[n_qubits_amplitude - 1, 0])\n",
    "    for i in range(n_qubits_amplitude - 1):\n",
    "        qml.CRZ(weights[i], wires=[i, i + 1])\n",
    "\n",
    "@qml.qnode(dev, interface='torch')\n",
    "def circuit_Z(inputs, layer_weights):\n",
    "    qml.AmplitudeEmbedding(features=inputs, wires=range(n_qubits_amplitude), normalize=True, pad_with=0.)\n",
    "    for l in range(n_layers_circuit_Z):\n",
    "        circuit_Z_entangling(layer_weights[l], n_qubits_amplitude)\n",
    "    return qml.probs(wires=range(n_qubits_amplitude))\n",
    "weight_shapes_circuit_Z = { \"layer_weights\": (n_layers_circuit_Z, n_qubits_amplitude)}"
   ]
  },
  {
   "cell_type": "code",
   "execution_count": 63,
   "metadata": {},
   "outputs": [],
   "source": [
    "class Q_layer_same(MessagePassing):\n",
    "    def __init__(self,src_dim, dst_dim, edge_dim, **kwargs):\n",
    "        super(Q_layer_same, self).__init__(aggr='mean')  # mean aggregation\n",
    "        self.lin_res = qml.qnn.TorchLayer(circuit_Z, weight_shapes_circuit_Z)\n",
    "        self.lin_qml = qml.qnn.TorchLayer(circuit_X, weight_shapes_circuit_X)\n",
    "        self.in_linear = nn.Linear(src_dim + dst_dim + edge_dim, 2 ** n_qubits_amplitude)\n",
    "        self.bn = BN(2 ** n_qubits_amplitude)\n",
    "\n",
    "    def forward(self, x, edge_index, edge_attr):\n",
    "        feat_src, feat_dst = x\n",
    "        out = self.propagate(edge_index=edge_index, x=(feat_src, feat_dst), edge_attr=edge_attr)\n",
    "        out = out + self.lin_res(feat_dst)\n",
    "        return self.bn(out)\n",
    "\n",
    "    def message(self, x_j, x_i, edge_attr):\n",
    "        out = torch.cat([x_j, x_i, edge_attr], dim=1)\n",
    "        out = self.in_linear(out)\n",
    "        out = self.lin_qml(out)\n",
    "        return out\n",
    "\n",
    "    def update(self, aggr_out):\n",
    "        return aggr_out"
   ]
  },
  {
   "cell_type": "code",
   "execution_count": 64,
   "metadata": {},
   "outputs": [],
   "source": [
    "class RGCN_Hybrid_amplitude_same(nn.Module):\n",
    "    def __init__(self):\n",
    "        super(RGCN_Hybrid_amplitude_same, self).__init__()\n",
    "        out_dim = 2**n_qubits_amplitude\n",
    "        edge_dim = 2\n",
    "\n",
    "        self.conv1 = HeteroConv({\n",
    "            ('UE', 'com-by', 'AP'): Q_layer_same(1, 1, edge_dim),\n",
    "            ('AP', 'com', 'UE'): Q_layer_same(1, 1, edge_dim,)\n",
    "        }, aggr='mean')\n",
    "\n",
    "        self.conv2 = HeteroConv({\n",
    "            ('UE', 'com-by', 'AP'): Q_layer_same(out_dim, out_dim, edge_dim),\n",
    "            ('AP', 'com', 'UE'): Q_layer_same(out_dim, out_dim, edge_dim)\n",
    "        }, aggr='mean')\n",
    "\n",
    "        self.conv3 = HeteroConv({\n",
    "             ('UE', 'com-by', 'AP'): Q_layer_same(out_dim, out_dim, edge_dim),\n",
    "             ('AP', 'com', 'UE'): Q_layer_same(out_dim, out_dim, edge_dim)\n",
    "         }, aggr='mean')\n",
    "\n",
    "        self.mlp = MLP([16, 20])\n",
    "        self.mlp = nn.Sequential(*[self.mlp, Seq(Lin(20, 1), Sigmoid())])\n",
    "    def forward(self, x_dict, edge_index_dict, edge_attr_dict):\n",
    "        out = self.conv1(x_dict, edge_index_dict, edge_attr_dict)\n",
    "        out = self.conv2(out, edge_index_dict, edge_attr_dict)\n",
    "        out = self.conv3(out, edge_index_dict, edge_attr_dict)\n",
    "        out = self.mlp(out['UE'])\n",
    "        return out"
   ]
  },
  {
   "cell_type": "code",
   "execution_count": 65,
   "metadata": {},
   "outputs": [],
   "source": [
    "model_amplitude_same = RGCN_Hybrid_amplitude_same().to()\n",
    "\n",
    "optimizer_amplitude_same = torch.optim.Adam(model_amplitude_same.parameters(), lr=5e-4)\n",
    "scheduler_amplitude_same = torch.optim.lr_scheduler.StepLR(optimizer_amplitude_same, step_size=10, gamma=0.6)"
   ]
  },
  {
   "cell_type": "code",
   "execution_count": 66,
   "metadata": {},
   "outputs": [
    {
     "name": "stdout",
     "output_type": "stream",
     "text": [
      "Number of trainable parameters: 3089\n"
     ]
    }
   ],
   "source": [
    "trainable_params = sum(p.numel() for p in model_amplitude_same.parameters() if p.requires_grad)\n",
    "print(f\"Number of trainable parameters: {trainable_params}\")"
   ]
  },
  {
   "cell_type": "code",
   "execution_count": 85,
   "metadata": {},
   "outputs": [
    {
     "name": "stdout",
     "output_type": "stream",
     "text": [
      "Epoch 000, Train Rate: -0.2348, Test Rate: -0.2585\n",
      "Epoch 001, Train Rate: -0.3090, Test Rate: -0.3311\n",
      "Epoch 002, Train Rate: -0.3564, Test Rate: -0.3769\n",
      "Epoch 003, Train Rate: -0.4001, Test Rate: -0.4180\n",
      "Epoch 004, Train Rate: -0.4514, Test Rate: -0.4666\n",
      "Epoch 005, Train Rate: -0.5162, Test Rate: -0.5276\n",
      "Epoch 006, Train Rate: -0.5449, Test Rate: -0.5556\n",
      "Epoch 007, Train Rate: -0.5520, Test Rate: -0.5611\n",
      "Epoch 008, Train Rate: -0.5646, Test Rate: -0.5731\n",
      "Epoch 009, Train Rate: -0.5770, Test Rate: -0.5850\n",
      "Epoch 010, Train Rate: -0.5927, Test Rate: -0.5993\n",
      "Epoch 011, Train Rate: -0.5944, Test Rate: -0.6003\n",
      "Epoch 012, Train Rate: -0.5969, Test Rate: -0.6028\n",
      "Epoch 013, Train Rate: -0.5995, Test Rate: -0.6051\n",
      "Epoch 014, Train Rate: -0.6087, Test Rate: -0.6129\n",
      "Epoch 015, Train Rate: -0.6086, Test Rate: -0.6126\n",
      "Epoch 016, Train Rate: -0.6105, Test Rate: -0.6141\n",
      "Epoch 017, Train Rate: -0.6146, Test Rate: -0.6177\n",
      "Epoch 018, Train Rate: -0.6076, Test Rate: -0.6114\n",
      "Epoch 019, Train Rate: -0.6141, Test Rate: -0.6183\n",
      "Epoch 020, Train Rate: -0.5992, Test Rate: -0.6028\n",
      "Epoch 021, Train Rate: -0.6192, Test Rate: -0.6221\n",
      "Epoch 022, Train Rate: -0.6193, Test Rate: -0.6219\n",
      "Epoch 023, Train Rate: -0.6200, Test Rate: -0.6230\n",
      "Epoch 024, Train Rate: -0.6184, Test Rate: -0.6220\n",
      "Epoch 025, Train Rate: -0.6195, Test Rate: -0.6225\n",
      "Epoch 026, Train Rate: -0.6109, Test Rate: -0.6132\n",
      "Epoch 027, Train Rate: -0.6245, Test Rate: -0.6266\n",
      "Epoch 028, Train Rate: -0.6238, Test Rate: -0.6259\n",
      "Epoch 029, Train Rate: -0.6211, Test Rate: -0.6232\n",
      "Epoch 030, Train Rate: -0.6266, Test Rate: -0.6284\n",
      "Epoch 031, Train Rate: -0.6257, Test Rate: -0.6284\n",
      "Epoch 032, Train Rate: -0.5975, Test Rate: -0.5994\n",
      "Epoch 033, Train Rate: -0.6241, Test Rate: -0.6269\n",
      "Epoch 034, Train Rate: -0.6260, Test Rate: -0.6281\n",
      "Epoch 035, Train Rate: -0.6271, Test Rate: -0.6295\n",
      "Epoch 036, Train Rate: -0.6258, Test Rate: -0.6279\n",
      "Epoch 037, Train Rate: -0.6224, Test Rate: -0.6245\n",
      "Epoch 038, Train Rate: -0.6273, Test Rate: -0.6296\n",
      "Epoch 039, Train Rate: -0.6286, Test Rate: -0.6299\n",
      "Epoch 040, Train Rate: -0.6268, Test Rate: -0.6288\n",
      "Epoch 041, Train Rate: -0.6280, Test Rate: -0.6301\n",
      "Epoch 042, Train Rate: -0.6089, Test Rate: -0.6098\n",
      "Epoch 043, Train Rate: -0.5724, Test Rate: -0.5734\n",
      "Epoch 044, Train Rate: -0.6276, Test Rate: -0.6295\n",
      "Epoch 045, Train Rate: -0.6285, Test Rate: -0.6307\n",
      "Epoch 046, Train Rate: -0.6270, Test Rate: -0.6293\n",
      "Epoch 047, Train Rate: -0.6272, Test Rate: -0.6297\n",
      "Epoch 048, Train Rate: -0.6289, Test Rate: -0.6306\n",
      "Epoch 049, Train Rate: -0.6288, Test Rate: -0.6310\n",
      "Epoch 050, Train Rate: -0.6284, Test Rate: -0.6305\n",
      "Epoch 051, Train Rate: -0.6216, Test Rate: -0.6234\n",
      "Epoch 052, Train Rate: -0.6264, Test Rate: -0.6281\n",
      "Epoch 053, Train Rate: -0.6268, Test Rate: -0.6283\n",
      "Epoch 054, Train Rate: -0.6272, Test Rate: -0.6287\n",
      "Epoch 055, Train Rate: -0.6306, Test Rate: -0.6323\n",
      "Epoch 056, Train Rate: -0.6311, Test Rate: -0.6326\n",
      "Epoch 057, Train Rate: -0.6284, Test Rate: -0.6298\n",
      "Epoch 058, Train Rate: -0.6304, Test Rate: -0.6321\n",
      "Epoch 059, Train Rate: -0.6251, Test Rate: -0.6265\n",
      "Epoch 060, Train Rate: -0.6269, Test Rate: -0.6287\n",
      "Epoch 061, Train Rate: -0.6294, Test Rate: -0.6312\n",
      "Epoch 062, Train Rate: -0.6301, Test Rate: -0.6317\n",
      "Epoch 063, Train Rate: -0.6308, Test Rate: -0.6325\n",
      "Epoch 064, Train Rate: -0.6309, Test Rate: -0.6325\n",
      "Epoch 065, Train Rate: -0.6269, Test Rate: -0.6283\n",
      "Epoch 066, Train Rate: -0.6290, Test Rate: -0.6312\n",
      "Epoch 067, Train Rate: -0.6304, Test Rate: -0.6321\n",
      "Epoch 068, Train Rate: -0.6125, Test Rate: -0.6131\n",
      "Epoch 069, Train Rate: -0.6299, Test Rate: -0.6315\n",
      "Epoch 070, Train Rate: -0.6294, Test Rate: -0.6315\n",
      "Epoch 071, Train Rate: -0.6312, Test Rate: -0.6329\n",
      "Epoch 072, Train Rate: -0.6303, Test Rate: -0.6320\n",
      "Epoch 073, Train Rate: -0.6300, Test Rate: -0.6316\n",
      "Epoch 074, Train Rate: -0.6308, Test Rate: -0.6325\n",
      "Epoch 075, Train Rate: -0.6301, Test Rate: -0.6313\n",
      "Epoch 076, Train Rate: -0.6297, Test Rate: -0.6314\n",
      "Epoch 077, Train Rate: -0.6278, Test Rate: -0.6292\n",
      "Epoch 078, Train Rate: -0.6299, Test Rate: -0.6316\n",
      "Epoch 079, Train Rate: -0.6306, Test Rate: -0.6322\n",
      "Epoch 080, Train Rate: -0.6297, Test Rate: -0.6313\n",
      "Epoch 081, Train Rate: -0.6054, Test Rate: -0.6061\n",
      "Epoch 082, Train Rate: -0.6305, Test Rate: -0.6324\n",
      "Epoch 083, Train Rate: -0.6308, Test Rate: -0.6326\n",
      "Epoch 084, Train Rate: -0.6315, Test Rate: -0.6329\n",
      "Epoch 085, Train Rate: -0.6313, Test Rate: -0.6330\n",
      "Epoch 086, Train Rate: -0.6287, Test Rate: -0.6302\n",
      "Epoch 087, Train Rate: -0.6019, Test Rate: -0.6025\n",
      "Epoch 088, Train Rate: -0.6295, Test Rate: -0.6311\n",
      "Epoch 089, Train Rate: -0.6287, Test Rate: -0.6301\n",
      "Epoch 090, Train Rate: -0.6251, Test Rate: -0.6265\n",
      "Epoch 091, Train Rate: -0.6313, Test Rate: -0.6329\n",
      "Epoch 092, Train Rate: -0.6315, Test Rate: -0.6330\n",
      "Epoch 093, Train Rate: -0.5966, Test Rate: -0.5975\n",
      "Epoch 094, Train Rate: -0.6303, Test Rate: -0.6322\n",
      "Epoch 095, Train Rate: -0.6295, Test Rate: -0.6313\n",
      "Epoch 096, Train Rate: -0.6310, Test Rate: -0.6325\n",
      "Epoch 097, Train Rate: -0.6313, Test Rate: -0.6328\n",
      "Epoch 098, Train Rate: -0.6308, Test Rate: -0.6325\n",
      "Epoch 099, Train Rate: -0.6305, Test Rate: -0.6324\n"
     ]
    }
   ],
   "source": [
    "record_gnn_same = []\n",
    "\n",
    "for epoch in range(0, 100):\n",
    "    if epoch % 1 == 0:\n",
    "        with torch.no_grad():\n",
    "            test_rate = test_model(test_loader, model_gnn)\n",
    "            train_rate = test_model(train_loader, model_gnn)\n",
    "        print(f'Epoch {epoch:03d}, Train Rate: {train_rate:.4f}, Test Rate: {test_rate:.4f}')\n",
    "        record_gnn_same.append([train_rate, test_rate])\n",
    "\n",
    "    train_model(epoch, model_gnn, optimizer, train_loader )\n",
    "    scheduler.step()\n"
   ]
  },
  {
   "cell_type": "code",
   "execution_count": 68,
   "metadata": {},
   "outputs": [
    {
     "name": "stdout",
     "output_type": "stream",
     "text": [
      "Epoch 00, Train Rate: -0.2378, Test Rate: -0.2615\n",
      "Epoch 01, Train Rate: -0.5102, Test Rate: -0.5175\n",
      "Epoch 02, Train Rate: -0.5456, Test Rate: -0.5506\n",
      "Epoch 03, Train Rate: -0.5179, Test Rate: -0.5229\n",
      "Epoch 04, Train Rate: -0.5822, Test Rate: -0.5850\n",
      "Epoch 05, Train Rate: -0.4197, Test Rate: -0.4173\n",
      "Epoch 06, Train Rate: -0.5995, Test Rate: -0.6003\n",
      "Epoch 07, Train Rate: -0.5608, Test Rate: -0.5571\n",
      "Epoch 08, Train Rate: -0.5860, Test Rate: -0.5902\n",
      "Epoch 09, Train Rate: -0.5073, Test Rate: -0.5039\n",
      "Epoch 10, Train Rate: -0.5480, Test Rate: -0.5495\n",
      "Epoch 11, Train Rate: -0.5800, Test Rate: -0.5762\n",
      "Epoch 12, Train Rate: -0.6058, Test Rate: -0.6078\n",
      "Epoch 13, Train Rate: -0.5873, Test Rate: -0.5898\n",
      "Epoch 14, Train Rate: -0.4871, Test Rate: -0.4871\n",
      "Epoch 15, Train Rate: -0.6005, Test Rate: -0.6008\n",
      "Epoch 16, Train Rate: -0.4668, Test Rate: -0.4684\n",
      "Epoch 17, Train Rate: -0.6027, Test Rate: -0.6030\n",
      "Epoch 18, Train Rate: -0.5636, Test Rate: -0.5658\n",
      "Epoch 19, Train Rate: -0.6394, Test Rate: -0.6380\n",
      "Epoch 20, Train Rate: -0.4047, Test Rate: -0.4054\n",
      "Epoch 21, Train Rate: -0.6065, Test Rate: -0.6056\n",
      "Epoch 22, Train Rate: -0.5942, Test Rate: -0.5992\n",
      "Epoch 23, Train Rate: -0.6415, Test Rate: -0.6418\n",
      "Epoch 24, Train Rate: -0.5833, Test Rate: -0.5814\n",
      "Epoch 25, Train Rate: -0.6291, Test Rate: -0.6281\n",
      "Epoch 26, Train Rate: -0.6224, Test Rate: -0.6217\n",
      "Epoch 27, Train Rate: -0.6062, Test Rate: -0.6082\n",
      "Epoch 28, Train Rate: -0.6134, Test Rate: -0.6157\n",
      "Epoch 29, Train Rate: -0.6155, Test Rate: -0.6165\n",
      "Epoch 30, Train Rate: -0.6330, Test Rate: -0.6334\n",
      "Epoch 31, Train Rate: -0.6546, Test Rate: -0.6574\n",
      "Epoch 32, Train Rate: -0.6507, Test Rate: -0.6515\n",
      "Epoch 33, Train Rate: -0.5991, Test Rate: -0.5984\n",
      "Epoch 34, Train Rate: -0.6430, Test Rate: -0.6447\n",
      "Epoch 35, Train Rate: -0.6325, Test Rate: -0.6348\n",
      "Epoch 36, Train Rate: -0.6474, Test Rate: -0.6485\n",
      "Epoch 37, Train Rate: -0.6615, Test Rate: -0.6632\n",
      "Epoch 38, Train Rate: -0.6215, Test Rate: -0.6204\n",
      "Epoch 39, Train Rate: -0.6613, Test Rate: -0.6602\n",
      "Epoch 40, Train Rate: -0.6582, Test Rate: -0.6598\n",
      "Epoch 41, Train Rate: -0.6553, Test Rate: -0.6574\n",
      "Epoch 42, Train Rate: -0.6618, Test Rate: -0.6619\n",
      "Epoch 43, Train Rate: -0.6357, Test Rate: -0.6347\n",
      "Epoch 44, Train Rate: -0.6607, Test Rate: -0.6618\n",
      "Epoch 45, Train Rate: -0.6627, Test Rate: -0.6638\n",
      "Epoch 46, Train Rate: -0.6456, Test Rate: -0.6439\n",
      "Epoch 47, Train Rate: -0.6542, Test Rate: -0.6558\n",
      "Epoch 48, Train Rate: -0.6306, Test Rate: -0.6333\n",
      "Epoch 49, Train Rate: -0.6188, Test Rate: -0.6214\n",
      "Epoch 50, Train Rate: -0.6654, Test Rate: -0.6673\n",
      "Epoch 51, Train Rate: -0.6574, Test Rate: -0.6562\n",
      "Epoch 52, Train Rate: -0.6692, Test Rate: -0.6700\n",
      "Epoch 53, Train Rate: -0.6587, Test Rate: -0.6606\n",
      "Epoch 54, Train Rate: -0.6697, Test Rate: -0.6708\n",
      "Epoch 55, Train Rate: -0.6677, Test Rate: -0.6695\n",
      "Epoch 56, Train Rate: -0.6600, Test Rate: -0.6605\n",
      "Epoch 57, Train Rate: -0.6642, Test Rate: -0.6649\n",
      "Epoch 58, Train Rate: -0.6715, Test Rate: -0.6728\n",
      "Epoch 59, Train Rate: -0.6566, Test Rate: -0.6559\n",
      "Epoch 60, Train Rate: -0.6682, Test Rate: -0.6691\n",
      "Epoch 61, Train Rate: -0.6706, Test Rate: -0.6715\n",
      "Epoch 62, Train Rate: -0.6650, Test Rate: -0.6666\n",
      "Epoch 63, Train Rate: -0.6717, Test Rate: -0.6723\n",
      "Epoch 64, Train Rate: -0.6710, Test Rate: -0.6718\n",
      "Epoch 65, Train Rate: -0.6702, Test Rate: -0.6711\n",
      "Epoch 66, Train Rate: -0.6718, Test Rate: -0.6725\n",
      "Epoch 67, Train Rate: -0.6703, Test Rate: -0.6704\n",
      "Epoch 68, Train Rate: -0.6703, Test Rate: -0.6719\n",
      "Epoch 69, Train Rate: -0.6708, Test Rate: -0.6721\n",
      "Epoch 70, Train Rate: -0.6703, Test Rate: -0.6708\n",
      "Epoch 71, Train Rate: -0.6696, Test Rate: -0.6710\n",
      "Epoch 72, Train Rate: -0.6730, Test Rate: -0.6737\n",
      "Epoch 73, Train Rate: -0.6715, Test Rate: -0.6722\n",
      "Epoch 74, Train Rate: -0.6731, Test Rate: -0.6732\n",
      "Epoch 75, Train Rate: -0.6705, Test Rate: -0.6710\n",
      "Epoch 76, Train Rate: -0.6729, Test Rate: -0.6735\n",
      "Epoch 77, Train Rate: -0.6718, Test Rate: -0.6717\n",
      "Epoch 78, Train Rate: -0.6723, Test Rate: -0.6734\n",
      "Epoch 79, Train Rate: -0.6665, Test Rate: -0.6680\n",
      "Epoch 80, Train Rate: -0.6632, Test Rate: -0.6646\n",
      "Epoch 81, Train Rate: -0.6727, Test Rate: -0.6739\n",
      "Epoch 82, Train Rate: -0.6689, Test Rate: -0.6695\n",
      "Epoch 83, Train Rate: -0.6722, Test Rate: -0.6734\n",
      "Epoch 84, Train Rate: -0.6704, Test Rate: -0.6712\n",
      "Epoch 85, Train Rate: -0.6705, Test Rate: -0.6715\n",
      "Epoch 86, Train Rate: -0.6706, Test Rate: -0.6712\n",
      "Epoch 87, Train Rate: -0.6694, Test Rate: -0.6708\n",
      "Epoch 88, Train Rate: -0.6722, Test Rate: -0.6729\n",
      "Epoch 89, Train Rate: -0.6712, Test Rate: -0.6717\n",
      "Epoch 90, Train Rate: -0.6701, Test Rate: -0.6714\n",
      "Epoch 91, Train Rate: -0.6719, Test Rate: -0.6731\n",
      "Epoch 92, Train Rate: -0.6718, Test Rate: -0.6725\n",
      "Epoch 93, Train Rate: -0.6731, Test Rate: -0.6739\n",
      "Epoch 94, Train Rate: -0.6715, Test Rate: -0.6726\n",
      "Epoch 95, Train Rate: -0.6728, Test Rate: -0.6743\n",
      "Epoch 96, Train Rate: -0.6736, Test Rate: -0.6744\n",
      "Epoch 97, Train Rate: -0.6734, Test Rate: -0.6743\n",
      "Epoch 98, Train Rate: -0.6724, Test Rate: -0.6729\n",
      "Epoch 99, Train Rate: -0.6716, Test Rate: -0.6723\n"
     ]
    }
   ],
   "source": [
    "record_amplitude_same = []\n",
    "\n",
    "for epoch in range(0, 100):\n",
    "\n",
    "    with torch.no_grad():\n",
    "        test_rate = test_model(test_loader, model_amplitude_same)\n",
    "        train_rate = test_model(train_loader, model_amplitude_same)\n",
    "        record_amplitude_same.append([train_rate, test_rate])\n",
    "    if epoch % 1 == 0:\n",
    "        print(f'Epoch {epoch:02d}, Train Rate: {train_rate:.4f}, Test Rate: {test_rate:.4f}')\n",
    "    train_model(epoch, model_amplitude_same, optimizer_amplitude_same, train_loader)\n",
    "    scheduler_amplitude_same.step()"
   ]
  },
  {
   "cell_type": "code",
   "execution_count": 69,
   "metadata": {},
   "outputs": [],
   "source": [
    "torch.save(model_gnn.state_dict(), 'model_gnn_same.pth')\n",
    "torch.save(model_amplitude_same.state_dict(), 'model_amplitude_same.pth')"
   ]
  },
  {
   "cell_type": "markdown",
   "metadata": {},
   "source": [
    "# HQGNN Angle "
   ]
  },
  {
   "cell_type": "code",
   "execution_count": 70,
   "metadata": {},
   "outputs": [],
   "source": [
    "import pennylane as qml\n",
    "from pennylane import numpy as np\n",
    "\n",
    "n_qubits = 5\n",
    "dev = qml.device('default.qubit', wires=n_qubits)\n"
   ]
  },
  {
   "cell_type": "code",
   "execution_count": 71,
   "metadata": {},
   "outputs": [],
   "source": [
    "n_layers_circuit_X2 = 1\n",
    "def circuit_X2_entangling(weights, n_qubits):\n",
    "    qml.CRX(weights[-1], wires=[n_qubits-1, 0])\n",
    "    for i in range(n_qubits-1):\n",
    "        qml.CRX(weights[i], wires=[i, (i+1)])\n",
    "\n",
    "@qml.qnode(dev, interface='torch')\n",
    "def circuit_X2(inputs, layer_weights):\n",
    "    qml.AngleEmbedding(features=inputs, wires=range(n_qubits))\n",
    "    for l in range(n_layers_circuit_X2):\n",
    "        circuit_X2_entangling(layer_weights[l], n_qubits)\n",
    "    return qml.probs(wires=range(n_qubits))\n",
    "weight_shapes_circuit_X2 = { \"layer_weights\": (n_layers_circuit_X2, n_qubits)}"
   ]
  },
  {
   "cell_type": "code",
   "execution_count": 72,
   "metadata": {},
   "outputs": [],
   "source": [
    "n_layers_circuit_Z2 = 1\n",
    "def circuit_Z2_entangling(weights, n_qubits):\n",
    "    qml.CRZ(weights[-1], wires=[n_qubits - 1, 0])\n",
    "    for i in range(n_qubits - 1):\n",
    "        qml.CRZ(weights[i], wires=[i, i + 1])\n",
    "\n",
    "@qml.qnode(dev, interface='torch')\n",
    "def circuit_Z2(inputs, layer_weights):\n",
    "    qml.AngleEmbedding(features=inputs, wires=range(n_qubits))\n",
    "    for l in range(n_layers_circuit_Z2):\n",
    "        circuit_Z2_entangling(layer_weights[l], n_qubits)\n",
    "    return qml.probs(wires=range(n_qubits))\n",
    "weight_shapes_circuit_Z2 = { \"layer_weights\": (n_layers_circuit_Z2, n_qubits)}"
   ]
  },
  {
   "cell_type": "code",
   "execution_count": 73,
   "metadata": {},
   "outputs": [],
   "source": [
    "def MLP(channels, batch_norm=True):\n",
    "    return Seq(*[\n",
    "        Seq(Lin(channels[i - 1], channels[i]), ReLU(), BN(channels[i]))\n",
    "        for i in range(1, len(channels))\n",
    "    ])\n",
    "class Q_layer_angle(MessagePassing):\n",
    "    def __init__(self,src_dim, dst_dim, edge_dim, out_dim, **kwargs):\n",
    "        super(Q_layer_angle, self).__init__(aggr='mean')  \n",
    "        self.lin_res = qml.qnn.TorchLayer(circuit_X2, weight_shapes_circuit_X2)\n",
    "        self.lin_qml = qml.qnn.TorchLayer(circuit_Z2, weight_shapes_circuit_Z2)\n",
    "        self.in_linear = nn.Linear(src_dim + dst_dim + edge_dim, out_dim)\n",
    "        self.linear = nn.Linear(dst_dim, n_qubits)\n",
    "        self.bn = BN(32)\n",
    "\n",
    "    def forward(self, x, edge_index, edge_attr):\n",
    "        feat_src, feat_dst = x\n",
    "        out = self.propagate(edge_index=edge_index, x=(feat_src, feat_dst), edge_attr=edge_attr)\n",
    "        out = out + self.lin_res(self.linear(feat_dst))\n",
    "        return self.bn(out)\n",
    "\n",
    "    def message(self, x_j, x_i, edge_attr):\n",
    "        out = torch.cat([x_j, x_i, edge_attr], dim=1)\n",
    "        out = self.in_linear(out)\n",
    "        out = self.lin_qml(out)\n",
    "        return out\n",
    "\n",
    "    def update(self, aggr_out):\n",
    "        return aggr_out"
   ]
  },
  {
   "cell_type": "code",
   "execution_count": 74,
   "metadata": {},
   "outputs": [],
   "source": [
    "class RGCN_Hybrid_angle_same(nn.Module):\n",
    "    def __init__(self):\n",
    "        super(RGCN_Hybrid_angle_same, self).__init__()\n",
    "        out_dim = n_qubits\n",
    "        edge_dim = 2\n",
    "\n",
    "        self.conv1 = HeteroConv({\n",
    "            ('UE', 'com-by', 'AP'): Q_layer_angle(1, 1, edge_dim, out_dim),\n",
    "            ('AP', 'com', 'UE'): Q_layer_angle(1, 1, edge_dim,out_dim)\n",
    "        }, aggr='mean')\n",
    "\n",
    "        self.conv2 = HeteroConv({\n",
    "            ('UE', 'com-by', 'AP'): Q_layer_angle(32, 32, edge_dim, out_dim),\n",
    "            ('AP', 'com', 'UE'): Q_layer_angle(32, 32, edge_dim, out_dim)\n",
    "        }, aggr='mean')\n",
    "\n",
    "        self.conv3 = HeteroConv({\n",
    "             ('UE', 'com-by', 'AP'): Q_layer_angle(32, 32, edge_dim, out_dim),\n",
    "             ('AP', 'com', 'UE'): Q_layer_angle(32, 32, edge_dim, out_dim)\n",
    "         }, aggr='mean')\n",
    "\n",
    "        self.mlp = MLP([32, 16])\n",
    "        self.mlp = nn.Sequential(*[self.mlp, Seq(Lin(16, 1), Sigmoid())])\n",
    "    def forward(self, x_dict, edge_index_dict, edge_attr_dict):\n",
    "        out = self.conv1(x_dict, edge_index_dict, edge_attr_dict)\n",
    "        out = self.conv2(out, edge_index_dict, edge_attr_dict)\n",
    "        out = self.conv3(out, edge_index_dict, edge_attr_dict)\n",
    "        out = self.mlp(out['UE'])\n",
    "        return out"
   ]
  },
  {
   "cell_type": "code",
   "execution_count": 75,
   "metadata": {},
   "outputs": [],
   "source": [
    "model_angle_same = RGCN_Hybrid_angle_same().to()\n",
    "\n",
    "optimizer_qml_mid_angle = torch.optim.Adam(model_angle_same.parameters(), lr=5e-4)\n",
    "scheduler_qml_mid_angle = torch.optim.lr_scheduler.StepLR(optimizer_qml_mid_angle, step_size=10, gamma=0.6)"
   ]
  },
  {
   "cell_type": "code",
   "execution_count": 76,
   "metadata": {},
   "outputs": [
    {
     "name": "stdout",
     "output_type": "stream",
     "text": [
      "Number of trainable parameters: 3091\n"
     ]
    }
   ],
   "source": [
    "trainable_params = sum(p.numel() for p in model_angle_same.parameters() if p.requires_grad)\n",
    "print(f\"Number of trainable parameters: {trainable_params}\")"
   ]
  },
  {
   "cell_type": "code",
   "execution_count": 77,
   "metadata": {},
   "outputs": [
    {
     "name": "stdout",
     "output_type": "stream",
     "text": [
      "Epoch 00, Train Rate: -0.2411, Test Rate: -0.2649\n",
      "Epoch 01, Train Rate: -0.5009, Test Rate: -0.5149\n",
      "Epoch 02, Train Rate: -0.5718, Test Rate: -0.5807\n",
      "Epoch 03, Train Rate: -0.5964, Test Rate: -0.5994\n",
      "Epoch 04, Train Rate: -0.6044, Test Rate: -0.6056\n",
      "Epoch 05, Train Rate: -0.6086, Test Rate: -0.6102\n",
      "Epoch 06, Train Rate: -0.4542, Test Rate: -0.4600\n",
      "Epoch 07, Train Rate: -0.6220, Test Rate: -0.6217\n",
      "Epoch 08, Train Rate: -0.6250, Test Rate: -0.6273\n",
      "Epoch 09, Train Rate: -0.6278, Test Rate: -0.6282\n",
      "Epoch 10, Train Rate: -0.6104, Test Rate: -0.6143\n",
      "Epoch 11, Train Rate: -0.6131, Test Rate: -0.6151\n",
      "Epoch 12, Train Rate: -0.6354, Test Rate: -0.6375\n",
      "Epoch 13, Train Rate: -0.6343, Test Rate: -0.6374\n",
      "Epoch 14, Train Rate: -0.6327, Test Rate: -0.6337\n",
      "Epoch 15, Train Rate: -0.5334, Test Rate: -0.5377\n",
      "Epoch 16, Train Rate: -0.6314, Test Rate: -0.6334\n",
      "Epoch 17, Train Rate: -0.6378, Test Rate: -0.6409\n",
      "Epoch 18, Train Rate: -0.6406, Test Rate: -0.6417\n",
      "Epoch 19, Train Rate: -0.6389, Test Rate: -0.6430\n",
      "Epoch 20, Train Rate: -0.6396, Test Rate: -0.6389\n",
      "Epoch 21, Train Rate: -0.6439, Test Rate: -0.6472\n",
      "Epoch 22, Train Rate: -0.6434, Test Rate: -0.6454\n",
      "Epoch 23, Train Rate: -0.6403, Test Rate: -0.6421\n",
      "Epoch 24, Train Rate: -0.6424, Test Rate: -0.6454\n",
      "Epoch 25, Train Rate: -0.5920, Test Rate: -0.5939\n",
      "Epoch 26, Train Rate: -0.6396, Test Rate: -0.6411\n",
      "Epoch 27, Train Rate: -0.6427, Test Rate: -0.6440\n",
      "Epoch 28, Train Rate: -0.6418, Test Rate: -0.6414\n",
      "Epoch 29, Train Rate: -0.6426, Test Rate: -0.6424\n",
      "Epoch 30, Train Rate: -0.5516, Test Rate: -0.5547\n",
      "Epoch 31, Train Rate: -0.6494, Test Rate: -0.6503\n",
      "Epoch 32, Train Rate: -0.6516, Test Rate: -0.6519\n",
      "Epoch 33, Train Rate: -0.6493, Test Rate: -0.6495\n",
      "Epoch 34, Train Rate: -0.6511, Test Rate: -0.6520\n",
      "Epoch 35, Train Rate: -0.6491, Test Rate: -0.6508\n",
      "Epoch 36, Train Rate: -0.6500, Test Rate: -0.6518\n",
      "Epoch 37, Train Rate: -0.6511, Test Rate: -0.6522\n",
      "Epoch 38, Train Rate: -0.6498, Test Rate: -0.6511\n",
      "Epoch 39, Train Rate: -0.6459, Test Rate: -0.6471\n",
      "Epoch 40, Train Rate: -0.6484, Test Rate: -0.6489\n",
      "Epoch 41, Train Rate: -0.6515, Test Rate: -0.6538\n",
      "Epoch 42, Train Rate: -0.6516, Test Rate: -0.6527\n",
      "Epoch 43, Train Rate: -0.6531, Test Rate: -0.6548\n",
      "Epoch 44, Train Rate: -0.6431, Test Rate: -0.6440\n",
      "Epoch 45, Train Rate: -0.6530, Test Rate: -0.6553\n",
      "Epoch 46, Train Rate: -0.6528, Test Rate: -0.6553\n",
      "Epoch 47, Train Rate: -0.6539, Test Rate: -0.6556\n",
      "Epoch 48, Train Rate: -0.6536, Test Rate: -0.6550\n",
      "Epoch 49, Train Rate: -0.6539, Test Rate: -0.6562\n",
      "Epoch 50, Train Rate: -0.6483, Test Rate: -0.6501\n",
      "Epoch 51, Train Rate: -0.6513, Test Rate: -0.6549\n",
      "Epoch 52, Train Rate: -0.6519, Test Rate: -0.6546\n",
      "Epoch 53, Train Rate: -0.6526, Test Rate: -0.6545\n",
      "Epoch 54, Train Rate: -0.6540, Test Rate: -0.6553\n",
      "Epoch 55, Train Rate: -0.6540, Test Rate: -0.6556\n",
      "Epoch 56, Train Rate: -0.6539, Test Rate: -0.6567\n",
      "Epoch 57, Train Rate: -0.6537, Test Rate: -0.6554\n",
      "Epoch 58, Train Rate: -0.6510, Test Rate: -0.6526\n",
      "Epoch 59, Train Rate: -0.6537, Test Rate: -0.6568\n",
      "Epoch 60, Train Rate: -0.6535, Test Rate: -0.6564\n",
      "Epoch 61, Train Rate: -0.6547, Test Rate: -0.6563\n",
      "Epoch 62, Train Rate: -0.6532, Test Rate: -0.6547\n",
      "Epoch 63, Train Rate: -0.6539, Test Rate: -0.6567\n",
      "Epoch 64, Train Rate: -0.6544, Test Rate: -0.6573\n",
      "Epoch 65, Train Rate: -0.6545, Test Rate: -0.6565\n",
      "Epoch 66, Train Rate: -0.6535, Test Rate: -0.6551\n",
      "Epoch 67, Train Rate: -0.6537, Test Rate: -0.6559\n",
      "Epoch 68, Train Rate: -0.6539, Test Rate: -0.6561\n",
      "Epoch 69, Train Rate: -0.6550, Test Rate: -0.6572\n",
      "Epoch 70, Train Rate: -0.6537, Test Rate: -0.6557\n",
      "Epoch 71, Train Rate: -0.6542, Test Rate: -0.6565\n",
      "Epoch 72, Train Rate: -0.6554, Test Rate: -0.6573\n",
      "Epoch 73, Train Rate: -0.6537, Test Rate: -0.6560\n",
      "Epoch 74, Train Rate: -0.6547, Test Rate: -0.6569\n",
      "Epoch 75, Train Rate: -0.6543, Test Rate: -0.6571\n",
      "Epoch 76, Train Rate: -0.6546, Test Rate: -0.6563\n",
      "Epoch 77, Train Rate: -0.6546, Test Rate: -0.6569\n",
      "Epoch 78, Train Rate: -0.6550, Test Rate: -0.6580\n",
      "Epoch 79, Train Rate: -0.6546, Test Rate: -0.6571\n",
      "Epoch 80, Train Rate: -0.6528, Test Rate: -0.6547\n",
      "Epoch 81, Train Rate: -0.6545, Test Rate: -0.6568\n",
      "Epoch 82, Train Rate: -0.6537, Test Rate: -0.6568\n",
      "Epoch 83, Train Rate: -0.6533, Test Rate: -0.6564\n",
      "Epoch 84, Train Rate: -0.6548, Test Rate: -0.6558\n",
      "Epoch 85, Train Rate: -0.6552, Test Rate: -0.6579\n",
      "Epoch 86, Train Rate: -0.6551, Test Rate: -0.6574\n",
      "Epoch 87, Train Rate: -0.6538, Test Rate: -0.6558\n",
      "Epoch 88, Train Rate: -0.6539, Test Rate: -0.6568\n",
      "Epoch 89, Train Rate: -0.6541, Test Rate: -0.6560\n",
      "Epoch 90, Train Rate: -0.6550, Test Rate: -0.6574\n",
      "Epoch 91, Train Rate: -0.6549, Test Rate: -0.6574\n",
      "Epoch 92, Train Rate: -0.6558, Test Rate: -0.6576\n",
      "Epoch 93, Train Rate: -0.6548, Test Rate: -0.6571\n",
      "Epoch 94, Train Rate: -0.6554, Test Rate: -0.6580\n",
      "Epoch 95, Train Rate: -0.6537, Test Rate: -0.6568\n",
      "Epoch 96, Train Rate: -0.6537, Test Rate: -0.6570\n",
      "Epoch 97, Train Rate: -0.6553, Test Rate: -0.6576\n",
      "Epoch 98, Train Rate: -0.6545, Test Rate: -0.6572\n",
      "Epoch 99, Train Rate: -0.6545, Test Rate: -0.6569\n"
     ]
    }
   ],
   "source": [
    "record_edge = []\n",
    "\n",
    "for epoch in range(0, 100):\n",
    "\n",
    "    with torch.no_grad():\n",
    "        test_rate = test_model(test_loader, model_angle_same)\n",
    "        train_rate = test_model(train_loader, model_angle_same)\n",
    "        record_edge.append([train_rate, test_rate])\n",
    "    if epoch % 1 == 0:\n",
    "        print(f'Epoch {epoch:02d}, Train Rate: {train_rate:.4f}, Test Rate: {test_rate:.4f}')\n",
    "    train_model(epoch, model_angle_same, optimizer_qml_mid_angle, train_loader)\n",
    "    scheduler_qml_mid_angle.step()"
   ]
  },
  {
   "cell_type": "code",
   "execution_count": 78,
   "metadata": {},
   "outputs": [],
   "source": [
    "torch.save(model_angle_same.state_dict(), 'model_angle_same.pth')"
   ]
  },
  {
   "cell_type": "code",
   "execution_count": 79,
   "metadata": {},
   "outputs": [],
   "source": [
    "avg_gnn_test_rates_angle = -test_model(test_loader, model_angle_same)"
   ]
  },
  {
   "cell_type": "code",
   "execution_count": 86,
   "metadata": {},
   "outputs": [
    {
     "name": "stdout",
     "output_type": "stream",
     "text": [
      "             Model  Classical Parameters  Quantum Parameters  Performance (%)\n",
      "0              GNN                  3003                   0        86.858594\n",
      "1  HQGNN Amplitude                  2993                  96        92.521612\n",
      "2      HQGNN Angle                  3031                  60        90.236682\n"
     ]
    }
   ],
   "source": [
    "import pandas as pd\n",
    "\n",
    "# Hàm để đếm tham số của mô hình\n",
    "def count_parameters(model):\n",
    "    quantum_params = 0\n",
    "    classical_params = 0\n",
    "    for name, param in model.named_parameters():\n",
    "        if 'lin_qml' in name or 'lin_res' in name:  # Phân loại các tham số thuộc về Quantum\n",
    "            quantum_params += param.numel()\n",
    "        else:  # Các tham số khác thuộc về Classical\n",
    "            classical_params += param.numel()\n",
    "    return quantum_params, classical_params\n",
    "\n",
    "models = {\n",
    "    \"GNN\": model_gnn,\n",
    "    \"HQGNN Amplitude\": model_amplitude_same,\n",
    "    \"HQGNN Angle\": model_angle_same,\n",
    "}\n",
    "\n",
    "params_count = {\n",
    "    name: count_parameters(model)\n",
    "    for name, model in models.items()\n",
    "}\n",
    "\n",
    "\n",
    "\n",
    "avg_gnn_test_rates_angle = -test_model(test_loader, model_angle_same)\n",
    "avg_gnn_test_rates_amplitude = -test_model(test_loader, model_amplitude_same)\n",
    "avg_gnn_test_rates = -test_model(test_loader, model_gnn)\n",
    "test_data = scipy.io.loadmat('cf_test_6_30_2.mat')\n",
    "opt_rates = np.sum(test_data['R_cf_opt_min'])/len(test_loader.dataset)\n",
    "\n",
    "# Hiệu suất\n",
    "performance_percentages = {\n",
    "    \"GNN\": (avg_gnn_test_rates / opt_rates) * 100,\n",
    "    \"HQGNN Amplitude\": (avg_gnn_test_rates_amplitude / opt_rates) * 100,\n",
    "    \"HQGNN Angle\": (avg_gnn_test_rates_angle / opt_rates) * 100,\n",
    "}\n",
    "\n",
    "# Tạo DataFrame\n",
    "data = {\n",
    "    \"Model\": [\"GNN\", \"HQGNN Amplitude\", \"HQGNN Angle\"],\n",
    "    \"Classical Parameters\": [params_count[\"GNN\"][1], params_count[\"HQGNN Amplitude\"][1], params_count[\"HQGNN Angle\"][1]],\n",
    "    \"Quantum Parameters\": [params_count[\"GNN\"][0], params_count[\"HQGNN Amplitude\"][0], params_count[\"HQGNN Angle\"][0]],\n",
    "    \n",
    "    \"Performance (%)\": [performance_percentages[\"GNN\"], performance_percentages[\"HQGNN Amplitude\"], performance_percentages[\"HQGNN Angle\"]],\n",
    "}\n",
    "\n",
    "params_df = pd.DataFrame(data)\n",
    "\n",
    "print(params_df)\n"
   ]
  }
 ],
 "metadata": {
  "colab": {
   "provenance": []
  },
  "kernelspec": {
   "display_name": "Khanh_son_env",
   "language": "python",
   "name": "python3"
  },
  "language_info": {
   "codemirror_mode": {
    "name": "ipython",
    "version": 3
   },
   "file_extension": ".py",
   "mimetype": "text/x-python",
   "name": "python",
   "nbconvert_exporter": "python",
   "pygments_lexer": "ipython3",
   "version": "3.11.8"
  }
 },
 "nbformat": 4,
 "nbformat_minor": 0
}
