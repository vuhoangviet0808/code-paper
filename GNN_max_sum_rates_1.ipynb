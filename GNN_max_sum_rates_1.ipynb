{
 "cells": [
  {
   "cell_type": "code",
   "execution_count": 1,
   "metadata": {
    "colab": {
     "base_uri": "https://localhost:8080/"
    },
    "id": "sKx-eOkGxdDn",
    "outputId": "a4d21bc6-4ab4-4052-8308-ebdaf9c9f5fa"
   },
   "outputs": [
    {
     "name": "stdout",
     "output_type": "stream",
     "text": [
      "Requirement already satisfied: torch in c:\\users\\admin\\appdata\\local\\packages\\pythonsoftwarefoundation.python.3.10_qbz5n2kfra8p0\\localcache\\local-packages\\python310\\site-packages (2.5.0)\n",
      "Requirement already satisfied: filelock in c:\\users\\admin\\appdata\\local\\packages\\pythonsoftwarefoundation.python.3.10_qbz5n2kfra8p0\\localcache\\local-packages\\python310\\site-packages (from torch) (3.13.4)\n",
      "Requirement already satisfied: typing-extensions>=4.8.0 in c:\\users\\admin\\appdata\\local\\packages\\pythonsoftwarefoundation.python.3.10_qbz5n2kfra8p0\\localcache\\local-packages\\python310\\site-packages (from torch) (4.11.0)\n",
      "Requirement already satisfied: networkx in c:\\users\\admin\\appdata\\local\\packages\\pythonsoftwarefoundation.python.3.10_qbz5n2kfra8p0\\localcache\\local-packages\\python310\\site-packages (from torch) (3.4.1)\n",
      "Requirement already satisfied: jinja2 in c:\\users\\admin\\appdata\\local\\packages\\pythonsoftwarefoundation.python.3.10_qbz5n2kfra8p0\\localcache\\local-packages\\python310\\site-packages (from torch) (3.1.3)\n",
      "Requirement already satisfied: fsspec in c:\\users\\admin\\appdata\\local\\packages\\pythonsoftwarefoundation.python.3.10_qbz5n2kfra8p0\\localcache\\local-packages\\python310\\site-packages (from torch) (2024.9.0)\n",
      "Requirement already satisfied: sympy==1.13.1 in c:\\users\\admin\\appdata\\local\\packages\\pythonsoftwarefoundation.python.3.10_qbz5n2kfra8p0\\localcache\\local-packages\\python310\\site-packages (from torch) (1.13.1)\n",
      "Requirement already satisfied: mpmath<1.4,>=1.1.0 in c:\\users\\admin\\appdata\\local\\packages\\pythonsoftwarefoundation.python.3.10_qbz5n2kfra8p0\\localcache\\local-packages\\python310\\site-packages (from sympy==1.13.1->torch) (1.3.0)\n",
      "Requirement already satisfied: MarkupSafe>=2.0 in c:\\users\\admin\\appdata\\local\\packages\\pythonsoftwarefoundation.python.3.10_qbz5n2kfra8p0\\localcache\\local-packages\\python310\\site-packages (from jinja2->torch) (2.1.5)\n",
      "Note: you may need to restart the kernel to use updated packages.\n"
     ]
    },
    {
     "name": "stderr",
     "output_type": "stream",
     "text": [
      "\n",
      "[notice] A new release of pip is available: 24.0 -> 24.2\n",
      "[notice] To update, run: C:\\Users\\ADMIN\\AppData\\Local\\Microsoft\\WindowsApps\\PythonSoftwareFoundation.Python.3.10_qbz5n2kfra8p0\\python.exe -m pip install --upgrade pip\n"
     ]
    }
   ],
   "source": [
    "pip install torch"
   ]
  },
  {
   "cell_type": "code",
   "execution_count": 2,
   "metadata": {
    "colab": {
     "base_uri": "https://localhost:8080/"
    },
    "id": "BN-dwl9byAi9",
    "outputId": "085e4c44-bb41-42a9-8dd9-87a3f7fc21fa"
   },
   "outputs": [
    {
     "name": "stdout",
     "output_type": "stream",
     "text": [
      "Requirement already satisfied: torch_geometric in c:\\users\\admin\\appdata\\local\\packages\\pythonsoftwarefoundation.python.3.10_qbz5n2kfra8p0\\localcache\\local-packages\\python310\\site-packages (2.6.1)\n",
      "Requirement already satisfied: aiohttp in c:\\users\\admin\\appdata\\local\\packages\\pythonsoftwarefoundation.python.3.10_qbz5n2kfra8p0\\localcache\\local-packages\\python310\\site-packages (from torch_geometric) (3.10.10)\n",
      "Requirement already satisfied: fsspec in c:\\users\\admin\\appdata\\local\\packages\\pythonsoftwarefoundation.python.3.10_qbz5n2kfra8p0\\localcache\\local-packages\\python310\\site-packages (from torch_geometric) (2024.9.0)\n",
      "Requirement already satisfied: jinja2 in c:\\users\\admin\\appdata\\local\\packages\\pythonsoftwarefoundation.python.3.10_qbz5n2kfra8p0\\localcache\\local-packages\\python310\\site-packages (from torch_geometric) (3.1.3)\n",
      "Requirement already satisfied: numpy in c:\\users\\admin\\appdata\\local\\packages\\pythonsoftwarefoundation.python.3.10_qbz5n2kfra8p0\\localcache\\local-packages\\python310\\site-packages (from torch_geometric) (1.26.4)\n",
      "Requirement already satisfied: psutil>=5.8.0 in c:\\users\\admin\\appdata\\local\\packages\\pythonsoftwarefoundation.python.3.10_qbz5n2kfra8p0\\localcache\\local-packages\\python310\\site-packages (from torch_geometric) (5.9.8)\n",
      "Requirement already satisfied: pyparsing in c:\\users\\admin\\appdata\\local\\packages\\pythonsoftwarefoundation.python.3.10_qbz5n2kfra8p0\\localcache\\local-packages\\python310\\site-packages (from torch_geometric) (3.1.2)\n",
      "Requirement already satisfied: requests in c:\\users\\admin\\appdata\\local\\packages\\pythonsoftwarefoundation.python.3.10_qbz5n2kfra8p0\\localcache\\local-packages\\python310\\site-packages (from torch_geometric) (2.32.3)\n",
      "Requirement already satisfied: tqdm in c:\\users\\admin\\appdata\\local\\packages\\pythonsoftwarefoundation.python.3.10_qbz5n2kfra8p0\\localcache\\local-packages\\python310\\site-packages (from torch_geometric) (4.66.5)\n",
      "Requirement already satisfied: aiohappyeyeballs>=2.3.0 in c:\\users\\admin\\appdata\\local\\packages\\pythonsoftwarefoundation.python.3.10_qbz5n2kfra8p0\\localcache\\local-packages\\python310\\site-packages (from aiohttp->torch_geometric) (2.4.3)\n",
      "Requirement already satisfied: aiosignal>=1.1.2 in c:\\users\\admin\\appdata\\local\\packages\\pythonsoftwarefoundation.python.3.10_qbz5n2kfra8p0\\localcache\\local-packages\\python310\\site-packages (from aiohttp->torch_geometric) (1.3.1)\n",
      "Requirement already satisfied: attrs>=17.3.0 in c:\\users\\admin\\appdata\\local\\packages\\pythonsoftwarefoundation.python.3.10_qbz5n2kfra8p0\\localcache\\local-packages\\python310\\site-packages (from aiohttp->torch_geometric) (23.2.0)\n",
      "Requirement already satisfied: frozenlist>=1.1.1 in c:\\users\\admin\\appdata\\local\\packages\\pythonsoftwarefoundation.python.3.10_qbz5n2kfra8p0\\localcache\\local-packages\\python310\\site-packages (from aiohttp->torch_geometric) (1.4.1)\n",
      "Requirement already satisfied: multidict<7.0,>=4.5 in c:\\users\\admin\\appdata\\local\\packages\\pythonsoftwarefoundation.python.3.10_qbz5n2kfra8p0\\localcache\\local-packages\\python310\\site-packages (from aiohttp->torch_geometric) (6.1.0)\n",
      "Requirement already satisfied: yarl<2.0,>=1.12.0 in c:\\users\\admin\\appdata\\local\\packages\\pythonsoftwarefoundation.python.3.10_qbz5n2kfra8p0\\localcache\\local-packages\\python310\\site-packages (from aiohttp->torch_geometric) (1.15.5)\n",
      "Requirement already satisfied: async-timeout<5.0,>=4.0 in c:\\users\\admin\\appdata\\local\\packages\\pythonsoftwarefoundation.python.3.10_qbz5n2kfra8p0\\localcache\\local-packages\\python310\\site-packages (from aiohttp->torch_geometric) (4.0.3)\n",
      "Requirement already satisfied: MarkupSafe>=2.0 in c:\\users\\admin\\appdata\\local\\packages\\pythonsoftwarefoundation.python.3.10_qbz5n2kfra8p0\\localcache\\local-packages\\python310\\site-packages (from jinja2->torch_geometric) (2.1.5)\n",
      "Requirement already satisfied: charset-normalizer<4,>=2 in c:\\users\\admin\\appdata\\local\\packages\\pythonsoftwarefoundation.python.3.10_qbz5n2kfra8p0\\localcache\\local-packages\\python310\\site-packages (from requests->torch_geometric) (3.3.2)\n",
      "Requirement already satisfied: idna<4,>=2.5 in c:\\users\\admin\\appdata\\local\\packages\\pythonsoftwarefoundation.python.3.10_qbz5n2kfra8p0\\localcache\\local-packages\\python310\\site-packages (from requests->torch_geometric) (3.7)\n",
      "Requirement already satisfied: urllib3<3,>=1.21.1 in c:\\users\\admin\\appdata\\local\\packages\\pythonsoftwarefoundation.python.3.10_qbz5n2kfra8p0\\localcache\\local-packages\\python310\\site-packages (from requests->torch_geometric) (2.2.1)\n",
      "Requirement already satisfied: certifi>=2017.4.17 in c:\\users\\admin\\appdata\\local\\packages\\pythonsoftwarefoundation.python.3.10_qbz5n2kfra8p0\\localcache\\local-packages\\python310\\site-packages (from requests->torch_geometric) (2024.6.2)\n",
      "Requirement already satisfied: colorama in c:\\users\\admin\\appdata\\local\\packages\\pythonsoftwarefoundation.python.3.10_qbz5n2kfra8p0\\localcache\\local-packages\\python310\\site-packages (from tqdm->torch_geometric) (0.4.6)\n",
      "Requirement already satisfied: typing-extensions>=4.1.0 in c:\\users\\admin\\appdata\\local\\packages\\pythonsoftwarefoundation.python.3.10_qbz5n2kfra8p0\\localcache\\local-packages\\python310\\site-packages (from multidict<7.0,>=4.5->aiohttp->torch_geometric) (4.11.0)\n",
      "Requirement already satisfied: propcache>=0.2.0 in c:\\users\\admin\\appdata\\local\\packages\\pythonsoftwarefoundation.python.3.10_qbz5n2kfra8p0\\localcache\\local-packages\\python310\\site-packages (from yarl<2.0,>=1.12.0->aiohttp->torch_geometric) (0.2.0)\n",
      "Note: you may need to restart the kernel to use updated packages.\n"
     ]
    },
    {
     "name": "stderr",
     "output_type": "stream",
     "text": [
      "\n",
      "[notice] A new release of pip is available: 24.0 -> 24.2\n",
      "[notice] To update, run: C:\\Users\\ADMIN\\AppData\\Local\\Microsoft\\WindowsApps\\PythonSoftwareFoundation.Python.3.10_qbz5n2kfra8p0\\python.exe -m pip install --upgrade pip\n"
     ]
    }
   ],
   "source": [
    "pip install torch_geometric"
   ]
  },
  {
   "cell_type": "code",
   "execution_count": 3,
   "metadata": {
    "id": "w5KiNPQe3REr"
   },
   "outputs": [],
   "source": [
    "%%capture\n",
    "!kaggle datasets download -d vitvhong/uplink-sum-rate\n",
    "!unzip uplink-sum-rate.zip -d ./uplink\n",
    "%cd uplink"
   ]
  },
  {
   "cell_type": "code",
   "execution_count": 4,
   "metadata": {
    "id": "wN6IrkF-yCm5"
   },
   "outputs": [],
   "source": [
    "import numpy as np\n",
    "import torch\n",
    "from torch_geometric.loader import  DataLoader\n",
    "from torch_geometric.data import HeteroData, Data, Dataset, Batch\n",
    "import torch.nn.functional as F\n",
    "from torch_geometric.nn import MessagePassing\n",
    "import torch.nn as nn\n",
    "from torch.nn import Sequential as Seq, Linear as Lin, ReLU, ELU, Sigmoid, BatchNorm1d as BN, ReLU6 as ReLU6\n",
    "import scipy.io\n",
    "from torch_geometric.nn import HeteroConv, SAGEConv\n",
    "import torch_geometric.nn as pyg_nn\n",
    "import torch_geometric.utils as pyg_utils"
   ]
  },
  {
   "cell_type": "code",
   "execution_count": 5,
   "metadata": {
    "id": "ocD0fKmFyEFm"
   },
   "outputs": [],
   "source": [
    "train_layouts = 5000\n",
    "test_layouts = 100"
   ]
  },
  {
   "cell_type": "code",
   "execution_count": null,
   "metadata": {
    "colab": {
     "base_uri": "https://localhost:8080/"
    },
    "id": "Ws7v3Vhd4zZj",
    "outputId": "165120af-3c33-426c-8aae-0f8f5de915b5"
   },
   "outputs": [
    {
     "name": "stdout",
     "output_type": "stream",
     "text": [
      "File 1:\n",
      "Beta shape: (5000, 30, 10)\n",
      "Direct shape: (5000, 10)\n",
      "Cross shape: (5000, 10, 10)\n",
      "\n",
      "File 2:\n",
      "Beta shape: (5000, 50, 20)\n",
      "Direct shape: (5000, 20)\n",
      "Cross shape: (5000, 20, 20)\n",
      "\n",
      "File 3:\n",
      "Beta shape: (5000, 70, 10)\n",
      "Direct shape: (5000, 10)\n",
      "Cross shape: (5000, 10, 10)\n",
      "\n",
      "File 4:\n",
      "Beta shape: (5000, 100, 20)\n",
      "Direct shape: (5000, 20)\n",
      "Cross shape: (5000, 20, 20)\n",
      "\n"
     ]
    }
   ],
   "source": [
    "import scipy.io\n",
    "import numpy as np\n",
    "\n",
    "# Danh sách tên các tệp .mat mà bạn muốn tải\n",
    "file_names = ['cf_train_20_50_sum.mat', 'cf_train_20_70_sum.mat', 'cf_train_20_100_sum.mat']\n",
    "\n",
    "# Khởi tạo danh sách để lưu trữ dữ liệu từ mỗi tệp\n",
    "data_list = []\n",
    "\n",
    "# Lặp qua từng tệp để tải dữ liệu\n",
    "for file_name in file_names:\n",
    "    # Tải dữ liệu từ tệp\n",
    "    data = scipy.io.loadmat(file_name)\n",
    "\n",
    "    # Lấy mẫu từ các biến\n",
    "    beta_samples = data['betas'][:train_layouts]\n",
    "    direct_samples = data['directs'][:train_layouts]\n",
    "    cross_samples = data['corsses'].transpose(0, 2, 1)[:train_layouts]\n",
    "\n",
    "    # Lưu trữ dữ liệu vào từ điển\n",
    "    data_list.append({\n",
    "        'beta': beta_samples,\n",
    "        'direct': direct_samples,\n",
    "        'cross': cross_samples\n",
    "    })\n",
    "\n",
    "# Bây giờ, data_list chứa dữ liệu từ tất cả các tệp, bạn có thể truy cập từng tệp như sau:\n",
    "for i, file_data in enumerate(data_list):\n",
    "    print(f\"File {i + 1}:\")\n",
    "    print(\"Beta shape:\", file_data['beta'].shape)\n",
    "    print(\"Direct shape:\", file_data['direct'].shape)\n",
    "    print(\"Cross shape:\", file_data['cross'].shape)\n",
    "    print()\n"
   ]
  },
  {
   "cell_type": "code",
   "execution_count": 7,
   "metadata": {
    "id": "M1bZtpGoyG0w"
   },
   "outputs": [],
   "source": [
    "test_data = scipy.io.loadmat('30_10.mat')\n",
    "beta_test = test_data['betas']\n",
    "direct_test = test_data['directs']\n",
    "cross_test = test_data['corsses'].transpose(0,2,1)\n",
    "opt_rates = test_data['R_cf_opt_min']"
   ]
  },
  {
   "cell_type": "code",
   "execution_count": 8,
   "metadata": {
    "colab": {
     "base_uri": "https://localhost:8080/"
    },
    "id": "Jep5QnBUyJM4",
    "outputId": "6d7b3a74-33c3-40df-fe4e-997b7ffb0d2b"
   },
   "outputs": [
    {
     "data": {
      "text/plain": [
       "12.72640071899708"
      ]
     },
     "execution_count": 8,
     "metadata": {},
     "output_type": "execute_result"
    }
   ],
   "source": [
    "np.mean(opt_rates)"
   ]
  },
  {
   "cell_type": "code",
   "execution_count": null,
   "metadata": {
    "id": "YI0k2njoyLDW"
   },
   "outputs": [],
   "source": [
    "def normalize_data(train_data,test_data):\n",
    "    train_std = np.std(train_data)\n",
    "    norm_train = (train_data)/train_std\n",
    "    norm_test = (test_data)/train_std\n",
    "    return norm_train, norm_test\n",
    "norm_train_losses_10_30, norm_test_losses = normalize_data(data_list[0]['beta']**(1/2), beta_test**(1/2) )\n",
    "norm_train_losses_20_50, _ = normalize_data(data_list[1]['beta']**(1/2), beta_test**(1/2) )\n",
    "norm_train_losses_20_70, _ = normalize_data(data_list[2]['beta']**(1/2), beta_test**(1/2) )\n",
    "norm_train_losses_20_100, _ = normalize_data(data_list[3]['beta']**(1/2), beta_test**(1/2) )"
   ]
  },
  {
   "cell_type": "code",
   "execution_count": 10,
   "metadata": {
    "id": "yX3cGgRWyMgm"
   },
   "outputs": [],
   "source": [
    "test_K, test_M = beta_test.shape[2], beta_test.shape[1]"
   ]
  },
  {
   "cell_type": "code",
   "execution_count": 11,
   "metadata": {
    "id": "lPHSzi7OyNmw"
   },
   "outputs": [],
   "source": [
    "class PCDataset(Dataset):\n",
    "    def __init__(self, norm_losses, direct, cross, KM):\n",
    "        self.norm_losses = norm_losses\n",
    "        self.direct = torch.tensor(direct, dtype=torch.float)\n",
    "        self.cross = torch.tensor(cross, dtype=torch.float)\n",
    "        self.KM = KM\n",
    "        self.get_cg()\n",
    "        self.process()\n",
    "\n",
    "    def build_graph(self, idx):\n",
    "        edge_feature = self.norm_losses[idx, :, :].reshape((self.KM[0] * self.KM[1], 1), order='F')\n",
    "        edge_feature = np.concatenate((edge_feature, np.ones_like(edge_feature)), axis=-1)\n",
    "        edge_feature = torch.tensor(edge_feature, dtype=torch.float)\n",
    "\n",
    "        edge_index = torch.tensor(self.adj, dtype=torch.long).t().contiguous()\n",
    "        edge_index_t = torch.tensor(self.adj_t, dtype=torch.long).t().contiguous()\n",
    "        ue_features = torch.ones((self.KM[0], 1))\n",
    "        ap_features = torch.ones((self.KM[1], 1))\n",
    "\n",
    "        data = HeteroData()\n",
    "        data['UE'].x = ue_features\n",
    "        data['AP'].x = ap_features\n",
    "        data['UE', 'com-by', 'AP'].edge_index = edge_index\n",
    "        data['UE', 'com-by', 'AP'].edge_attr = edge_feature\n",
    "        data['AP', 'com', 'UE'].edge_index = edge_index_t\n",
    "        data['AP', 'com', 'UE'].edge_attr = edge_feature\n",
    "\n",
    "        return data\n",
    "\n",
    "    def get_cg(self):\n",
    "        self.adj = []\n",
    "        self.adj_t = []\n",
    "        for i in range(self.KM[0]):\n",
    "            for j in range(self.KM[1]):\n",
    "                self.adj.append([i, j])\n",
    "                self.adj_t.append([j, i])\n",
    "\n",
    "    def process(self):\n",
    "        self.graph_list = [self.build_graph(i) for i in range(len(self.direct))]\n",
    "\n",
    "    def __len__(self):\n",
    "        return len(self.direct)\n",
    "\n",
    "    def __getitem__(self, index):\n",
    "        return self.graph_list[index], self.direct[index], self.cross[index]"
   ]
  },
  {
   "cell_type": "code",
   "execution_count": 12,
   "metadata": {
    "id": "DX78nRLJyPxZ"
   },
   "outputs": [],
   "source": [
    "def collate(samples):\n",
    "    '''Pytorch Geometric collate function'''\n",
    "    graphs, direct, cross = map(list, zip(*samples))\n",
    "    batched_graph = Batch.from_data_list(graphs)\n",
    "    return batched_graph, torch.stack(direct), torch.stack(cross)"
   ]
  },
  {
   "cell_type": "code",
   "execution_count": 13,
   "metadata": {
    "id": "ajNm1lXCyScT"
   },
   "outputs": [],
   "source": [
    "test_data = PCDataset(norm_test_losses, direct_test, cross_test, (test_K, test_M))"
   ]
  },
  {
   "cell_type": "code",
   "execution_count": null,
   "metadata": {
    "id": "hniVi3Z15ILD"
   },
   "outputs": [],
   "source": [
    "train_data_10_30 = PCDataset(norm_train_losses_10_30, data_list[0]['direct'], data_list[0]['cross'], (10, 30))\n",
    "train_data_20_50 = PCDataset(norm_train_losses_20_50, data_list[1]['direct'], data_list[1]['cross'], (20, 50))\n",
    "train_data_10_70 = PCDataset(norm_train_losses_20_70, data_list[2]['direct'], data_list[2]['cross'], (20, 70))\n",
    "train_data_20_100 = PCDataset(norm_train_losses_20_100, data_list[3]['direct'], data_list[3]['cross'], (20, 100))"
   ]
  },
  {
   "cell_type": "code",
   "execution_count": null,
   "metadata": {
    "id": "Y7hZPV-zyV0T"
   },
   "outputs": [],
   "source": [
    "batch_size = 64\n",
    "test_loader = DataLoader(test_data, test_layouts, shuffle=False, collate_fn=collate)\n",
    "train_loader_10_30 = DataLoader(train_data_10_30, batch_size, shuffle=True, collate_fn=collate)\n",
    "train_loader_20_50 = DataLoader(train_data_20_50, batch_size, shuffle=True, collate_fn=collate)\n",
    "train_loader_20_70 = DataLoader(train_data_10_70, batch_size, shuffle=True, collate_fn=collate)\n",
    "train_loader_20_100 = DataLoader(train_data_20_100, batch_size, shuffle=True, collate_fn=collate)"
   ]
  },
  {
   "cell_type": "code",
   "execution_count": 16,
   "metadata": {
    "id": "hAnvUvt9yXFM"
   },
   "outputs": [],
   "source": [
    "def sum_rate_loss(allocs, directlink_channel_losses, crosslink_channel_losses, test_mode = False):\n",
    "    SINRs_numerators = allocs * directlink_channel_losses**2\n",
    "    SINRs_denominators = torch.squeeze(torch.matmul(crosslink_channel_losses, torch.unsqueeze(allocs, axis=-1))) + directlink_channel_losses\n",
    "    SINRs = SINRs_numerators / SINRs_denominators\n",
    "    rates = torch.log2(1 + SINRs)\n",
    "    min_rate = torch.sum(rates, dim = 1) # take sum\n",
    "    if test_mode:\n",
    "        return min_rate\n",
    "    else:\n",
    "        return -torch.mean(min_rate)"
   ]
  },
  {
   "cell_type": "code",
   "execution_count": 17,
   "metadata": {
    "id": "Gzm7vhUIyYRM"
   },
   "outputs": [],
   "source": [
    "def MLP(channels, batch_norm=True):\n",
    "    return Seq(*[\n",
    "        Seq(Lin(channels[i - 1], channels[i]), ReLU(), BN(channels[i]))\n",
    "        for i in range(1, len(channels))\n",
    "    ])\n",
    "class EdgeConv(MessagePassing):\n",
    "    def __init__(self, input_dim, node_dim, **kwargs):\n",
    "        super(EdgeConv, self).__init__(aggr='mean')  # mean aggregation\n",
    "        self.lin = MLP([input_dim, 32])\n",
    "        self.res_lin = Lin(node_dim, 32)\n",
    "        self.bn = BN(32)\n",
    "\n",
    "    def forward(self, x, edge_index, edge_attr):\n",
    "\n",
    "        feat_src, feat_dst = x\n",
    "\n",
    "\n",
    "        out = self.propagate(edge_index=edge_index, x=(feat_src, feat_dst), edge_attr=edge_attr)\n",
    "\n",
    "\n",
    "        return self.bn(out + self.res_lin(feat_dst))\n",
    "\n",
    "    def message(self, x_j, x_i, edge_attr):\n",
    "        out = torch.cat([x_j, x_i, edge_attr], dim=1)\n",
    "        return self.lin(out)\n",
    "\n",
    "    def update(self, aggr_out):\n",
    "        return aggr_out\n",
    "\n"
   ]
  },
  {
   "cell_type": "code",
   "execution_count": 18,
   "metadata": {
    "id": "qeKAsO5uycPo"
   },
   "outputs": [],
   "source": [
    "class RGCN(nn.Module):\n",
    "    def __init__(self):\n",
    "        super(RGCN, self).__init__()\n",
    "        self.conv1 = HeteroConv({\n",
    "            ('UE', 'com-by', 'AP'): EdgeConv(4, 1),\n",
    "            ('AP', 'com', 'UE'): EdgeConv(4, 1)\n",
    "        }, aggr='sum')\n",
    "\n",
    "        self.conv2 = HeteroConv({\n",
    "            ('UE', 'com-by', 'AP'): EdgeConv(66, 32),\n",
    "            ('AP', 'com', 'UE'): EdgeConv(66, 32)\n",
    "        }, aggr='sum')\n",
    "\n",
    "        self.conv3 = HeteroConv({\n",
    "            ('UE', 'com-by', 'AP'): EdgeConv(66, 32),\n",
    "            ('AP', 'com', 'UE'): EdgeConv(66, 32)\n",
    "        }, aggr='sum')\n",
    "\n",
    "        self.mlp = MLP([32, 16])\n",
    "        self.mlp = nn.Sequential(*[self.mlp, Seq(Lin(16, 1), Sigmoid())])\n",
    "\n",
    "    def forward(self,x_dict, edge_index_dict, edge_attr_dict):\n",
    "        out = self.conv1(x_dict, edge_index_dict, edge_attr_dict)\n",
    "        out = self.conv2(out, edge_index_dict, edge_attr_dict)\n",
    "        out = self.conv3(out, edge_index_dict, edge_attr_dict)\n",
    "        out = self.mlp(out['UE'])\n",
    "        return out\n"
   ]
  },
  {
   "cell_type": "code",
   "execution_count": 19,
   "metadata": {
    "id": "DEKf56HSydRG"
   },
   "outputs": [],
   "source": [
    "model = RGCN()\n",
    "\n",
    "optimizer = torch.optim.Adam(model.parameters(), lr=6e-5)\n",
    "scheduler = torch.optim.lr_scheduler.StepLR(optimizer, step_size=10, gamma=0.9)"
   ]
  },
  {
   "cell_type": "code",
   "execution_count": null,
   "metadata": {},
   "outputs": [],
   "source": [
    "def train_model(epoch, model, optimizer, train_loader):\n",
    "    \"\"\" Train for one epoch. \"\"\"\n",
    "    model.train()\n",
    "    loss_all = 0\n",
    "    for batch_idx, (data, d_train, c_train) in enumerate(train_loader):\n",
    "        K = d_train.shape[-1]\n",
    "        n = len(data['UE'].x)\n",
    "        bs = len(data['UE'].x) // K\n",
    "\n",
    "        optimizer.zero_grad()\n",
    "\n",
    "        # Lấy các đặc trưng nút từ từ điển x_dict\n",
    "        user_feats = data['AP'].x\n",
    "        item_feats = data['UE'].x\n",
    "        node_features = {'AP': user_feats, 'UE': item_feats}\n",
    "\n",
    "        # Truyền qua mô hình, bao gồm cả edge_attr_dict\n",
    "        output = model(node_features, data.edge_index_dict, data.edge_attr_dict).reshape(bs, -1)\n",
    "\n",
    "        # Tính loss và thực hiện backpropagation\n",
    "        loss = sum_rate_loss(output, d_train, c_train)\n",
    "        loss.backward()\n",
    "\n",
    "        loss_all += loss.item() * bs\n",
    "        optimizer.step()\n",
    "\n",
    "    return loss_all / len(train_loader.dataset)\n",
    "\n",
    "def test_model(loader, model):\n",
    "    model.eval()\n",
    "    correct = 0\n",
    "    with torch.no_grad():\n",
    "        for (data, d_test, c_test) in loader:\n",
    "            K = d_test.shape[-1]\n",
    "            n = len(data['UE'].x)\n",
    "            bs = len(data['UE'].x) // K\n",
    "\n",
    "            # Lấy các đặc trưng nút từ từ điển x_dict\n",
    "            user_feats = data['AP'].x\n",
    "            item_feats = data['UE'].x\n",
    "            # Create a dictionary for node features\n",
    "            node_features = {'AP': user_feats, 'UE': item_feats}\n",
    "\n",
    "            output = model(node_features, data.edge_index_dict, data.edge_attr_dict).reshape(bs, -1)\n",
    "\n",
    "            # Tính loss\n",
    "            loss = sum_rate_loss(output, d_test, c_test)\n",
    "            correct += loss.item() * bs\n",
    "\n",
    "    return correct / len(loader.dataset)"
   ]
  },
  {
   "cell_type": "code",
   "execution_count": null,
   "metadata": {
    "colab": {
     "base_uri": "https://localhost:8080/"
    },
    "id": "NzZkg2mY7jcr",
    "outputId": "b829203a-1d47-455e-d4b8-c1d72e7cd002"
   },
   "outputs": [
    {
     "name": "stdout",
     "output_type": "stream",
     "text": [
      "Epoch 000, Train Rate: -10.4253, Test Rate: -10.3175\n",
      "Epoch 001, Train Rate: -11.4873, Test Rate: -11.4836\n",
      "Epoch 002, Train Rate: -11.7386, Test Rate: -11.7523\n",
      "Epoch 003, Train Rate: -12.0122, Test Rate: -12.0332\n",
      "Epoch 004, Train Rate: -12.1344, Test Rate: -12.1650\n",
      "Epoch 005, Train Rate: -12.1755, Test Rate: -12.2090\n",
      "Epoch 006, Train Rate: -12.2300, Test Rate: -12.2534\n",
      "Epoch 007, Train Rate: -12.2956, Test Rate: -12.3283\n",
      "Epoch 008, Train Rate: -12.3248, Test Rate: -12.3553\n",
      "Epoch 009, Train Rate: -12.1493, Test Rate: -12.1902\n"
     ]
    }
   ],
   "source": [
    "record = []\n",
    "for epoch in range(0, 30):\n",
    "    if epoch % 1 == 0:\n",
    "        with torch.no_grad():\n",
    "            train_rate = test_model(train_loader_10_30, model)\n",
    "        print(f'Epoch {epoch:03d}, Train Rate: {train_rate:.4f}')\n",
    "        record.append(train_rate)\n",
    "\n",
    "    train_model(epoch, model, optimizer, train_loader_10_30)\n",
    "    scheduler.step()\n"
   ]
  },
  {
   "cell_type": "code",
   "execution_count": null,
   "metadata": {
    "colab": {
     "base_uri": "https://localhost:8080/"
    },
    "id": "DKfIfVrk7nlo",
    "outputId": "ede03203-9ed2-4874-d5af-362c0ae385c7"
   },
   "outputs": [
    {
     "name": "stdout",
     "output_type": "stream",
     "text": [
      "Epoch 000, Train Rate: -24.3976, Test Rate: -12.3897\n",
      "Epoch 001, Train Rate: -23.9537, Test Rate: -12.0969\n",
      "Epoch 002, Train Rate: -24.4831, Test Rate: -12.3342\n",
      "Epoch 003, Train Rate: -24.4686, Test Rate: -12.3855\n",
      "Epoch 004, Train Rate: -24.5785, Test Rate: -12.4484\n",
      "Epoch 005, Train Rate: -24.2212, Test Rate: -12.3147\n",
      "Epoch 006, Train Rate: -24.1711, Test Rate: -11.9932\n",
      "Epoch 007, Train Rate: -23.8728, Test Rate: -11.7351\n",
      "Epoch 008, Train Rate: -24.5917, Test Rate: -12.4395\n",
      "Epoch 009, Train Rate: -24.4903, Test Rate: -12.3765\n"
     ]
    }
   ],
   "source": [
    "record = []\n",
    "for epoch in range(0, 30):\n",
    "    if epoch % 1 == 0:\n",
    "        with torch.no_grad():\n",
    "            train_rate = test_model(train_loader_20_50, model)\n",
    "        print(f'Epoch {epoch:03d}, Train Rate: {train_rate:.4f}')\n",
    "        record.append(train_rate)\n",
    "\n",
    "    train_model(epoch, model, optimizer, train_loader_20_50)\n",
    "    scheduler.step()\n"
   ]
  },
  {
   "cell_type": "code",
   "execution_count": null,
   "metadata": {
    "colab": {
     "base_uri": "https://localhost:8080/"
    },
    "id": "28NFazY37GnU",
    "outputId": "f62649e8-0f05-49a3-8e8a-51a3ec8d7a11"
   },
   "outputs": [
    {
     "name": "stdout",
     "output_type": "stream",
     "text": [
      "Epoch 000, Train Rate: -18.2169, Test Rate: -12.1619\n",
      "Epoch 001, Train Rate: -18.3632, Test Rate: -12.3500\n",
      "Epoch 002, Train Rate: -18.3354, Test Rate: -12.3875\n",
      "Epoch 003, Train Rate: -18.4178, Test Rate: -12.3399\n",
      "Epoch 004, Train Rate: -18.4589, Test Rate: -12.4854\n",
      "Epoch 005, Train Rate: -18.4552, Test Rate: -12.4797\n",
      "Epoch 006, Train Rate: -18.3583, Test Rate: -12.3905\n",
      "Epoch 007, Train Rate: -18.4628, Test Rate: -12.4163\n",
      "Epoch 008, Train Rate: -18.2975, Test Rate: -12.0955\n",
      "Epoch 009, Train Rate: -18.1952, Test Rate: -11.8459\n"
     ]
    }
   ],
   "source": [
    "record = []\n",
    "for epoch in range(0, 30):\n",
    "    if epoch % 1 == 0:\n",
    "        with torch.no_grad():\n",
    "            train_rate = test_model(train_loader_20_70, model)\n",
    "        print(f'Epoch {epoch:03d}, Train Rate: {train_rate:.4f}')\n",
    "        record.append(train_rate)\n",
    "\n",
    "    train_model(epoch, model, optimizer, train_loader_20_70)\n",
    "    scheduler.step()\n"
   ]
  },
  {
   "cell_type": "code",
   "execution_count": null,
   "metadata": {
    "colab": {
     "base_uri": "https://localhost:8080/"
    },
    "id": "zAgkroRDOQyJ",
    "outputId": "0e07fbf4-8a44-4818-91d8-33a10d44bd4d"
   },
   "outputs": [
    {
     "name": "stdout",
     "output_type": "stream",
     "text": [
      "Epoch 000, Train Rate: -35.1976, Test Rate: -12.3463\n",
      "Epoch 001, Train Rate: -35.1849, Test Rate: -12.4241\n",
      "Epoch 002, Train Rate: -35.2093, Test Rate: -12.4763\n",
      "Epoch 003, Train Rate: -35.0856, Test Rate: -12.3664\n",
      "Epoch 004, Train Rate: -35.1528, Test Rate: -12.3399\n",
      "Epoch 005, Train Rate: -35.2645, Test Rate: -12.3851\n",
      "Epoch 006, Train Rate: -35.2820, Test Rate: -12.3080\n",
      "Epoch 007, Train Rate: -35.2266, Test Rate: -12.2584\n",
      "Epoch 008, Train Rate: -34.9962, Test Rate: -12.1790\n",
      "Epoch 009, Train Rate: -35.3075, Test Rate: -12.4227\n"
     ]
    }
   ],
   "source": [
    "record = []\n",
    "for epoch in range(0, 30):\n",
    "    if epoch % 1 == 0:\n",
    "        with torch.no_grad():\n",
    "            train_rate = test_model(train_loader_20_100, model)\n",
    "        print(f'Epoch {epoch:03d}, Train Rate: {train_rate:.4f}')\n",
    "        record.append(train_rate)\n",
    "\n",
    "    train_model(epoch, model, optimizer, train_loader_20_100)\n",
    "    scheduler.step()\n"
   ]
  },
  {
   "cell_type": "markdown",
   "metadata": {
    "id": "jeHNowEAsNza"
   },
   "source": [
    "#HQGNN"
   ]
  },
  {
   "cell_type": "code",
   "execution_count": 32,
   "metadata": {
    "colab": {
     "base_uri": "https://localhost:8080/"
    },
    "id": "YmC6eTPmsMB1",
    "outputId": "e33d3a6e-abe4-4f29-cf44-752119f7eef9"
   },
   "outputs": [
    {
     "name": "stdout",
     "output_type": "stream",
     "text": [
      "Requirement already satisfied: pennylane in c:\\users\\admin\\appdata\\local\\packages\\pythonsoftwarefoundation.python.3.10_qbz5n2kfra8p0\\localcache\\local-packages\\python310\\site-packages (0.38.0)\n",
      "Requirement already satisfied: numpy<2.0 in c:\\users\\admin\\appdata\\local\\packages\\pythonsoftwarefoundation.python.3.10_qbz5n2kfra8p0\\localcache\\local-packages\\python310\\site-packages (from pennylane) (1.26.4)\n",
      "Requirement already satisfied: scipy in c:\\users\\admin\\appdata\\local\\packages\\pythonsoftwarefoundation.python.3.10_qbz5n2kfra8p0\\localcache\\local-packages\\python310\\site-packages (from pennylane) (1.13.1)\n",
      "Requirement already satisfied: networkx in c:\\users\\admin\\appdata\\local\\packages\\pythonsoftwarefoundation.python.3.10_qbz5n2kfra8p0\\localcache\\local-packages\\python310\\site-packages (from pennylane) (3.4.1)\n",
      "Requirement already satisfied: rustworkx>=0.14.0 in c:\\users\\admin\\appdata\\local\\packages\\pythonsoftwarefoundation.python.3.10_qbz5n2kfra8p0\\localcache\\local-packages\\python310\\site-packages (from pennylane) (0.15.1)\n",
      "Requirement already satisfied: autograd in c:\\users\\admin\\appdata\\local\\packages\\pythonsoftwarefoundation.python.3.10_qbz5n2kfra8p0\\localcache\\local-packages\\python310\\site-packages (from pennylane) (1.7.0)\n",
      "Requirement already satisfied: toml in c:\\users\\admin\\appdata\\local\\packages\\pythonsoftwarefoundation.python.3.10_qbz5n2kfra8p0\\localcache\\local-packages\\python310\\site-packages (from pennylane) (0.10.2)\n",
      "Requirement already satisfied: appdirs in c:\\users\\admin\\appdata\\local\\packages\\pythonsoftwarefoundation.python.3.10_qbz5n2kfra8p0\\localcache\\local-packages\\python310\\site-packages (from pennylane) (1.4.4)\n",
      "Requirement already satisfied: autoray>=0.6.11 in c:\\users\\admin\\appdata\\local\\packages\\pythonsoftwarefoundation.python.3.10_qbz5n2kfra8p0\\localcache\\local-packages\\python310\\site-packages (from pennylane) (0.6.12)\n",
      "Requirement already satisfied: cachetools in c:\\users\\admin\\appdata\\local\\packages\\pythonsoftwarefoundation.python.3.10_qbz5n2kfra8p0\\localcache\\local-packages\\python310\\site-packages (from pennylane) (5.5.0)\n",
      "Requirement already satisfied: pennylane-lightning>=0.38 in c:\\users\\admin\\appdata\\local\\packages\\pythonsoftwarefoundation.python.3.10_qbz5n2kfra8p0\\localcache\\local-packages\\python310\\site-packages (from pennylane) (0.38.0)\n",
      "Requirement already satisfied: requests in c:\\users\\admin\\appdata\\local\\packages\\pythonsoftwarefoundation.python.3.10_qbz5n2kfra8p0\\localcache\\local-packages\\python310\\site-packages (from pennylane) (2.32.3)\n",
      "Requirement already satisfied: typing-extensions in c:\\users\\admin\\appdata\\local\\packages\\pythonsoftwarefoundation.python.3.10_qbz5n2kfra8p0\\localcache\\local-packages\\python310\\site-packages (from pennylane) (4.11.0)\n",
      "Requirement already satisfied: packaging in c:\\users\\admin\\appdata\\local\\packages\\pythonsoftwarefoundation.python.3.10_qbz5n2kfra8p0\\localcache\\local-packages\\python310\\site-packages (from pennylane) (24.0)\n",
      "Requirement already satisfied: charset-normalizer<4,>=2 in c:\\users\\admin\\appdata\\local\\packages\\pythonsoftwarefoundation.python.3.10_qbz5n2kfra8p0\\localcache\\local-packages\\python310\\site-packages (from requests->pennylane) (3.3.2)\n",
      "Requirement already satisfied: idna<4,>=2.5 in c:\\users\\admin\\appdata\\local\\packages\\pythonsoftwarefoundation.python.3.10_qbz5n2kfra8p0\\localcache\\local-packages\\python310\\site-packages (from requests->pennylane) (3.7)\n",
      "Requirement already satisfied: urllib3<3,>=1.21.1 in c:\\users\\admin\\appdata\\local\\packages\\pythonsoftwarefoundation.python.3.10_qbz5n2kfra8p0\\localcache\\local-packages\\python310\\site-packages (from requests->pennylane) (2.2.1)\n",
      "Requirement already satisfied: certifi>=2017.4.17 in c:\\users\\admin\\appdata\\local\\packages\\pythonsoftwarefoundation.python.3.10_qbz5n2kfra8p0\\localcache\\local-packages\\python310\\site-packages (from requests->pennylane) (2024.6.2)\n",
      "Note: you may need to restart the kernel to use updated packages.\n"
     ]
    },
    {
     "name": "stderr",
     "output_type": "stream",
     "text": [
      "\n",
      "[notice] A new release of pip is available: 24.0 -> 24.2\n",
      "[notice] To update, run: C:\\Users\\ADMIN\\AppData\\Local\\Microsoft\\WindowsApps\\PythonSoftwareFoundation.Python.3.10_qbz5n2kfra8p0\\python.exe -m pip install --upgrade pip\n"
     ]
    }
   ],
   "source": [
    "pip install pennylane"
   ]
  },
  {
   "cell_type": "code",
   "execution_count": 37,
   "metadata": {
    "id": "vL4eUlonsft3"
   },
   "outputs": [],
   "source": [
    "import pennylane as qml\n",
    "from pennylane import numpy as np\n",
    "\n",
    "n_qubits = 5\n",
    "dev = qml.device('default.qubit', wires=n_qubits)\n"
   ]
  },
  {
   "cell_type": "code",
   "execution_count": null,
   "metadata": {
    "id": "NIGzxSuns7cY"
   },
   "outputs": [],
   "source": [
    "n_layers_circuit_X = 2\n",
    "def circuit_X_entangling(weights, n_qubits):\n",
    "    qml.CRX(weights[-1], wires=[n_qubits-1, 0])\n",
    "    for i in range(n_qubits-1):\n",
    "        qml.CRX(weights[i], wires=[i, (i+1)])\n",
    "\n",
    "@qml.qnode(dev, interface='torch')\n",
    "def circuit_X(inputs, layer_weights):\n",
    "    qml.AmplitudeEmbedding(features=inputs, wires=range(n_qubits), normalize=True, pad_with=0.)\n",
    "    for l in range(n_layers_circuit_X):\n",
    "        circuit_X_entangling(layer_weights[l], n_qubits)\n",
    "    return qml.probs(wires=range(n_qubits))\n",
    "weight_shapes_circuit_X = { \"layer_weights\": (n_layers_circuit_X, n_qubits)}"
   ]
  },
  {
   "cell_type": "code",
   "execution_count": null,
   "metadata": {
    "id": "VzbGEZvctGjN"
   },
   "outputs": [],
   "source": [
    "n_layers_circuit_Z = 2\n",
    "def circuit_Z_entangling(weights, n_qubits):\n",
    "    qml.CRZ(weights[-1], wires=[n_qubits - 1, 0])\n",
    "    for i in range(n_qubits - 1):\n",
    "        qml.CRZ(weights[i], wires=[i, i + 1])\n",
    "\n",
    "@qml.qnode(dev, interface='torch')\n",
    "def circuit_Z(inputs, layer_weights):\n",
    "    qml.AmplitudeEmbedding(features=inputs, wires=range(n_qubits), normalize=True, pad_with=0.)\n",
    "    for l in range(n_layers_circuit_Z):\n",
    "        circuit_Z_entangling(layer_weights[l], n_qubits)\n",
    "    return qml.probs(wires=range(n_qubits))\n",
    "weight_shapes_circuit_Z = { \"layer_weights\": (n_layers_circuit_Z, n_qubits)}"
   ]
  },
  {
   "cell_type": "code",
   "execution_count": null,
   "metadata": {
    "id": "TYp7bavltJur"
   },
   "outputs": [],
   "source": [
    "def MLP(channels, batch_norm=True):\n",
    "    return Seq(*[\n",
    "        Seq(Lin(channels[i - 1], channels[i]), ReLU(), BN(channels[i]))\n",
    "        for i in range(1, len(channels))\n",
    "    ])\n",
    "class Q_layer(MessagePassing):\n",
    "    def __init__(self,src_dim, dst_dim, edge_dim, **kwargs):\n",
    "        super(Q_layer, self).__init__(aggr='mean')  # mean aggregation\n",
    "        self.lin_res = qml.qnn.TorchLayer(circuit_Z, weight_shapes_circuit_Z)\n",
    "        self.lin_qml = qml.qnn.TorchLayer(circuit_X, weight_shapes_circuit_X)\n",
    "        self.in_linear = nn.Linear(src_dim + dst_dim + edge_dim, 2 ** n_qubits)\n",
    "        self.bn = BN(2 ** n_qubits)\n",
    "\n",
    "    def forward(self, x, edge_index, edge_attr):\n",
    "        feat_src, feat_dst = x\n",
    "        out = self.propagate(edge_index=edge_index, x=(feat_src, feat_dst), edge_attr=edge_attr)\n",
    "        out = out + self.lin_res(feat_dst)\n",
    "        return self.bn(out)\n",
    "\n",
    "    def message(self, x_j, x_i, edge_attr):\n",
    "        out = torch.cat([x_j, x_i, edge_attr], dim=1)\n",
    "        out = self.in_linear(out)\n",
    "        out = self.lin_qml(out)\n",
    "        return out\n",
    "\n",
    "    def update(self, aggr_out):\n",
    "        return aggr_out"
   ]
  },
  {
   "cell_type": "code",
   "execution_count": null,
   "metadata": {
    "id": "YxbKRpHCtNP5"
   },
   "outputs": [],
   "source": [
    "class RGCN_Hybrid_mid(nn.Module):\n",
    "    def __init__(self):\n",
    "        super(RGCN_Hybrid_mid, self).__init__()\n",
    "        out_dim = 2**n_qubits\n",
    "        edge_dim = 2\n",
    "\n",
    "        self.conv1 = HeteroConv({\n",
    "            ('UE', 'com-by', 'AP'): Q_layer(1, 1, edge_dim),\n",
    "            ('AP', 'com', 'UE'): Q_layer(1, 1, edge_dim,)\n",
    "        }, aggr='mean')\n",
    "\n",
    "        self.conv2 = HeteroConv({\n",
    "            ('UE', 'com-by', 'AP'): Q_layer(out_dim, out_dim, edge_dim),\n",
    "            ('AP', 'com', 'UE'): Q_layer(out_dim, out_dim, edge_dim)\n",
    "        }, aggr='mean')\n",
    "\n",
    "        self.conv3 = HeteroConv({\n",
    "             ('UE', 'com-by', 'AP'): Q_layer(out_dim, out_dim, edge_dim),\n",
    "             ('AP', 'com', 'UE'): Q_layer(out_dim, out_dim, edge_dim)\n",
    "         }, aggr='mean')\n",
    "\n",
    "\n",
    "        self.mlp = MLP([32, 16])\n",
    "        self.mlp = nn.Sequential(*[self.mlp, Seq(Lin(16, 1), Sigmoid())])\n",
    "    def forward(self, x_dict, edge_index_dict, edge_attr_dict):\n",
    "        out = self.conv1(x_dict, edge_index_dict, edge_attr_dict)\n",
    "        out = self.conv2(out, edge_index_dict, edge_attr_dict)\n",
    "        out = self.conv3(out, edge_index_dict, edge_attr_dict)\n",
    "        out = self.mlp(out['UE'])\n",
    "        return out"
   ]
  },
  {
   "cell_type": "code",
   "execution_count": 42,
   "metadata": {
    "id": "b8JIFNR0tbzW"
   },
   "outputs": [],
   "source": [
    "model_qml_mid = RGCN_Hybrid_mid().to()\n",
    "\n",
    "optimizer_qml_mid = torch.optim.Adam(model_qml_mid.parameters(), lr=7e-5)\n",
    "scheduler_qml_mid = torch.optim.lr_scheduler.StepLR(optimizer_qml_mid, step_size=10, gamma=0.9)"
   ]
  },
  {
   "cell_type": "code",
   "execution_count": null,
   "metadata": {
    "colab": {
     "base_uri": "https://localhost:8080/"
    },
    "id": "_S9twaqzA0rN",
    "outputId": "8fc0c666-8233-4011-d665-148775382b17"
   },
   "outputs": [
    {
     "name": "stdout",
     "output_type": "stream",
     "text": [
      "Epoch 000, Train Rate: -10.4198, Test Rate: -10.3122\n",
      "Epoch 001, Train Rate: -10.4695, Test Rate: -10.3659\n",
      "Epoch 002, Train Rate: -11.2613, Test Rate: -11.2071\n",
      "Epoch 003, Train Rate: -11.4383, Test Rate: -11.4095\n",
      "Epoch 004, Train Rate: -11.5577, Test Rate: -11.5621\n",
      "Epoch 005, Train Rate: -11.6780, Test Rate: -11.7024\n",
      "Epoch 006, Train Rate: -11.7422, Test Rate: -11.7803\n",
      "Epoch 007, Train Rate: -11.8043, Test Rate: -11.8675\n",
      "Epoch 008, Train Rate: -11.8651, Test Rate: -11.9458\n",
      "Epoch 009, Train Rate: -11.9313, Test Rate: -12.0201\n"
     ]
    }
   ],
   "source": [
    "record = []\n",
    "for epoch in range(0, 30):\n",
    "    if epoch % 1 == 0:\n",
    "        with torch.no_grad():\n",
    "            train_rate = test_model(train_loader_10_30, model_qml_mid)\n",
    "        print(f'Epoch {epoch:03d}, Train Rate: {train_rate:.4f}')\n",
    "        record.append(train_rate)\n",
    "\n",
    "    train_model(epoch, model_qml_mid, optimizer_qml_mid, train_loader_10_30)\n",
    "    scheduler_qml_mid.step()"
   ]
  },
  {
   "cell_type": "code",
   "execution_count": null,
   "metadata": {
    "colab": {
     "base_uri": "https://localhost:8080/"
    },
    "id": "Y7v5vkjDCvNQ",
    "outputId": "feee5fb5-1320-4625-b345-4af8639c2905"
   },
   "outputs": [
    {
     "name": "stdout",
     "output_type": "stream",
     "text": [
      "Epoch 000, Train Rate: -23.3666, Test Rate: -12.0699\n",
      "Epoch 001, Train Rate: -23.5027, Test Rate: -12.0902\n",
      "Epoch 002, Train Rate: -23.5933, Test Rate: -12.1281\n",
      "Epoch 003, Train Rate: -23.7018, Test Rate: -12.1522\n",
      "Epoch 004, Train Rate: -23.7889, Test Rate: -12.1721\n",
      "Epoch 005, Train Rate: -23.9000, Test Rate: -12.1998\n",
      "Epoch 006, Train Rate: -23.9118, Test Rate: -12.1624\n",
      "Epoch 007, Train Rate: -24.0280, Test Rate: -12.2081\n",
      "Epoch 008, Train Rate: -23.9205, Test Rate: -12.1639\n",
      "Epoch 009, Train Rate: -24.2217, Test Rate: -12.3012\n"
     ]
    }
   ],
   "source": [
    "record = []\n",
    "for epoch in range(0, 30):\n",
    "    if epoch % 1 == 0:\n",
    "        with torch.no_grad():\n",
    "            train_rate = test_model(train_loader_20_50, model_qml_mid)\n",
    "        print(f'Epoch {epoch:03d}, Train Rate: {train_rate:.4f}')\n",
    "        record.append(train_rate)\n",
    "\n",
    "    train_model(epoch, model_qml_mid, optimizer_qml_mid, train_loader_20_50)\n",
    "    scheduler_qml_mid.step()"
   ]
  },
  {
   "cell_type": "code",
   "execution_count": null,
   "metadata": {
    "colab": {
     "base_uri": "https://localhost:8080/"
    },
    "id": "_cP5RZaaA4RN",
    "outputId": "1daf2baf-fe8b-4677-d4ea-ac0212bffbc3"
   },
   "outputs": [
    {
     "name": "stdout",
     "output_type": "stream",
     "text": [
      "Epoch 000, Train Rate: -18.0358, Test Rate: -12.2326\n",
      "Epoch 001, Train Rate: -18.1848, Test Rate: -12.2705\n",
      "Epoch 002, Train Rate: -18.1878, Test Rate: -12.2813\n",
      "Epoch 003, Train Rate: -18.2081, Test Rate: -12.2944\n",
      "Epoch 004, Train Rate: -18.1681, Test Rate: -12.2721\n",
      "Epoch 005, Train Rate: -18.1805, Test Rate: -12.2565\n",
      "Epoch 006, Train Rate: -18.1886, Test Rate: -12.2689\n",
      "Epoch 007, Train Rate: -18.2103, Test Rate: -12.2838\n",
      "Epoch 008, Train Rate: -18.2562, Test Rate: -12.3333\n",
      "Epoch 009, Train Rate: -18.2518, Test Rate: -12.3181\n"
     ]
    }
   ],
   "source": [
    "record = []\n",
    "for epoch in range(0, 30):\n",
    "    if epoch % 1 == 0:\n",
    "        with torch.no_grad():\n",
    "            train_rate = test_model(train_loader_20_70, model_qml_mid)\n",
    "        print(f'Epoch {epoch:03d}, Train Rate: {train_rate:.4f}')\n",
    "        record.append(train_rate)\n",
    "\n",
    "    train_model(epoch, model_qml_mid, optimizer_qml_mid, train_loader_20_70)\n",
    "    scheduler_qml_mid.step()"
   ]
  },
  {
   "cell_type": "code",
   "execution_count": null,
   "metadata": {
    "colab": {
     "base_uri": "https://localhost:8080/"
    },
    "id": "-sUC-RfAVaqW",
    "outputId": "7f842a94-7572-4646-fe88-d21b415abe95"
   },
   "outputs": [
    {
     "name": "stdout",
     "output_type": "stream",
     "text": [
      "Epoch 000, Train Rate: -34.6574, Test Rate: -12.3109\n",
      "Epoch 001, Train Rate: -34.2959, Test Rate: -12.1161\n",
      "Epoch 002, Train Rate: -34.4878, Test Rate: -12.1919\n",
      "Epoch 003, Train Rate: -34.6850, Test Rate: -12.2000\n",
      "Epoch 004, Train Rate: -34.9084, Test Rate: -12.2639\n",
      "Epoch 005, Train Rate: -34.8823, Test Rate: -12.2671\n",
      "Epoch 006, Train Rate: -34.9449, Test Rate: -12.2849\n",
      "Epoch 007, Train Rate: -35.0062, Test Rate: -12.2787\n",
      "Epoch 008, Train Rate: -34.9877, Test Rate: -12.2870\n",
      "Epoch 009, Train Rate: -34.4705, Test Rate: -12.1174\n"
     ]
    }
   ],
   "source": [
    "record = []\n",
    "for epoch in range(0, 30):\n",
    "    if epoch % 1 == 0:\n",
    "        with torch.no_grad():\n",
    "            train_rate = test_model(train_loader_20_100, model_qml_mid)\n",
    "        print(f'Epoch {epoch:03d}, Train Rate: {train_rate:.4f}')\n",
    "        record.append(train_rate)\n",
    "\n",
    "    train_model(epoch, model_qml_mid, optimizer_qml_mid, train_loader_20_100)\n",
    "    scheduler_qml_mid.step()"
   ]
  },
  {
   "cell_type": "code",
   "execution_count": null,
   "metadata": {},
   "outputs": [],
   "source": [
    "torch.save(model.state_dict(), 'model_sum.pth')\n",
    "torch.save(model_qml_mid.state_dict(), 'model_amplitude_sum.pth')"
   ]
  },
  {
   "cell_type": "code",
   "execution_count": null,
   "metadata": {},
   "outputs": [],
   "source": [
    "opt_20 = []\n",
    "qgnn_20 = []\n",
    "gnn_20 = []\n",
    "all_one_rates_20 = []\n",
    "for i in range(30,101,10):\n",
    "  open_file = str(i) + '_20.mat'\n",
    "  data = scipy.io.loadmat(open_file)\n",
    "  beta = data['betas']\n",
    "  direct = data['directs']\n",
    "  cross = data['corsses'].transpose(0,2,1)\n",
    "  opti = data['R_cf_opt_min']\n",
    "  opt_20.append(np.mean(opti))\n",
    "  _, norm_losses = normalize_data(beta**(1/2), beta**(1/2))\n",
    "  data = PCDataset(norm_losses, direct, cross, (20, i))\n",
    "  loader = DataLoader(data, 100, shuffle=False, collate_fn=collate)\n",
    "  for (data, d_test, c_test) in loader:\n",
    "    K = d_test.shape[-1]\n",
    "    n = len(data['UE'].x)\n",
    "    bs = len(data['UE'].x) // K\n",
    "\n",
    "    user_feats = data['AP'].x\n",
    "    item_feats = data['UE'].x\n",
    "    node_features = {'AP': user_feats, 'UE': item_feats}\n",
    "\n",
    "    output = model_qml_mid(node_features, data.edge_index_dict, data.edge_attr_dict).reshape(bs, -1)\n",
    "    output1 = model(node_features, data.edge_index_dict, data.edge_attr_dict).reshape(bs, -1)\n",
    "    full = torch.ones_like(output)\n",
    "    qgnn_rates = -sum_rate_loss(output, d_test, c_test).detach().numpy()\n",
    "    gnn_rates = -sum_rate_loss(output1, d_test, c_test).detach().numpy()\n",
    "    all_one = -sum_rate_loss(full, d_test, c_test).detach().numpy()\n",
    "  gnn_20.append(gnn_rates)\n",
    "  qgnn_20.append(qgnn_rates)\n",
    "  all_one_rates_20.append(all_one)\n",
    "\n",
    "import matplotlib.pyplot as plt\n",
    "\n",
    "\n",
    "plt.rcParams['mathtext.fontset'] = 'cm'\n",
    "plt.rcParams['font.family'] = 'STIXGeneral'\n",
    "plt.rcParams.update({'font.size': 12})\n",
    "\n",
    "\n",
    "fig, ax = plt.subplots(figsize=(6, 6), dpi=180)\n",
    "x_values = list(range(30, 101, 10))\n",
    "\n",
    "ax.plot(x_values, qgnn_20, label='HQGNN', linestyle=':', marker='o')  \n",
    "ax.plot(x_values, gnn_20, label='GNN', linestyle='--')\n",
    "ax.plot(x_values, opt_20, label='Optimization', linestyle='-') \n",
    "ax.plot(x_values, all_one_rates_20, label='Maximum Power', linestyle='-', marker='^')\n",
    "\n",
    "\n",
    "ax.set_xlabel('Number APs')\n",
    "ax.set_ylabel('Sum-rate')\n",
    "\n",
    "\n",
    "ax.legend()\n",
    "ax.grid()\n",
    "\n",
    "\n",
    "x1, x2, y1, y2 = 79, 81, 30.7, 31.7\n",
    "\n",
    "\n",
    "axins = ax.inset_axes([0.75, 0.3, 0.2, 0.2])\n",
    "\n",
    "\n",
    "axins.plot(x_values, qgnn_20, label='HQGNN', linestyle=':', marker='o')\n",
    "axins.plot(x_values, gnn_20, label='GNN', linestyle='--')\n",
    "axins.plot(x_values, opt_20, label='Optimization', linestyle='-')\n",
    "axins.plot(x_values, all_one_rates_20, label='Maximum Power', linestyle='-', marker='^')\n",
    "\n",
    "\n",
    "axins.set_xlim(x1, x2)\n",
    "axins.set_ylim(y1, y2)\n",
    "\n",
    "\n",
    "ax.indicate_inset_zoom(axins, edgecolor=\"black\")\n",
    "\n",
    "plt.show()\n"
   ]
  },
  {
   "cell_type": "markdown",
   "metadata": {},
   "source": [
    "# HQGNN Angle"
   ]
  },
  {
   "cell_type": "code",
   "execution_count": null,
   "metadata": {},
   "outputs": [],
   "source": [
    "n_layers_circuit_X2 = 4\n",
    "def circuit_X2_entangling(weights, n_qubits):\n",
    "    qml.CRX(weights[-1], wires=[n_qubits-1, 0])\n",
    "    for i in range(n_qubits-1):\n",
    "        qml.CRX(weights[i], wires=[i, (i+1)])\n",
    "@qml.qnode(dev, interface='torch')\n",
    "def circuit_X2(inputs, layer_weights):\n",
    "    qml.AngleEmbedding(features=inputs, wires=range(n_qubits))\n",
    "    for l in range(n_layers_circuit_X2):\n",
    "        circuit_X2_entangling(layer_weights[l], n_qubits)\n",
    "    return qml.probs(wires=range(n_qubits))\n",
    "weight_shapes_circuit_X2 = { \"layer_weights\": (n_layers_circuit_X2, n_qubits)}"
   ]
  },
  {
   "cell_type": "code",
   "execution_count": null,
   "metadata": {},
   "outputs": [],
   "source": [
    "n_layers_circuit_Z2 = 4\n",
    "def circuit_Z2_entangling(weights, n_qubits):\n",
    "    qml.CRZ(weights[-1], wires=[n_qubits - 1, 0])\n",
    "    for i in range(n_qubits - 1):\n",
    "        qml.CRZ(weights[i], wires=[i, i + 1])\n",
    "\n",
    "@qml.qnode(dev, interface='torch')\n",
    "def circuit_Z2(inputs, layer_weights):\n",
    "    qml.AngleEmbedding(features=inputs, wires=range(n_qubits))\n",
    "    for l in range(n_layers_circuit_Z2):\n",
    "        circuit_Z2_entangling(layer_weights[l], n_qubits)\n",
    "    return qml.probs(wires=range(n_qubits))\n",
    "weight_shapes_circuit_Z2 = { \"layer_weights\": (n_layers_circuit_Z2, n_qubits)}"
   ]
  },
  {
   "cell_type": "code",
   "execution_count": null,
   "metadata": {},
   "outputs": [],
   "source": [
    "def MLP(channels, batch_norm=True):\n",
    "    return Seq(*[\n",
    "        Seq(Lin(channels[i - 1], channels[i]), ReLU(), BN(channels[i]))\n",
    "        for i in range(1, len(channels))\n",
    "    ])\n",
    "class Q_layer_angle(MessagePassing):\n",
    "    def __init__(self,src_dim, dst_dim, edge_dim, out_dim, **kwargs):\n",
    "        super(Q_layer_angle, self).__init__(aggr='mean')  \n",
    "        self.lin_res = qml.qnn.TorchLayer(circuit_X2, weight_shapes_circuit_X2)\n",
    "        self.lin_qml = qml.qnn.TorchLayer(circuit_Z2, weight_shapes_circuit_Z2)\n",
    "        self.in_linear = nn.Linear(src_dim + dst_dim + edge_dim, out_dim)\n",
    "        self.linear = nn.Linear(dst_dim, n_qubits)\n",
    "        self.bn = BN(32)\n",
    "\n",
    "    def forward(self, x, edge_index, edge_attr):\n",
    "        feat_src, feat_dst = x\n",
    "        out = self.propagate(edge_index=edge_index, x=(feat_src, feat_dst), edge_attr=edge_attr)\n",
    "        out = out + self.lin_res(self.linear(feat_dst))\n",
    "        return self.bn(out)\n",
    "\n",
    "    def message(self, x_j, x_i, edge_attr):\n",
    "        out = torch.cat([x_j, x_i, edge_attr], dim=1)\n",
    "        out = self.in_linear(out)\n",
    "        out = self.lin_qml(out)\n",
    "        return out\n",
    "\n",
    "    def update(self, aggr_out):\n",
    "        return aggr_out"
   ]
  },
  {
   "cell_type": "code",
   "execution_count": null,
   "metadata": {},
   "outputs": [],
   "source": [
    "class RGCN_Hybrid_mid_angle(nn.Module):\n",
    "    def __init__(self):\n",
    "        super(RGCN_Hybrid_mid_angle, self).__init__()\n",
    "        out_dim = n_qubits\n",
    "        edge_dim = 2\n",
    "\n",
    "        self.conv1 = HeteroConv({\n",
    "            ('UE', 'com-by', 'AP'): Q_layer_angle(1, 1, edge_dim, out_dim),\n",
    "            ('AP', 'com', 'UE'): Q_layer_angle(1, 1, edge_dim,out_dim)\n",
    "        }, aggr='mean')\n",
    "\n",
    "        self.conv2 = HeteroConv({\n",
    "            ('UE', 'com-by', 'AP'): Q_layer_angle(32, 32, edge_dim, out_dim),\n",
    "            ('AP', 'com', 'UE'): Q_layer_angle(32, 32, edge_dim, out_dim)\n",
    "        }, aggr='mean')\n",
    "\n",
    "        self.conv3 = HeteroConv({\n",
    "             ('UE', 'com-by', 'AP'): Q_layer_angle(32, 32, edge_dim, out_dim),\n",
    "             ('AP', 'com', 'UE'): Q_layer_angle(32, 32, edge_dim, out_dim)\n",
    "         }, aggr='mean')\n",
    "\n",
    "        self.mlp = MLP([32, 16])\n",
    "        self.mlp = nn.Sequential(*[self.mlp, Seq(Lin(16, 1), Sigmoid())])\n",
    "    def forward(self, x_dict, edge_index_dict, edge_attr_dict):\n",
    "        out = self.conv1(x_dict, edge_index_dict, edge_attr_dict)\n",
    "        out = self.conv2(out, edge_index_dict, edge_attr_dict)\n",
    "        out = self.conv3(out, edge_index_dict, edge_attr_dict)\n",
    "        out = self.mlp(out['UE'])\n",
    "        return out"
   ]
  },
  {
   "cell_type": "code",
   "execution_count": null,
   "metadata": {},
   "outputs": [],
   "source": [
    "model_qml_mid_angle = RGCN_Hybrid_mid_angle().to()\n",
    "\n",
    "optimizer_qml_mid_angle = torch.optim.Adam(model_qml_mid_angle.parameters(), lr=5e-4)\n",
    "scheduler_qml_mid_angle = torch.optim.lr_scheduler.StepLR(optimizer_qml_mid_angle, step_size=10, gamma=0.4)\n",
    "trainable_params = sum(p.numel() for p in model_qml_mid_angle.parameters() if p.requires_grad)\n",
    "print(f\"Number of trainable parameters: {trainable_params}\")"
   ]
  },
  {
   "cell_type": "code",
   "execution_count": null,
   "metadata": {},
   "outputs": [],
   "source": [
    "record = []\n",
    "for epoch in range(0, 30):\n",
    "    if epoch % 1 == 0:\n",
    "        with torch.no_grad():\n",
    "            train_rate = test_model(train_loader_20_50, model_qml_mid_angle)\n",
    "        print(f'Epoch {epoch:03d}, Train Rate: {train_rate:.4f}')\n",
    "        record.append(train_rate)\n",
    "\n",
    "    train_model(epoch, model_qml_mid_angle, optimizer_qml_mid_angle, train_loader_20_50)\n",
    "    scheduler_qml_mid_angle.step()"
   ]
  },
  {
   "cell_type": "code",
   "execution_count": null,
   "metadata": {},
   "outputs": [],
   "source": [
    "record = []\n",
    "for epoch in range(0, 30):\n",
    "    if epoch % 1 == 0:\n",
    "        with torch.no_grad():\n",
    "            train_rate = test_model(train_loader_20_70, model_qml_mid_angle)\n",
    "        print(f'Epoch {epoch:03d}, Train Rate: {train_rate:.4f}')\n",
    "        record.append(train_rate)\n",
    "\n",
    "    train_model(epoch, model_qml_mid_angle, optimizer_qml_mid_angle, train_loader_20_70)\n",
    "    scheduler_qml_mid_angle.step()"
   ]
  },
  {
   "cell_type": "code",
   "execution_count": null,
   "metadata": {},
   "outputs": [],
   "source": [
    "record = []\n",
    "for epoch in range(0, 30):\n",
    "    if epoch % 1 == 0:\n",
    "        with torch.no_grad():\n",
    "            train_rate = test_model(train_loader_20_100, model_qml_mid_angle)\n",
    "        print(f'Epoch {epoch:03d}, Train Rate: {train_rate:.4f}')\n",
    "        record.append(train_rate)\n",
    "\n",
    "    train_model(epoch, model_qml_mid_angle, optimizer_qml_mid_angle, train_loader_20_100)\n",
    "    scheduler_qml_mid_angle.step()"
   ]
  },
  {
   "cell_type": "code",
   "execution_count": null,
   "metadata": {},
   "outputs": [],
   "source": [
    "torch.save(model_qml_mid_angle.state_dict(), 'model_angle_sum.pth')"
   ]
  },
  {
   "cell_type": "code",
   "execution_count": null,
   "metadata": {},
   "outputs": [],
   "source": [
    "# model.load_state_dict(torch.load('model_sum.pth'))\n",
    "# model_qml_mid.load_state_dict(torch.load('model_amp_sum.pth'))"
   ]
  },
  {
   "cell_type": "code",
   "execution_count": null,
   "metadata": {},
   "outputs": [],
   "source": [
    "angle_qgnn_20 = []\n",
    "opt_20 = []\n",
    "all_one_rates_20 = []\n",
    "random_rates = []\n",
    "for i in range(30,101,10):\n",
    "  open_file = str(i) + '_20.mat'\n",
    "  data = scipy.io.loadmat(open_file)\n",
    "  beta = data['betas']\n",
    "  direct = data['directs']\n",
    "  cross = data['corsses'].transpose(0,2,1)\n",
    "  opti = data['R_cf_opt_min']\n",
    "  opt_20.append(np.mean(opti))\n",
    "  _, norm_losses = normalize_data(beta**(1/2), beta**(1/2))\n",
    "  data = PCDataset(norm_losses, direct, cross, (20, i))\n",
    "  loader = DataLoader(data, 100, shuffle=False, collate_fn=collate)\n",
    "  for (data, d_test, c_test) in loader:\n",
    "    K = d_test.shape[-1]\n",
    "    n = len(data['UE'].x)\n",
    "    bs = len(data['UE'].x) // K\n",
    "\n",
    "    user_feats = data['AP'].x\n",
    "    item_feats = data['UE'].x\n",
    "    node_features = {'AP': user_feats, 'UE': item_feats}\n",
    "\n",
    "    output = model_qml_mid_angle(node_features, data.edge_index_dict, data.edge_attr_dict).reshape(bs, -1)\n",
    "    full = torch.ones_like(output)\n",
    "    random = torch.rand_like(output)\n",
    "    qgnn_rates = -sum_rate_loss(output, d_test, c_test).detach().numpy()\n",
    "    all_one = -sum_rate_loss(full, d_test, c_test).detach().numpy()\n",
    "    rand_rates = -sum_rate_loss(random, d_test, c_test).detach().numpy()\n",
    "    \n",
    "  \n",
    "  angle_qgnn_20.append(qgnn_rates)\n",
    "  all_one_rates_20.append(all_one)\n",
    "  random_rates.append(rand_rates)"
   ]
  },
  {
   "cell_type": "code",
   "execution_count": null,
   "metadata": {},
   "outputs": [],
   "source": [
    "import pandas as pd\n",
    "import matplotlib.pyplot as plt\n",
    "\n",
    "\n",
    "def count_parameters(model):\n",
    "    quantum_params = 0\n",
    "    classical_params = 0\n",
    "    for name, param in model.named_parameters():\n",
    "        if 'lin_qml' in name or 'lin_res' in name:  \n",
    "            quantum_params += param.numel()\n",
    "        else:  \n",
    "            classical_params += param.numel()\n",
    "    return quantum_params, classical_params\n",
    "\n",
    "models = {\n",
    "    \"GNN\": model,\n",
    "    \"HQGNN Amplitude\": model_qml_mid,\n",
    "    \"HQGNN Angle\": model_qml_mid_angle,\n",
    "}\n",
    "\n",
    "params_count = {\n",
    "    name: count_parameters(model)\n",
    "    for name, model in models.items()\n",
    "}\n",
    "\n",
    "\n",
    "\n",
    "avg_gnn_test_rates_amplitude = np.mean(qgnn_20)\n",
    "avg_gnn_test_rates = np.mean(gnn_20)\n",
    "opt_rates = np.mean(opt_20)\n",
    "avg_gnn_test_rates_angle = np.mean(angle_qgnn_20)\n",
    "    \n",
    "performance_percentages = {\n",
    "    \"GNN\": (avg_gnn_test_rates / opt_rates) * 100,\n",
    "    \"HQGNN Amplitude\": (avg_gnn_test_rates_amplitude / opt_rates) * 100,\n",
    "    \"HQGNN Angle\": (avg_gnn_test_rates_angle / opt_rates)*100,\n",
    "}\n",
    "\n",
    "\n",
    "data = {\n",
    "    \"Model\": [\"GNN\", \"HQGNN Amplitude\", \"HQGNN Angle\"],\n",
    "    \"Classical Parameters\": [params_count[\"GNN\"][1], params_count[\"HQGNN Amplitude\"][1], params_count[\"HQGNN Angle\"][1]],\n",
    "    \"Quantum Parameters\": [params_count[\"GNN\"][0], params_count[\"HQGNN Amplitude\"][0],params_count[\"HQGNN Angle\"][0]],\n",
    "    \"Total Parameters\": [params_count[\"GNN\"][0] + params_count[\"GNN\"][1],params_count[\"HQGNN Amplitude\"][0]+params_count[\"HQGNN Amplitude\"][1], params_count[\"HQGNN Angle\"][1] + params_count[\"HQGNN Angle\"][0]],\n",
    "    \"Performance (%)\": [performance_percentages[\"GNN\"], performance_percentages[\"HQGNN Amplitude\"], performance_percentages[\"HQGNN Angle\"]],\n",
    "}\n",
    "params_df = pd.DataFrame(data)\n",
    "\n",
    "\n",
    "fig, ax = plt.subplots(figsize=(8, 4))  \n",
    "ax.axis('tight')  \n",
    "ax.axis('off')  \n",
    "table = ax.table(cellText=params_df.values, colLabels=params_df.columns, loc='center', cellLoc='center')\n",
    "\n",
    "\n",
    "table.auto_set_font_size(False)\n",
    "table.set_fontsize(12)\n",
    "table.auto_set_column_width(col=list(range(len(params_df.columns))))\n",
    "\n",
    "for (row, col), cell in table.get_celld().items():\n",
    "    cell.set_linewidth(1.5)  # Độ dày đường kẻ\n",
    "    cell.set_height(0.3)    # Tăng chiều cao hàng\n",
    "    cell.set_width(0.25) \n",
    "\n",
    "# Hiển thị bảng\n",
    "plt.savefig(\"model_parameters_table_from_code.png\", dpi=300, bbox_inches='tight')\n",
    "plt.show()\n"
   ]
  },
  {
   "cell_type": "code",
   "execution_count": null,
   "metadata": {},
   "outputs": [],
   "source": [
    "import pandas as pd\n",
    "import matplotlib.pyplot as plt\n",
    "import numpy as np\n",
    "\n",
    "def count_parameters(model):\n",
    "    quantum_params = 0\n",
    "    classical_params = 0\n",
    "    for name, param in model.named_parameters():\n",
    "        if 'lin_qml' in name or 'lin_res' in name:  \n",
    "            quantum_params += param.numel()\n",
    "        else:  \n",
    "            classical_params += param.numel()\n",
    "    return quantum_params, classical_params\n",
    "\n",
    "# Models to analyze\n",
    "models = {\n",
    "    \"GNN\": model,\n",
    "    \"HQGNN Amplitude\": model_qml_mid,\n",
    "    \"HQGNN Angle\": model_qml_mid_angle,\n",
    "}\n",
    "\n",
    "# Compute parameter counts\n",
    "params_count = {\n",
    "    name: count_parameters(model)\n",
    "    for name, model in models.items()\n",
    "}\n",
    "\n",
    "# Performance metrics\n",
    "avg_gnn_test_rates = np.mean(gnn_20)\n",
    "avg_gnn_test_rates_amplitude = np.mean(qgnn_20)\n",
    "avg_gnn_test_rates_angle = np.mean(angle_qgnn_20)\n",
    "opt_rates = np.mean(opt_20)\n",
    "all_one_rates = np.mean(all_one_rates_20)\n",
    "rand_rates = np.mean(random_rates)\n",
    "\n",
    "performance_percentages = {\n",
    "    \"GNN\": (avg_gnn_test_rates / opt_rates) * 100,\n",
    "    \"HQGNN Amplitude\": (avg_gnn_test_rates_amplitude / opt_rates) * 100,\n",
    "    \"HQGNN Angle\": (avg_gnn_test_rates_angle / opt_rates) * 100,\n",
    "    \"Maximum Power\": (all_one_rates / opt_rates) * 100,\n",
    "    \"Random Power\": (rand_rates / opt_rates) * 100\n",
    "}\n",
    "\n",
    "# Combine data into a DataFrame\n",
    "data = {\n",
    "    \"Model\": [\"GNN\", \"HQGNN Amplitude\", \"HQGNN Angle\", \"Maximum Power\", \"Random Power\"],\n",
    "    \"Classical Parameters\": [\n",
    "        params_count[\"GNN\"][1], \n",
    "        params_count[\"HQGNN Amplitude\"][1], \n",
    "        params_count[\"HQGNN Angle\"][1], \n",
    "        0, \n",
    "        0\n",
    "    ],\n",
    "    \"Quantum Parameters\": [\n",
    "        params_count[\"GNN\"][0], \n",
    "        params_count[\"HQGNN Amplitude\"][0], \n",
    "        params_count[\"HQGNN Angle\"][0], \n",
    "        0, \n",
    "        0\n",
    "    ],\n",
    "    \"Total Parameters\": [\n",
    "        params_count[\"GNN\"][0] + params_count[\"GNN\"][1], \n",
    "        params_count[\"HQGNN Amplitude\"][0] + params_count[\"HQGNN Amplitude\"][1], \n",
    "        params_count[\"HQGNN Angle\"][0] + params_count[\"HQGNN Angle\"][1], \n",
    "        0, \n",
    "        0\n",
    "    ],\n",
    "    \"Performance (%)\": [\n",
    "        performance_percentages[\"GNN\"], \n",
    "        performance_percentages[\"HQGNN Amplitude\"], \n",
    "        performance_percentages[\"HQGNN Angle\"], \n",
    "        performance_percentages[\"Maximum Power\"], \n",
    "        performance_percentages[\"Random Power\"]\n",
    "    ],\n",
    "}\n",
    "\n",
    "params_df = pd.DataFrame(data)\n",
    "\n",
    "# Visualize the data as a table\n",
    "fig, ax = plt.subplots(figsize=(10, 5))\n",
    "ax.axis('tight')\n",
    "ax.axis('off')\n",
    "table = ax.table(cellText=params_df.values, colLabels=params_df.columns, loc='center', cellLoc='center')\n",
    "\n",
    "table.auto_set_font_size(False)\n",
    "table.set_fontsize(12)\n",
    "table.auto_set_column_width(col=list(range(len(params_df.columns))))\n",
    "\n",
    "for (row, col), cell in table.get_celld().items():\n",
    "    cell.set_linewidth(1.5)\n",
    "    cell.set_height(0.3)\n",
    "    cell.set_width(0.25)\n",
    "\n",
    "# Save and display the table\n",
    "plt.savefig(\"model_parameters_table_combined.png\", dpi=300, bbox_inches='tight')\n",
    "plt.show()\n",
    "\n",
    "import matplotlib.pyplot as plt\n",
    "\n",
    "\n",
    "plt.rcParams['mathtext.fontset'] = 'cm'\n",
    "plt.rcParams['font.family'] = 'STIXGeneral'\n",
    "plt.rcParams.update({'font.size': 12})\n",
    "\n",
    "\n",
    "fig, ax = plt.subplots(figsize=(6, 6), dpi=180)\n",
    "x_values = list(range(30, 101, 10))\n",
    "\n",
    "ax.plot(x_values, qgnn_20, label='HQGNN Amplitude', color='blue', linestyle=':', marker='o', markersize=5)  \n",
    "ax.plot(x_values, gnn_20, label='GNN', color='orange', linestyle='--', markersize=5)\n",
    "ax.plot(x_values, angle_qgnn_20, label='HQGNN Angle', color='green', linestyle='-', marker='x', markersize=5)\n",
    "ax.plot(x_values, opt_20, label='Optimization', color='red', linestyle='-')\n",
    "ax.plot(x_values, all_one_rates_20, label='Maximum Power', color='purple', marker='^', markersize=5)\n",
    "\n",
    "\n",
    "ax.set_xlabel('Number APs')\n",
    "ax.set_ylabel('Sum-rate')\n",
    "\n",
    "\n",
    "ax.legend()\n",
    "ax.grid()\n",
    "\n",
    "\n",
    "x1, x2, y1, y2 = 69, 71, 29, 30\n",
    "\n",
    "\n",
    "axins = ax.inset_axes([0.75, 0.3, 0.2, 0.2])\n",
    "\n",
    "\n",
    "axins.plot(x_values, qgnn_20, label='HQGNN Amplitude', linestyle=':', marker='o')\n",
    "axins.plot(x_values, gnn_20, label='GNN', linestyle='--')\n",
    "axins.plot(x_values, angle_qgnn_20, label='HQGNN Angle', marker='x')\n",
    "axins.plot(x_values, opt_20, label='Optimization', linestyle='-')\n",
    "axins.plot(x_values, all_one_rates_20, label='Maximum Power', linestyle='-', marker='^')\n",
    "\n",
    "\n",
    "axins.set_xlim(x1, x2)\n",
    "axins.set_ylim(y1, y2)\n",
    "\n",
    "\n",
    "ax.indicate_inset_zoom(axins, edgecolor=\"black\")\n",
    "\n",
    "plt.show()"
   ]
  }
 ],
 "metadata": {
  "colab": {
   "provenance": []
  },
  "kernelspec": {
   "display_name": "Python 3",
   "name": "python3"
  },
  "language_info": {
   "codemirror_mode": {
    "name": "ipython",
    "version": 3
   },
   "file_extension": ".py",
   "mimetype": "text/x-python",
   "name": "python",
   "nbconvert_exporter": "python",
   "pygments_lexer": "ipython3",
   "version": "3.10.11"
  }
 },
 "nbformat": 4,
 "nbformat_minor": 0
}
